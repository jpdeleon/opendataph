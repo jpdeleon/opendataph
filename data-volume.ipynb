{
 "cells": [
  {
   "cell_type": "markdown",
   "metadata": {},
   "source": [
    "### A rough scraper for opendataph data volume viz"
   ]
  },
  {
   "cell_type": "markdown",
   "metadata": {
    "extensions": {
     "jupyter_dashboards": {
      "version": 1,
      "views": {
       "grid_default": {
        "col": 0,
        "height": 4,
        "hidden": true,
        "row": 0,
        "width": 12
       },
       "report_default": {}
      }
     }
    }
   },
   "source": [
    "### What is Open Data PH?\n",
    "Open Data Philippines aims to make all open government data accessible through one single portal, data.gov.ph. Open Data Philippines collects datasets from different government agencies, allowing users to find specific data from a continuously growing collection of public datasets."
   ]
  },
  {
   "cell_type": "markdown",
   "metadata": {
    "extensions": {
     "jupyter_dashboards": {
      "version": 1,
      "views": {
       "grid_default": {
        "col": 4,
        "height": 4,
        "hidden": true,
        "row": 0,
        "width": 4
       },
       "report_default": {}
      }
     }
    }
   },
   "source": [
    "### Open Data FAQ\n",
    "https://www.gov.ph/data/about"
   ]
  },
  {
   "cell_type": "markdown",
   "metadata": {
    "extensions": {
     "jupyter_dashboards": {
      "version": 1,
      "views": {
       "grid_default": {
        "col": 0,
        "height": 8,
        "hidden": true,
        "row": 0,
        "width": 12
       },
       "report_default": {}
      }
     }
    }
   },
   "source": [
    "### Data Volume Scraper - Visualize number of data available for each topic\n",
    "* Open index - https://www.gov.ph/data/homepage\n",
    "* Scrape topics - Find relevant `field topics` via `href` tag\n",
    "* Extract field topics \n",
    "* Loop into each URL\n",
    "* Extract db/data tags\n",
    "* Download all `csv`, `xlxs`, `txt` files"
   ]
  },
  {
   "cell_type": "code",
   "execution_count": 1,
   "metadata": {
    "ExecuteTime": {
     "end_time": "2017-09-03T05:44:29.684284Z",
     "start_time": "2017-09-03T05:44:29.555373Z"
    }
   },
   "outputs": [
    {
     "name": "stdout",
     "output_type": "stream",
     "text": [
      "Python 2.7.13 :: Continuum Analytics, Inc.\r\n"
     ]
    }
   ],
   "source": [
    "!python --version"
   ]
  },
  {
   "cell_type": "code",
   "execution_count": 31,
   "metadata": {
    "ExecuteTime": {
     "end_time": "2017-09-03T06:03:30.629056Z",
     "start_time": "2017-09-03T06:03:30.620577Z"
    },
    "collapsed": true,
    "extensions": {
     "jupyter_dashboards": {
      "version": 1,
      "views": {
       "grid_default": {
        "hidden": true
       },
       "report_default": {}
      }
     }
    }
   },
   "outputs": [],
   "source": [
    "%matplotlib notebook"
   ]
  },
  {
   "cell_type": "markdown",
   "metadata": {
    "extensions": {
     "jupyter_dashboards": {
      "version": 1,
      "views": {
       "grid_default": {
        "col": 8,
        "height": 4,
        "hidden": true,
        "row": 0,
        "width": 4
       },
       "report_default": {}
      }
     }
    }
   },
   "source": [
    "Import packages"
   ]
  },
  {
   "cell_type": "code",
   "execution_count": 3,
   "metadata": {
    "ExecuteTime": {
     "end_time": "2017-09-03T05:44:30.647840Z",
     "start_time": "2017-09-03T05:44:30.164843Z"
    },
    "collapsed": true,
    "extensions": {
     "jupyter_dashboards": {
      "version": 1,
      "views": {
       "grid_default": {
        "hidden": true
       },
       "report_default": {}
      }
     }
    }
   },
   "outputs": [],
   "source": [
    "import urllib2\n",
    "import requests\n",
    "import numpy as np\n",
    "import regex as re\n",
    "import pandas as pd\n",
    "from bs4 import BeautifulSoup"
   ]
  },
  {
   "cell_type": "code",
   "execution_count": 4,
   "metadata": {
    "ExecuteTime": {
     "end_time": "2017-09-03T05:44:33.058091Z",
     "start_time": "2017-09-03T05:44:30.650163Z"
    },
    "extensions": {
     "jupyter_dashboards": {
      "version": 1,
      "views": {
       "grid_default": {
        "col": 0,
        "height": 14,
        "hidden": true,
        "row": 0,
        "width": 4
       },
       "report_default": {}
      }
     }
    },
    "scrolled": false
   },
   "outputs": [
    {
     "name": "stdout",
     "output_type": "stream",
     "text": [
      "Topic URL: https://www.gov.ph/data/search/field_topic/business-and-economics-44\n",
      "Topic URL: https://www.gov.ph/data/search/field_topic/crime-and-justice-45\n",
      "Topic URL: https://www.gov.ph/data/search/field_topic/defense-46\n",
      "Topic URL: https://www.gov.ph/data/search/field_topic/education-47\n",
      "Topic URL: https://www.gov.ph/data/search/field_topic/environment-48\n",
      "Topic URL: https://www.gov.ph/data/search/field_topic/government-49\n",
      "Topic URL: https://www.gov.ph/data/search/field_topic/government-spending-50\n",
      "Topic URL: https://www.gov.ph/data/search/field_topic/health-51\n",
      "Topic URL: https://www.gov.ph/data/search/field_topic/mapping-52\n",
      "Topic URL: https://www.gov.ph/data/search/field_topic/society-53\n",
      "Topic URL: https://www.gov.ph/data/search/field_topic/town-and-cities-54\n",
      "Topic URL: https://www.gov.ph/data/search/field_topic/transport-55\n"
     ]
    }
   ],
   "source": [
    "r = requests.get(\"https://www.gov.ph/data/homepage\")\n",
    "soup = BeautifulSoup(r.content)\n",
    "\n",
    "urls = []\n",
    "for span in soup.find_all(\"span\", class_=\"field-content\"):\n",
    "    for a in span.find_all('a', href=True):        \n",
    "        urls.append(a['href'])\n",
    "        print \"Topic URL:\", a['href']"
   ]
  },
  {
   "cell_type": "markdown",
   "metadata": {
    "extensions": {
     "jupyter_dashboards": {
      "version": 1,
      "views": {
       "grid_default": {
        "col": 4,
        "height": 4,
        "hidden": true,
        "row": 0,
        "width": 4
       },
       "report_default": {}
      }
     }
    }
   },
   "source": [
    "## OpenData PH Data Volume\n",
    "Data volume for each topic can be extracted from the url itself.\n",
    "- NB: Need to cross-ref topics for duplicates"
   ]
  },
  {
   "cell_type": "code",
   "execution_count": 5,
   "metadata": {
    "ExecuteTime": {
     "end_time": "2017-09-03T05:44:33.082438Z",
     "start_time": "2017-09-03T05:44:33.060206Z"
    },
    "extensions": {
     "jupyter_dashboards": {
      "version": 1,
      "views": {
       "grid_default": {
        "col": 8,
        "height": 4,
        "hidden": true,
        "row": 0,
        "width": 4
       },
       "report_default": {}
      }
     }
    }
   },
   "outputs": [
    {
     "data": {
      "text/plain": [
       "([44, 45, 46, 47, 48, 49, 50, 51, 52, 53, 54, 55],\n",
       " ['business-and-economics-44',\n",
       "  'crime-and-justice-45',\n",
       "  'defense-46',\n",
       "  'education-47',\n",
       "  'environment-48',\n",
       "  'government-49',\n",
       "  'government-spending-50',\n",
       "  'health-51',\n",
       "  'mapping-52',\n",
       "  'society-53',\n",
       "  'town-and-cities-54',\n",
       "  'transport-55'])"
      ]
     },
     "execution_count": 5,
     "metadata": {},
     "output_type": "execute_result"
    }
   ],
   "source": [
    "string_urls = np.asarray(urls)\n",
    "volume = []\n",
    "fields = []\n",
    "for fstring in string_urls:\n",
    "    fstr = fstring.split('/')[-1]\n",
    "    vol = re.search(r'\\d+$', fstring)\n",
    "    volume.append(vol.group())\n",
    "    fields.append(fstr)\n",
    "volume = map(int, volume)\n",
    "volume, fields\n"
   ]
  },
  {
   "cell_type": "code",
   "execution_count": 6,
   "metadata": {
    "ExecuteTime": {
     "end_time": "2017-09-03T05:44:33.090458Z",
     "start_time": "2017-09-03T05:44:33.084702Z"
    },
    "collapsed": true,
    "extensions": {
     "jupyter_dashboards": {
      "version": 1,
      "views": {
       "grid_default": {
        "hidden": true
       },
       "report_default": {}
      }
     }
    }
   },
   "outputs": [],
   "source": [
    "data = {'Topics': {'BE': volume[0], 'CJ': volume[1], 'DEF': volume[2],\n",
    "                    'EDUC': volume[3], 'ENV': volume[4], 'GOV': volume[5], \n",
    "                    'GS': volume[6], 'HLTH': volume[7], 'MAP': volume[8],\n",
    "                   'SOC': volume[9],  'TC': volume[10],  'TRANS': volume[11]}}"
   ]
  },
  {
   "cell_type": "code",
   "execution_count": 7,
   "metadata": {
    "ExecuteTime": {
     "end_time": "2017-09-03T05:44:33.115309Z",
     "start_time": "2017-09-03T05:44:33.092299Z"
    },
    "extensions": {
     "jupyter_dashboards": {
      "version": 1,
      "views": {
       "grid_default": {
        "col": 2,
        "height": 12,
        "hidden": false,
        "row": 0,
        "width": 2
       },
       "report_default": {}
      }
     }
    }
   },
   "outputs": [
    {
     "data": {
      "text/html": [
       "<div>\n",
       "<style>\n",
       "    .dataframe thead tr:only-child th {\n",
       "        text-align: right;\n",
       "    }\n",
       "\n",
       "    .dataframe thead th {\n",
       "        text-align: left;\n",
       "    }\n",
       "\n",
       "    .dataframe tbody tr th {\n",
       "        vertical-align: top;\n",
       "    }\n",
       "</style>\n",
       "<table border=\"1\" class=\"dataframe\">\n",
       "  <thead>\n",
       "    <tr style=\"text-align: right;\">\n",
       "      <th></th>\n",
       "      <th>Topics</th>\n",
       "    </tr>\n",
       "  </thead>\n",
       "  <tbody>\n",
       "    <tr>\n",
       "      <th>BE</th>\n",
       "      <td>44</td>\n",
       "    </tr>\n",
       "    <tr>\n",
       "      <th>CJ</th>\n",
       "      <td>45</td>\n",
       "    </tr>\n",
       "    <tr>\n",
       "      <th>DEF</th>\n",
       "      <td>46</td>\n",
       "    </tr>\n",
       "    <tr>\n",
       "      <th>EDUC</th>\n",
       "      <td>47</td>\n",
       "    </tr>\n",
       "    <tr>\n",
       "      <th>ENV</th>\n",
       "      <td>48</td>\n",
       "    </tr>\n",
       "    <tr>\n",
       "      <th>GOV</th>\n",
       "      <td>49</td>\n",
       "    </tr>\n",
       "    <tr>\n",
       "      <th>GS</th>\n",
       "      <td>50</td>\n",
       "    </tr>\n",
       "    <tr>\n",
       "      <th>HLTH</th>\n",
       "      <td>51</td>\n",
       "    </tr>\n",
       "    <tr>\n",
       "      <th>MAP</th>\n",
       "      <td>52</td>\n",
       "    </tr>\n",
       "    <tr>\n",
       "      <th>SOC</th>\n",
       "      <td>53</td>\n",
       "    </tr>\n",
       "    <tr>\n",
       "      <th>TC</th>\n",
       "      <td>54</td>\n",
       "    </tr>\n",
       "    <tr>\n",
       "      <th>TRANS</th>\n",
       "      <td>55</td>\n",
       "    </tr>\n",
       "  </tbody>\n",
       "</table>\n",
       "</div>"
      ],
      "text/plain": [
       "       Topics\n",
       "BE         44\n",
       "CJ         45\n",
       "DEF        46\n",
       "EDUC       47\n",
       "ENV        48\n",
       "GOV        49\n",
       "GS         50\n",
       "HLTH       51\n",
       "MAP        52\n",
       "SOC        53\n",
       "TC         54\n",
       "TRANS      55"
      ]
     },
     "execution_count": 7,
     "metadata": {},
     "output_type": "execute_result"
    }
   ],
   "source": [
    "df = pd.DataFrame(data)\n",
    "df"
   ]
  },
  {
   "cell_type": "code",
   "execution_count": 8,
   "metadata": {
    "ExecuteTime": {
     "end_time": "2017-09-03T05:44:33.517967Z",
     "start_time": "2017-09-03T05:44:33.118163Z"
    },
    "extensions": {
     "jupyter_dashboards": {
      "version": 1,
      "views": {
       "grid_default": {
        "col": 8,
        "height": 4,
        "hidden": true,
        "row": 0,
        "width": 4
       },
       "report_default": {}
      }
     }
    }
   },
   "outputs": [
    {
     "name": "stderr",
     "output_type": "stream",
     "text": [
      "/home/jp/miniconda2/envs/astroconda/lib/python2.7/site-packages/bokeh/util/deprecation.py:34: BokehDeprecationWarning: \n",
      "The bokeh.charts API has moved to a separate 'bkcharts' package.\n",
      "\n",
      "This compatibility shim will remain until Bokeh 1.0 is released.\n",
      "After that, if you want to use this API you will have to install\n",
      "the bkcharts package explicitly.\n",
      "\n",
      "  warn(message)\n"
     ]
    },
    {
     "data": {
      "text/html": [
       "\n",
       "    <div class=\"bk-root\">\n",
       "        <a href=\"https://bokeh.pydata.org\" target=\"_blank\" class=\"bk-logo bk-logo-small bk-logo-notebook\"></a>\n",
       "        <span id=\"9b9e30ce-ef99-414b-a7ef-056130794fe1\">Loading BokehJS ...</span>\n",
       "    </div>"
      ]
     },
     "metadata": {},
     "output_type": "display_data"
    },
    {
     "data": {
      "application/javascript": [
       "\n",
       "(function(root) {\n",
       "  function now() {\n",
       "    return new Date();\n",
       "  }\n",
       "\n",
       "  var force = true;\n",
       "\n",
       "  if (typeof (root._bokeh_onload_callbacks) === \"undefined\" || force === true) {\n",
       "    root._bokeh_onload_callbacks = [];\n",
       "    root._bokeh_is_loading = undefined;\n",
       "  }\n",
       "\n",
       "\n",
       "  \n",
       "  if (typeof (root._bokeh_timeout) === \"undefined\" || force === true) {\n",
       "    root._bokeh_timeout = Date.now() + 5000;\n",
       "    root._bokeh_failed_load = false;\n",
       "  }\n",
       "\n",
       "  var NB_LOAD_WARNING = {'data': {'text/html':\n",
       "     \"<div style='background-color: #fdd'>\\n\"+\n",
       "     \"<p>\\n\"+\n",
       "     \"BokehJS does not appear to have successfully loaded. If loading BokehJS from CDN, this \\n\"+\n",
       "     \"may be due to a slow or bad network connection. Possible fixes:\\n\"+\n",
       "     \"</p>\\n\"+\n",
       "     \"<ul>\\n\"+\n",
       "     \"<li>re-rerun `output_notebook()` to attempt to load from CDN again, or</li>\\n\"+\n",
       "     \"<li>use INLINE resources instead, as so:</li>\\n\"+\n",
       "     \"</ul>\\n\"+\n",
       "     \"<code>\\n\"+\n",
       "     \"from bokeh.resources import INLINE\\n\"+\n",
       "     \"output_notebook(resources=INLINE)\\n\"+\n",
       "     \"</code>\\n\"+\n",
       "     \"</div>\"}};\n",
       "\n",
       "  function display_loaded() {\n",
       "    if (root.Bokeh !== undefined) {\n",
       "      var el = document.getElementById(\"9b9e30ce-ef99-414b-a7ef-056130794fe1\");\n",
       "      if (el != null) {\n",
       "        el.textContent = \"BokehJS \" + Bokeh.version + \" successfully loaded.\";\n",
       "      }\n",
       "    } else if (Date.now() < root._bokeh_timeout) {\n",
       "      setTimeout(display_loaded, 100)\n",
       "    }\n",
       "  }\n",
       "\n",
       "\n",
       "  function run_callbacks() {\n",
       "    try {\n",
       "      root._bokeh_onload_callbacks.forEach(function(callback) { callback() });\n",
       "    }\n",
       "    finally {\n",
       "      delete root._bokeh_onload_callbacks\n",
       "    }\n",
       "    console.info(\"Bokeh: all callbacks have finished\");\n",
       "  }\n",
       "\n",
       "  function load_libs(js_urls, callback) {\n",
       "    root._bokeh_onload_callbacks.push(callback);\n",
       "    if (root._bokeh_is_loading > 0) {\n",
       "      console.log(\"Bokeh: BokehJS is being loaded, scheduling callback at\", now());\n",
       "      return null;\n",
       "    }\n",
       "    if (js_urls == null || js_urls.length === 0) {\n",
       "      run_callbacks();\n",
       "      return null;\n",
       "    }\n",
       "    console.log(\"Bokeh: BokehJS not loaded, scheduling load and callback at\", now());\n",
       "    root._bokeh_is_loading = js_urls.length;\n",
       "    for (var i = 0; i < js_urls.length; i++) {\n",
       "      var url = js_urls[i];\n",
       "      var s = document.createElement('script');\n",
       "      s.src = url;\n",
       "      s.async = false;\n",
       "      s.onreadystatechange = s.onload = function() {\n",
       "        root._bokeh_is_loading--;\n",
       "        if (root._bokeh_is_loading === 0) {\n",
       "          console.log(\"Bokeh: all BokehJS libraries loaded\");\n",
       "          run_callbacks()\n",
       "        }\n",
       "      };\n",
       "      s.onerror = function() {\n",
       "        console.warn(\"failed to load library \" + url);\n",
       "      };\n",
       "      console.log(\"Bokeh: injecting script tag for BokehJS library: \", url);\n",
       "      document.getElementsByTagName(\"head\")[0].appendChild(s);\n",
       "    }\n",
       "  };var element = document.getElementById(\"9b9e30ce-ef99-414b-a7ef-056130794fe1\");\n",
       "  if (element == null) {\n",
       "    console.log(\"Bokeh: ERROR: autoload.js configured with elementid '9b9e30ce-ef99-414b-a7ef-056130794fe1' but no matching script tag was found. \")\n",
       "    return false;\n",
       "  }\n",
       "\n",
       "  var js_urls = [\"https://cdn.pydata.org/bokeh/release/bokeh-0.12.7.min.js\", \"https://cdn.pydata.org/bokeh/release/bokeh-widgets-0.12.7.min.js\", \"https://cdn.pydata.org/bokeh/release/bokeh-tables-0.12.7.min.js\", \"https://cdn.pydata.org/bokeh/release/bokeh-gl-0.12.7.min.js\"];\n",
       "\n",
       "  var inline_js = [\n",
       "    function(Bokeh) {\n",
       "      Bokeh.set_log_level(\"info\");\n",
       "    },\n",
       "    \n",
       "    function(Bokeh) {\n",
       "      \n",
       "    },\n",
       "    \n",
       "    function(Bokeh) {\n",
       "      \n",
       "      document.getElementById(\"9b9e30ce-ef99-414b-a7ef-056130794fe1\").textContent = \"BokehJS is loading...\";\n",
       "    },\n",
       "    function(Bokeh) {\n",
       "      console.log(\"Bokeh: injecting CSS: https://cdn.pydata.org/bokeh/release/bokeh-0.12.7.min.css\");\n",
       "      Bokeh.embed.inject_css(\"https://cdn.pydata.org/bokeh/release/bokeh-0.12.7.min.css\");\n",
       "      console.log(\"Bokeh: injecting CSS: https://cdn.pydata.org/bokeh/release/bokeh-widgets-0.12.7.min.css\");\n",
       "      Bokeh.embed.inject_css(\"https://cdn.pydata.org/bokeh/release/bokeh-widgets-0.12.7.min.css\");\n",
       "      console.log(\"Bokeh: injecting CSS: https://cdn.pydata.org/bokeh/release/bokeh-tables-0.12.7.min.css\");\n",
       "      Bokeh.embed.inject_css(\"https://cdn.pydata.org/bokeh/release/bokeh-tables-0.12.7.min.css\");\n",
       "    }\n",
       "  ];\n",
       "\n",
       "  function run_inline_js() {\n",
       "    \n",
       "    if ((root.Bokeh !== undefined) || (force === true)) {\n",
       "      for (var i = 0; i < inline_js.length; i++) {\n",
       "        inline_js[i].call(root, root.Bokeh);\n",
       "      }if (force === true) {\n",
       "        display_loaded();\n",
       "      }} else if (Date.now() < root._bokeh_timeout) {\n",
       "      setTimeout(run_inline_js, 100);\n",
       "    } else if (!root._bokeh_failed_load) {\n",
       "      console.log(\"Bokeh: BokehJS failed to load within specified timeout.\");\n",
       "      root._bokeh_failed_load = true;\n",
       "    } else if (force !== true) {\n",
       "      var cell = $(document.getElementById(\"9b9e30ce-ef99-414b-a7ef-056130794fe1\")).parents('.cell').data().cell;\n",
       "      cell.output_area.append_execute_result(NB_LOAD_WARNING)\n",
       "    }\n",
       "\n",
       "  }\n",
       "\n",
       "  if (root._bokeh_is_loading === 0) {\n",
       "    console.log(\"Bokeh: BokehJS loaded, going straight to plotting\");\n",
       "    run_inline_js();\n",
       "  } else {\n",
       "    load_libs(js_urls, function() {\n",
       "      console.log(\"Bokeh: BokehJS plotting callback run at\", now());\n",
       "      run_inline_js();\n",
       "    });\n",
       "  }\n",
       "}(window));"
      ]
     },
     "metadata": {},
     "output_type": "display_data"
    }
   ],
   "source": [
    "from bokeh.io import push_notebook, show, output_notebook, output_file\n",
    "from bokeh.plotting import figure\n",
    "from bokeh.charts import Bar, Scatter\n",
    "from bokeh.palettes import Spectral11\n",
    "output_notebook()"
   ]
  },
  {
   "cell_type": "code",
   "execution_count": 32,
   "metadata": {
    "ExecuteTime": {
     "end_time": "2017-09-03T06:03:34.823974Z",
     "start_time": "2017-09-03T06:03:34.571857Z"
    },
    "extensions": {
     "jupyter_dashboards": {
      "version": 1,
      "views": {
       "grid_default": {
        "col": 4,
        "height": 21,
        "hidden": false,
        "row": 0,
        "width": 7
       },
       "report_default": {}
      }
     }
    }
   },
   "outputs": [
    {
     "data": {
      "text/html": [
       "\n",
       "\n",
       "    <div class=\"bk-root\">\n",
       "        <div class=\"bk-plotdiv\" id=\"bcde5b64-f755-4b1c-947c-3646b938f79f\"></div>\n",
       "    </div>\n",
       "<script type=\"text/javascript\">\n",
       "  \n",
       "  (function(root) {\n",
       "    function now() {\n",
       "      return new Date();\n",
       "    }\n",
       "  \n",
       "    var force = false;\n",
       "  \n",
       "    if (typeof (root._bokeh_onload_callbacks) === \"undefined\" || force === true) {\n",
       "      root._bokeh_onload_callbacks = [];\n",
       "      root._bokeh_is_loading = undefined;\n",
       "    }\n",
       "  \n",
       "  \n",
       "    \n",
       "    if (typeof (root._bokeh_timeout) === \"undefined\" || force === true) {\n",
       "      root._bokeh_timeout = Date.now() + 0;\n",
       "      root._bokeh_failed_load = false;\n",
       "    }\n",
       "  \n",
       "    var NB_LOAD_WARNING = {'data': {'text/html':\n",
       "       \"<div style='background-color: #fdd'>\\n\"+\n",
       "       \"<p>\\n\"+\n",
       "       \"BokehJS does not appear to have successfully loaded. If loading BokehJS from CDN, this \\n\"+\n",
       "       \"may be due to a slow or bad network connection. Possible fixes:\\n\"+\n",
       "       \"</p>\\n\"+\n",
       "       \"<ul>\\n\"+\n",
       "       \"<li>re-rerun `output_notebook()` to attempt to load from CDN again, or</li>\\n\"+\n",
       "       \"<li>use INLINE resources instead, as so:</li>\\n\"+\n",
       "       \"</ul>\\n\"+\n",
       "       \"<code>\\n\"+\n",
       "       \"from bokeh.resources import INLINE\\n\"+\n",
       "       \"output_notebook(resources=INLINE)\\n\"+\n",
       "       \"</code>\\n\"+\n",
       "       \"</div>\"}};\n",
       "  \n",
       "    function display_loaded() {\n",
       "      if (root.Bokeh !== undefined) {\n",
       "        var el = document.getElementById(\"bcde5b64-f755-4b1c-947c-3646b938f79f\");\n",
       "        if (el != null) {\n",
       "          el.textContent = \"BokehJS \" + Bokeh.version + \" successfully loaded.\";\n",
       "        }\n",
       "      } else if (Date.now() < root._bokeh_timeout) {\n",
       "        setTimeout(display_loaded, 100)\n",
       "      }\n",
       "    }\n",
       "  \n",
       "  \n",
       "    function run_callbacks() {\n",
       "      try {\n",
       "        root._bokeh_onload_callbacks.forEach(function(callback) { callback() });\n",
       "      }\n",
       "      finally {\n",
       "        delete root._bokeh_onload_callbacks\n",
       "      }\n",
       "      console.info(\"Bokeh: all callbacks have finished\");\n",
       "    }\n",
       "  \n",
       "    function load_libs(js_urls, callback) {\n",
       "      root._bokeh_onload_callbacks.push(callback);\n",
       "      if (root._bokeh_is_loading > 0) {\n",
       "        console.log(\"Bokeh: BokehJS is being loaded, scheduling callback at\", now());\n",
       "        return null;\n",
       "      }\n",
       "      if (js_urls == null || js_urls.length === 0) {\n",
       "        run_callbacks();\n",
       "        return null;\n",
       "      }\n",
       "      console.log(\"Bokeh: BokehJS not loaded, scheduling load and callback at\", now());\n",
       "      root._bokeh_is_loading = js_urls.length;\n",
       "      for (var i = 0; i < js_urls.length; i++) {\n",
       "        var url = js_urls[i];\n",
       "        var s = document.createElement('script');\n",
       "        s.src = url;\n",
       "        s.async = false;\n",
       "        s.onreadystatechange = s.onload = function() {\n",
       "          root._bokeh_is_loading--;\n",
       "          if (root._bokeh_is_loading === 0) {\n",
       "            console.log(\"Bokeh: all BokehJS libraries loaded\");\n",
       "            run_callbacks()\n",
       "          }\n",
       "        };\n",
       "        s.onerror = function() {\n",
       "          console.warn(\"failed to load library \" + url);\n",
       "        };\n",
       "        console.log(\"Bokeh: injecting script tag for BokehJS library: \", url);\n",
       "        document.getElementsByTagName(\"head\")[0].appendChild(s);\n",
       "      }\n",
       "    };var element = document.getElementById(\"bcde5b64-f755-4b1c-947c-3646b938f79f\");\n",
       "    if (element == null) {\n",
       "      console.log(\"Bokeh: ERROR: autoload.js configured with elementid 'bcde5b64-f755-4b1c-947c-3646b938f79f' but no matching script tag was found. \")\n",
       "      return false;\n",
       "    }\n",
       "  \n",
       "    var js_urls = [];\n",
       "  \n",
       "    var inline_js = [\n",
       "      function(Bokeh) {\n",
       "        (function() {\n",
       "          var fn = function() {\n",
       "            var docs_json = {\"e08724b8-5e9d-48aa-b077-b9b5f6502481\":{\"roots\":{\"references\":[{\"attributes\":{\"fill_alpha\":{\"field\":\"fill_alpha\"},\"fill_color\":{\"field\":\"color\"},\"height\":{\"field\":\"height\",\"units\":\"data\"},\"line_color\":{\"field\":\"line_color\"},\"width\":{\"field\":\"width\",\"units\":\"data\"},\"x\":{\"field\":\"x\"},\"y\":{\"field\":\"y\"}},\"id\":\"ca5c7036-faa2-4138-8d0c-3e019345c9d0\",\"type\":\"Rect\"},{\"attributes\":{\"data_source\":{\"id\":\"24fd0f76-77c6-43e9-8960-704f667817cb\",\"type\":\"ColumnDataSource\"},\"glyph\":{\"id\":\"74be1daf-ddc1-447a-b0e0-fed33164d42c\",\"type\":\"Rect\"},\"hover_glyph\":null,\"muted_glyph\":null,\"view\":{\"id\":\"6cea8d22-89e7-424b-baf0-81ec8fcbd197\",\"type\":\"CDSView\"}},\"id\":\"69db9929-c0c2-439b-b017-d482a4c0c87a\",\"type\":\"GlyphRenderer\"},{\"attributes\":{\"dimension\":1,\"plot\":{\"id\":\"24fddd61-eddd-46ee-9774-eb0fe1ed149e\",\"subtype\":\"Chart\",\"type\":\"Plot\"},\"ticker\":{\"id\":\"01f8e86e-8226-4e4e-8e34-1003a1279425\",\"type\":\"BasicTicker\"}},\"id\":\"1b6d2b96-1407-4d3e-9e32-0b1972c9e632\",\"type\":\"Grid\"},{\"attributes\":{\"fill_alpha\":{\"field\":\"fill_alpha\"},\"fill_color\":{\"field\":\"color\"},\"height\":{\"field\":\"height\",\"units\":\"data\"},\"line_color\":{\"field\":\"line_color\"},\"width\":{\"field\":\"width\",\"units\":\"data\"},\"x\":{\"field\":\"x\"},\"y\":{\"field\":\"y\"}},\"id\":\"73a0b99c-c87e-4bcf-ade6-84e5bd91cd79\",\"type\":\"Rect\"},{\"attributes\":{\"data_source\":{\"id\":\"873607d5-a955-4a6a-8354-a8053606261d\",\"type\":\"ColumnDataSource\"},\"glyph\":{\"id\":\"73a0b99c-c87e-4bcf-ade6-84e5bd91cd79\",\"type\":\"Rect\"},\"hover_glyph\":null,\"muted_glyph\":null,\"view\":{\"id\":\"52762cfc-0b06-4791-998f-4e4c6a2c7858\",\"type\":\"CDSView\"}},\"id\":\"43554606-5069-463b-868a-91c78b82b0c0\",\"type\":\"GlyphRenderer\"},{\"attributes\":{\"source\":null},\"id\":\"b538ba24-f777-4e34-b94a-fb79508fbf33\",\"type\":\"CDSView\"},{\"attributes\":{\"callback\":null,\"column_names\":[\"line_color\",\"line_alpha\",\"color\",\"fill_alpha\",\"height\",\"width\",\"y\",\"x\",\"label\"],\"data\":{\"chart_index\":[{\"index\":\"BE\"}],\"color\":[\"#f22c40\"],\"fill_alpha\":[0.8],\"height\":[44.0],\"index\":[\"BE\"],\"label\":[{\"index\":\"BE\"}],\"line_alpha\":[1.0],\"line_color\":[\"white\"],\"width\":[0.4],\"x\":[\"BE\"],\"y\":[22.0]}},\"id\":\"05c18b76-20b2-40b0-83e6-c8638a248d28\",\"type\":\"ColumnDataSource\"},{\"attributes\":{},\"id\":\"26b3488e-c629-4685-853e-972aa9fb71e6\",\"type\":\"WheelZoomTool\"},{\"attributes\":{\"source\":null},\"id\":\"a69190ac-fe29-4f34-baf1-4dcef03cdc61\",\"type\":\"CDSView\"},{\"attributes\":{\"data_source\":{\"id\":\"e66d8d2a-1e42-4e7b-832d-acf1696cfdeb\",\"type\":\"ColumnDataSource\"},\"glyph\":{\"id\":\"6fd9dab7-6927-499f-85d4-6f18a944eb2d\",\"type\":\"Rect\"},\"hover_glyph\":null,\"muted_glyph\":null,\"view\":{\"id\":\"28b6fd12-ccca-4097-8e15-424737b0ed09\",\"type\":\"CDSView\"}},\"id\":\"ebf028ed-a367-4f4f-a510-8fb171ef9de9\",\"type\":\"GlyphRenderer\"},{\"attributes\":{\"bottom_units\":\"screen\",\"fill_alpha\":{\"value\":0.5},\"fill_color\":{\"value\":\"lightgrey\"},\"left_units\":\"screen\",\"level\":\"overlay\",\"line_alpha\":{\"value\":1.0},\"line_color\":{\"value\":\"black\"},\"line_dash\":[4,4],\"line_width\":{\"value\":2},\"plot\":null,\"render_mode\":\"css\",\"right_units\":\"screen\",\"top_units\":\"screen\"},\"id\":\"ed11e4ef-0be6-4703-8414-1d8ff0e5f550\",\"type\":\"BoxAnnotation\"},{\"attributes\":{\"callback\":null,\"column_names\":[\"line_color\",\"line_alpha\",\"color\",\"fill_alpha\",\"height\",\"width\",\"y\",\"x\",\"label\"],\"data\":{\"chart_index\":[{\"index\":\"MAP\"}],\"color\":[\"#f22c40\"],\"fill_alpha\":[0.8],\"height\":[52.0],\"index\":[\"MAP\"],\"label\":[{\"index\":\"MAP\"}],\"line_alpha\":[1.0],\"line_color\":[\"white\"],\"width\":[0.4],\"x\":[\"MAP\"],\"y\":[26.0]}},\"id\":\"d61dbc3f-19b2-4304-a0b9-3a44d3864f9e\",\"type\":\"ColumnDataSource\"},{\"attributes\":{\"data_source\":{\"id\":\"4db18adc-c9c7-4719-8790-71c744578ca8\",\"type\":\"ColumnDataSource\"},\"glyph\":{\"id\":\"2562da83-245e-44f4-93d4-73c3ba440fcb\",\"type\":\"Rect\"},\"hover_glyph\":null,\"muted_glyph\":null,\"view\":{\"id\":\"a69190ac-fe29-4f34-baf1-4dcef03cdc61\",\"type\":\"CDSView\"}},\"id\":\"7a326ad8-2e3a-4558-b54a-adf3dcb39240\",\"type\":\"GlyphRenderer\"},{\"attributes\":{\"fill_alpha\":{\"field\":\"fill_alpha\"},\"fill_color\":{\"field\":\"color\"},\"height\":{\"field\":\"height\",\"units\":\"data\"},\"line_color\":{\"field\":\"line_color\"},\"width\":{\"field\":\"width\",\"units\":\"data\"},\"x\":{\"field\":\"x\"},\"y\":{\"field\":\"y\"}},\"id\":\"2562da83-245e-44f4-93d4-73c3ba440fcb\",\"type\":\"Rect\"},{\"attributes\":{},\"id\":\"ef70db9e-0675-40cc-9e11-d31645c47a31\",\"type\":\"ResetTool\"},{\"attributes\":{},\"id\":\"4fb6b02a-9d14-4886-8de4-87df44d907d8\",\"type\":\"HelpTool\"},{\"attributes\":{\"fill_alpha\":{\"field\":\"fill_alpha\"},\"fill_color\":{\"field\":\"color\"},\"height\":{\"field\":\"height\",\"units\":\"data\"},\"line_color\":{\"field\":\"line_color\"},\"width\":{\"field\":\"width\",\"units\":\"data\"},\"x\":{\"field\":\"x\"},\"y\":{\"field\":\"y\"}},\"id\":\"702f1121-b459-4245-a392-6971d9b18aaa\",\"type\":\"Rect\"},{\"attributes\":{\"fill_alpha\":{\"field\":\"fill_alpha\"},\"fill_color\":{\"field\":\"color\"},\"height\":{\"field\":\"height\",\"units\":\"data\"},\"line_color\":{\"field\":\"line_color\"},\"width\":{\"field\":\"width\",\"units\":\"data\"},\"x\":{\"field\":\"x\"},\"y\":{\"field\":\"y\"}},\"id\":\"6fd9dab7-6927-499f-85d4-6f18a944eb2d\",\"type\":\"Rect\"},{\"attributes\":{\"fill_alpha\":{\"field\":\"fill_alpha\"},\"fill_color\":{\"field\":\"color\"},\"height\":{\"field\":\"height\",\"units\":\"data\"},\"line_color\":{\"field\":\"line_color\"},\"width\":{\"field\":\"width\",\"units\":\"data\"},\"x\":{\"field\":\"x\"},\"y\":{\"field\":\"y\"}},\"id\":\"d9e8d6d4-60f8-4570-880d-2b7f4a393211\",\"type\":\"Rect\"},{\"attributes\":{\"data_source\":{\"id\":\"02d58025-5617-4519-b61d-0356fb26fa66\",\"type\":\"ColumnDataSource\"},\"glyph\":{\"id\":\"5fec412e-59d7-453d-90e5-8d47b32929e6\",\"type\":\"Rect\"},\"hover_glyph\":null,\"muted_glyph\":null,\"view\":{\"id\":\"8809ba96-a230-41dd-947c-0bbf293aa5a4\",\"type\":\"CDSView\"}},\"id\":\"ffd8c147-e71b-4283-a3e5-d48ebb8503d9\",\"type\":\"GlyphRenderer\"},{\"attributes\":{\"callback\":null,\"column_names\":[\"line_color\",\"line_alpha\",\"color\",\"fill_alpha\",\"height\",\"width\",\"y\",\"x\",\"label\"],\"data\":{\"chart_index\":[{\"index\":\"CJ\"}],\"color\":[\"#f22c40\"],\"fill_alpha\":[0.8],\"height\":[45.0],\"index\":[\"CJ\"],\"label\":[{\"index\":\"CJ\"}],\"line_alpha\":[1.0],\"line_color\":[\"white\"],\"width\":[0.4],\"x\":[\"CJ\"],\"y\":[22.5]}},\"id\":\"8125682b-a28f-44db-9deb-49ec5f7de5f2\",\"type\":\"ColumnDataSource\"},{\"attributes\":{\"callback\":null,\"column_names\":[\"line_color\",\"line_alpha\",\"color\",\"fill_alpha\",\"height\",\"width\",\"y\",\"x\",\"label\"],\"data\":{\"chart_index\":[{\"index\":\"HLTH\"}],\"color\":[\"#f22c40\"],\"fill_alpha\":[0.8],\"height\":[51.0],\"index\":[\"HLTH\"],\"label\":[{\"index\":\"HLTH\"}],\"line_alpha\":[1.0],\"line_color\":[\"white\"],\"width\":[0.4],\"x\":[\"HLTH\"],\"y\":[25.5]}},\"id\":\"02d58025-5617-4519-b61d-0356fb26fa66\",\"type\":\"ColumnDataSource\"},{\"attributes\":{\"fill_alpha\":{\"field\":\"fill_alpha\"},\"fill_color\":{\"field\":\"color\"},\"height\":{\"field\":\"height\",\"units\":\"data\"},\"line_color\":{\"field\":\"line_color\"},\"width\":{\"field\":\"width\",\"units\":\"data\"},\"x\":{\"field\":\"x\"},\"y\":{\"field\":\"y\"}},\"id\":\"5fec412e-59d7-453d-90e5-8d47b32929e6\",\"type\":\"Rect\"},{\"attributes\":{\"source\":null},\"id\":\"6cea8d22-89e7-424b-baf0-81ec8fcbd197\",\"type\":\"CDSView\"},{\"attributes\":{\"callback\":null,\"column_names\":[\"line_color\",\"line_alpha\",\"color\",\"fill_alpha\",\"height\",\"width\",\"y\",\"x\",\"label\"],\"data\":{\"chart_index\":[{\"index\":\"GS\"}],\"color\":[\"#f22c40\"],\"fill_alpha\":[0.8],\"height\":[50.0],\"index\":[\"GS\"],\"label\":[{\"index\":\"GS\"}],\"line_alpha\":[1.0],\"line_color\":[\"white\"],\"width\":[0.4],\"x\":[\"GS\"],\"y\":[25.0]}},\"id\":\"e01d6b56-cde5-4f61-a7bd-dad08d231b34\",\"type\":\"ColumnDataSource\"},{\"attributes\":{\"source\":null},\"id\":\"28b6fd12-ccca-4097-8e15-424737b0ed09\",\"type\":\"CDSView\"},{\"attributes\":{},\"id\":\"aaf8485e-7480-4d41-b16c-5e8cf128b6b6\",\"type\":\"CategoricalScale\"},{\"attributes\":{\"callback\":null,\"column_names\":[\"line_color\",\"line_alpha\",\"color\",\"fill_alpha\",\"height\",\"width\",\"y\",\"x\",\"label\"],\"data\":{\"chart_index\":[{\"index\":\"TC\"}],\"color\":[\"#f22c40\"],\"fill_alpha\":[0.8],\"height\":[54.0],\"index\":[\"TC\"],\"label\":[{\"index\":\"TC\"}],\"line_alpha\":[1.0],\"line_color\":[\"white\"],\"width\":[0.4],\"x\":[\"TC\"],\"y\":[27.0]}},\"id\":\"e66d8d2a-1e42-4e7b-832d-acf1696cfdeb\",\"type\":\"ColumnDataSource\"},{\"attributes\":{\"data_source\":{\"id\":\"fbc3fae3-f655-4474-b98b-ee4ffe861718\",\"type\":\"ColumnDataSource\"},\"glyph\":{\"id\":\"4f79653d-0676-490d-9203-7935cb2bfe19\",\"type\":\"Rect\"},\"hover_glyph\":null,\"muted_glyph\":null,\"view\":{\"id\":\"e369a842-f7b8-4375-86f7-205961f0b04e\",\"type\":\"CDSView\"}},\"id\":\"35917c0e-d6b3-4ab7-af43-68bf5ee82ce7\",\"type\":\"GlyphRenderer\"},{\"attributes\":{\"plot\":null,\"text\":null},\"id\":\"8b482971-c1ad-492e-96d1-a1af2ba3c1e9\",\"type\":\"Title\"},{\"attributes\":{\"callback\":null,\"column_names\":[\"line_color\",\"line_alpha\",\"color\",\"fill_alpha\",\"height\",\"width\",\"y\",\"x\",\"label\"],\"data\":{\"chart_index\":[{\"index\":\"GOV\"}],\"color\":[\"#f22c40\"],\"fill_alpha\":[0.8],\"height\":[49.0],\"index\":[\"GOV\"],\"label\":[{\"index\":\"GOV\"}],\"line_alpha\":[1.0],\"line_color\":[\"white\"],\"width\":[0.4],\"x\":[\"GOV\"],\"y\":[24.5]}},\"id\":\"873607d5-a955-4a6a-8354-a8053606261d\",\"type\":\"ColumnDataSource\"},{\"attributes\":{},\"id\":\"a4c76d8a-83db-4e9d-83a7-b87a3da30a40\",\"type\":\"SaveTool\"},{\"attributes\":{\"callback\":null,\"column_names\":[\"line_color\",\"line_alpha\",\"color\",\"fill_alpha\",\"height\",\"width\",\"y\",\"x\",\"label\"],\"data\":{\"chart_index\":[{\"index\":\"DEF\"}],\"color\":[\"#f22c40\"],\"fill_alpha\":[0.8],\"height\":[46.0],\"index\":[\"DEF\"],\"label\":[{\"index\":\"DEF\"}],\"line_alpha\":[1.0],\"line_color\":[\"white\"],\"width\":[0.4],\"x\":[\"DEF\"],\"y\":[23.0]}},\"id\":\"fbc3fae3-f655-4474-b98b-ee4ffe861718\",\"type\":\"ColumnDataSource\"},{\"attributes\":{\"fill_alpha\":{\"field\":\"fill_alpha\"},\"fill_color\":{\"field\":\"color\"},\"height\":{\"field\":\"height\",\"units\":\"data\"},\"line_color\":{\"field\":\"line_color\"},\"width\":{\"field\":\"width\",\"units\":\"data\"},\"x\":{\"field\":\"x\"},\"y\":{\"field\":\"y\"}},\"id\":\"6f87f916-5b6c-4217-8c81-9fbf94a19af7\",\"type\":\"Rect\"},{\"attributes\":{\"fill_alpha\":{\"field\":\"fill_alpha\"},\"fill_color\":{\"field\":\"color\"},\"height\":{\"field\":\"height\",\"units\":\"data\"},\"line_color\":{\"field\":\"line_color\"},\"width\":{\"field\":\"width\",\"units\":\"data\"},\"x\":{\"field\":\"x\"},\"y\":{\"field\":\"y\"}},\"id\":\"74be1daf-ddc1-447a-b0e0-fed33164d42c\",\"type\":\"Rect\"},{\"attributes\":{\"callback\":null,\"column_names\":[\"line_color\",\"line_alpha\",\"color\",\"fill_alpha\",\"height\",\"width\",\"y\",\"x\",\"label\"],\"data\":{\"chart_index\":[{\"index\":\"TRANS\"}],\"color\":[\"#f22c40\"],\"fill_alpha\":[0.8],\"height\":[55.0],\"index\":[\"TRANS\"],\"label\":[{\"index\":\"TRANS\"}],\"line_alpha\":[1.0],\"line_color\":[\"white\"],\"width\":[0.4],\"x\":[\"TRANS\"],\"y\":[27.5]}},\"id\":\"4db18adc-c9c7-4719-8790-71c744578ca8\",\"type\":\"ColumnDataSource\"},{\"attributes\":{\"source\":null},\"id\":\"e1caff24-e2f7-4909-b01e-eb9c2fd52fb1\",\"type\":\"CDSView\"},{\"attributes\":{\"fill_alpha\":{\"field\":\"fill_alpha\"},\"fill_color\":{\"field\":\"color\"},\"height\":{\"field\":\"height\",\"units\":\"data\"},\"line_color\":{\"field\":\"line_color\"},\"width\":{\"field\":\"width\",\"units\":\"data\"},\"x\":{\"field\":\"x\"},\"y\":{\"field\":\"y\"}},\"id\":\"4f79653d-0676-490d-9203-7935cb2bfe19\",\"type\":\"Rect\"},{\"attributes\":{\"source\":null},\"id\":\"e369a842-f7b8-4375-86f7-205961f0b04e\",\"type\":\"CDSView\"},{\"attributes\":{\"active_drag\":\"auto\",\"active_inspect\":\"auto\",\"active_scroll\":\"auto\",\"active_tap\":\"auto\",\"tools\":[{\"id\":\"c44ffb74-08b3-424f-9959-3c78b8e66667\",\"type\":\"PanTool\"},{\"id\":\"26b3488e-c629-4685-853e-972aa9fb71e6\",\"type\":\"WheelZoomTool\"},{\"id\":\"77a746f0-bb9e-44fd-b980-65b8ba7278cd\",\"type\":\"BoxZoomTool\"},{\"id\":\"a4c76d8a-83db-4e9d-83a7-b87a3da30a40\",\"type\":\"SaveTool\"},{\"id\":\"ef70db9e-0675-40cc-9e11-d31645c47a31\",\"type\":\"ResetTool\"},{\"id\":\"4fb6b02a-9d14-4886-8de4-87df44d907d8\",\"type\":\"HelpTool\"}]},\"id\":\"aa2ceae8-7874-4aee-a60b-ad3d63a9e4c7\",\"type\":\"Toolbar\"},{\"attributes\":{\"data_source\":{\"id\":\"05c18b76-20b2-40b0-83e6-c8638a248d28\",\"type\":\"ColumnDataSource\"},\"glyph\":{\"id\":\"d9e8d6d4-60f8-4570-880d-2b7f4a393211\",\"type\":\"Rect\"},\"hover_glyph\":null,\"muted_glyph\":null,\"view\":{\"id\":\"b538ba24-f777-4e34-b94a-fb79508fbf33\",\"type\":\"CDSView\"}},\"id\":\"09ec110e-2fbc-448c-b8bc-42fd0fe17dea\",\"type\":\"GlyphRenderer\"},{\"attributes\":{\"source\":null},\"id\":\"d6b49795-c4ce-4131-8843-500b7f0e2b78\",\"type\":\"CDSView\"},{\"attributes\":{\"callback\":null,\"factors\":[\"BE\",\"CJ\",\"DEF\",\"EDUC\",\"ENV\",\"GOV\",\"GS\",\"HLTH\",\"MAP\",\"SOC\",\"TC\",\"TRANS\"]},\"id\":\"5b4920c4-9d4f-4f51-aeb6-46d0e735f808\",\"type\":\"FactorRange\"},{\"attributes\":{\"callback\":null,\"column_names\":[\"line_color\",\"line_alpha\",\"color\",\"fill_alpha\",\"height\",\"width\",\"y\",\"x\",\"label\"],\"data\":{\"chart_index\":[{\"index\":\"SOC\"}],\"color\":[\"#f22c40\"],\"fill_alpha\":[0.8],\"height\":[53.0],\"index\":[\"SOC\"],\"label\":[{\"index\":\"SOC\"}],\"line_alpha\":[1.0],\"line_color\":[\"white\"],\"width\":[0.4],\"x\":[\"SOC\"],\"y\":[26.5]}},\"id\":\"24fd0f76-77c6-43e9-8960-704f667817cb\",\"type\":\"ColumnDataSource\"},{\"attributes\":{\"source\":null},\"id\":\"a594cbf2-987d-48d9-b0e9-a3a73ac06bb6\",\"type\":\"CDSView\"},{\"attributes\":{\"fill_alpha\":{\"field\":\"fill_alpha\"},\"fill_color\":{\"field\":\"color\"},\"height\":{\"field\":\"height\",\"units\":\"data\"},\"line_color\":{\"field\":\"line_color\"},\"width\":{\"field\":\"width\",\"units\":\"data\"},\"x\":{\"field\":\"x\"},\"y\":{\"field\":\"y\"}},\"id\":\"397b6816-b8be-4511-b479-a84829a71332\",\"type\":\"Rect\"},{\"attributes\":{\"formatter\":{\"id\":\"83408b63-65bb-4961-a429-94fcc0ae4dac\",\"type\":\"CategoricalTickFormatter\"},\"major_label_orientation\":0.7853981633974483,\"plot\":{\"id\":\"24fddd61-eddd-46ee-9774-eb0fe1ed149e\",\"subtype\":\"Chart\",\"type\":\"Plot\"},\"ticker\":{\"id\":\"d3b07e73-64b3-4752-b17b-0b3005de0058\",\"type\":\"CategoricalTicker\"}},\"id\":\"36d08e7d-fef4-4ff1-aca3-4cd4059fe29c\",\"type\":\"CategoricalAxis\"},{\"attributes\":{\"data_source\":{\"id\":\"d61dbc3f-19b2-4304-a0b9-3a44d3864f9e\",\"type\":\"ColumnDataSource\"},\"glyph\":{\"id\":\"397b6816-b8be-4511-b479-a84829a71332\",\"type\":\"Rect\"},\"hover_glyph\":null,\"muted_glyph\":null,\"view\":{\"id\":\"e1caff24-e2f7-4909-b01e-eb9c2fd52fb1\",\"type\":\"CDSView\"}},\"id\":\"d9cb81f0-35eb-46f4-b562-efa84182e799\",\"type\":\"GlyphRenderer\"},{\"attributes\":{\"axis_label\":\"No. of Files\",\"formatter\":{\"id\":\"ce28b013-1ac8-49b9-9e7e-806904ef35ba\",\"type\":\"BasicTickFormatter\"},\"plot\":{\"id\":\"24fddd61-eddd-46ee-9774-eb0fe1ed149e\",\"subtype\":\"Chart\",\"type\":\"Plot\"},\"ticker\":{\"id\":\"01f8e86e-8226-4e4e-8e34-1003a1279425\",\"type\":\"BasicTicker\"}},\"id\":\"15371016-e165-4bea-a8dd-e849fe0bae04\",\"type\":\"LinearAxis\"},{\"attributes\":{},\"id\":\"83408b63-65bb-4961-a429-94fcc0ae4dac\",\"type\":\"CategoricalTickFormatter\"},{\"attributes\":{\"source\":null},\"id\":\"de9b2612-9992-4785-8939-c3be0a88c30d\",\"type\":\"CDSView\"},{\"attributes\":{\"data_source\":{\"id\":\"c55a4c25-ccda-4244-b6e5-17b914cbcb1e\",\"type\":\"ColumnDataSource\"},\"glyph\":{\"id\":\"6f87f916-5b6c-4217-8c81-9fbf94a19af7\",\"type\":\"Rect\"},\"hover_glyph\":null,\"muted_glyph\":null,\"view\":{\"id\":\"d6b49795-c4ce-4131-8843-500b7f0e2b78\",\"type\":\"CDSView\"}},\"id\":\"dbf6a4cb-9f8c-41b8-8e89-0770dfcd57f8\",\"type\":\"GlyphRenderer\"},{\"attributes\":{},\"id\":\"ce28b013-1ac8-49b9-9e7e-806904ef35ba\",\"type\":\"BasicTickFormatter\"},{\"attributes\":{\"source\":null},\"id\":\"1f50616f-05d1-4419-9204-18a2f7d535ea\",\"type\":\"CDSView\"},{\"attributes\":{\"source\":null},\"id\":\"52762cfc-0b06-4791-998f-4e4c6a2c7858\",\"type\":\"CDSView\"},{\"attributes\":{\"data_source\":{\"id\":\"8125682b-a28f-44db-9deb-49ec5f7de5f2\",\"type\":\"ColumnDataSource\"},\"glyph\":{\"id\":\"6ad23835-ec12-4ebd-be6d-4cf53d02c403\",\"type\":\"Rect\"},\"hover_glyph\":null,\"muted_glyph\":null,\"view\":{\"id\":\"1f50616f-05d1-4419-9204-18a2f7d535ea\",\"type\":\"CDSView\"}},\"id\":\"8c78a06a-ab35-4253-8887-55cbda3a066e\",\"type\":\"GlyphRenderer\"},{\"attributes\":{\"callback\":null,\"column_names\":[\"line_color\",\"line_alpha\",\"color\",\"fill_alpha\",\"height\",\"width\",\"y\",\"x\",\"label\"],\"data\":{\"chart_index\":[{\"index\":\"EDUC\"}],\"color\":[\"#f22c40\"],\"fill_alpha\":[0.8],\"height\":[47.0],\"index\":[\"EDUC\"],\"label\":[{\"index\":\"EDUC\"}],\"line_alpha\":[1.0],\"line_color\":[\"white\"],\"width\":[0.4],\"x\":[\"EDUC\"],\"y\":[23.5]}},\"id\":\"b890d1e6-d0a8-4253-8f60-ffde3abb5bc6\",\"type\":\"ColumnDataSource\"},{\"attributes\":{},\"id\":\"01f8e86e-8226-4e4e-8e34-1003a1279425\",\"type\":\"BasicTicker\"},{\"attributes\":{},\"id\":\"ba19cc8d-75c5-4f0a-b52f-9dd470144a8a\",\"type\":\"LinearScale\"},{\"attributes\":{\"below\":[{\"id\":\"36d08e7d-fef4-4ff1-aca3-4cd4059fe29c\",\"type\":\"CategoricalAxis\"}],\"css_classes\":null,\"left\":[{\"id\":\"15371016-e165-4bea-a8dd-e849fe0bae04\",\"type\":\"LinearAxis\"}],\"renderers\":[{\"id\":\"ed11e4ef-0be6-4703-8414-1d8ff0e5f550\",\"type\":\"BoxAnnotation\"},{\"id\":\"09ec110e-2fbc-448c-b8bc-42fd0fe17dea\",\"type\":\"GlyphRenderer\"},{\"id\":\"8c78a06a-ab35-4253-8887-55cbda3a066e\",\"type\":\"GlyphRenderer\"},{\"id\":\"35917c0e-d6b3-4ab7-af43-68bf5ee82ce7\",\"type\":\"GlyphRenderer\"},{\"id\":\"a1af0293-b29b-41cb-a87d-915f261fac67\",\"type\":\"GlyphRenderer\"},{\"id\":\"dbf6a4cb-9f8c-41b8-8e89-0770dfcd57f8\",\"type\":\"GlyphRenderer\"},{\"id\":\"43554606-5069-463b-868a-91c78b82b0c0\",\"type\":\"GlyphRenderer\"},{\"id\":\"f7332d3e-d87c-4a2e-9f91-ea212efd7a10\",\"type\":\"GlyphRenderer\"},{\"id\":\"ffd8c147-e71b-4283-a3e5-d48ebb8503d9\",\"type\":\"GlyphRenderer\"},{\"id\":\"d9cb81f0-35eb-46f4-b562-efa84182e799\",\"type\":\"GlyphRenderer\"},{\"id\":\"69db9929-c0c2-439b-b017-d482a4c0c87a\",\"type\":\"GlyphRenderer\"},{\"id\":\"ebf028ed-a367-4f4f-a510-8fb171ef9de9\",\"type\":\"GlyphRenderer\"},{\"id\":\"7a326ad8-2e3a-4558-b54a-adf3dcb39240\",\"type\":\"GlyphRenderer\"},{\"id\":\"36d08e7d-fef4-4ff1-aca3-4cd4059fe29c\",\"type\":\"CategoricalAxis\"},{\"id\":\"15371016-e165-4bea-a8dd-e849fe0bae04\",\"type\":\"LinearAxis\"},{\"id\":\"1b6d2b96-1407-4d3e-9e32-0b1972c9e632\",\"type\":\"Grid\"}],\"title\":{\"id\":\"8b482971-c1ad-492e-96d1-a1af2ba3c1e9\",\"type\":\"Title\"},\"toolbar\":{\"id\":\"aa2ceae8-7874-4aee-a60b-ad3d63a9e4c7\",\"type\":\"Toolbar\"},\"x_range\":{\"id\":\"5b4920c4-9d4f-4f51-aeb6-46d0e735f808\",\"type\":\"FactorRange\"},\"x_scale\":{\"id\":\"aaf8485e-7480-4d41-b16c-5e8cf128b6b6\",\"type\":\"CategoricalScale\"},\"y_range\":{\"id\":\"1adcfd70-74d9-4b2d-8dc3-cd17765b4057\",\"type\":\"Range1d\"},\"y_scale\":{\"id\":\"ba19cc8d-75c5-4f0a-b52f-9dd470144a8a\",\"type\":\"LinearScale\"}},\"id\":\"24fddd61-eddd-46ee-9774-eb0fe1ed149e\",\"subtype\":\"Chart\",\"type\":\"Plot\"},{\"attributes\":{\"callback\":null,\"column_names\":[\"line_color\",\"line_alpha\",\"color\",\"fill_alpha\",\"height\",\"width\",\"y\",\"x\",\"label\"],\"data\":{\"chart_index\":[{\"index\":\"ENV\"}],\"color\":[\"#f22c40\"],\"fill_alpha\":[0.8],\"height\":[48.0],\"index\":[\"ENV\"],\"label\":[{\"index\":\"ENV\"}],\"line_alpha\":[1.0],\"line_color\":[\"white\"],\"width\":[0.4],\"x\":[\"ENV\"],\"y\":[24.0]}},\"id\":\"c55a4c25-ccda-4244-b6e5-17b914cbcb1e\",\"type\":\"ColumnDataSource\"},{\"attributes\":{},\"id\":\"c44ffb74-08b3-424f-9959-3c78b8e66667\",\"type\":\"PanTool\"},{\"attributes\":{\"source\":null},\"id\":\"8809ba96-a230-41dd-947c-0bbf293aa5a4\",\"type\":\"CDSView\"},{\"attributes\":{\"overlay\":{\"id\":\"ed11e4ef-0be6-4703-8414-1d8ff0e5f550\",\"type\":\"BoxAnnotation\"}},\"id\":\"77a746f0-bb9e-44fd-b980-65b8ba7278cd\",\"type\":\"BoxZoomTool\"},{\"attributes\":{\"callback\":null,\"end\":57.75},\"id\":\"1adcfd70-74d9-4b2d-8dc3-cd17765b4057\",\"type\":\"Range1d\"},{\"attributes\":{},\"id\":\"d3b07e73-64b3-4752-b17b-0b3005de0058\",\"type\":\"CategoricalTicker\"},{\"attributes\":{\"data_source\":{\"id\":\"b890d1e6-d0a8-4253-8f60-ffde3abb5bc6\",\"type\":\"ColumnDataSource\"},\"glyph\":{\"id\":\"ca5c7036-faa2-4138-8d0c-3e019345c9d0\",\"type\":\"Rect\"},\"hover_glyph\":null,\"muted_glyph\":null,\"view\":{\"id\":\"a594cbf2-987d-48d9-b0e9-a3a73ac06bb6\",\"type\":\"CDSView\"}},\"id\":\"a1af0293-b29b-41cb-a87d-915f261fac67\",\"type\":\"GlyphRenderer\"},{\"attributes\":{\"fill_alpha\":{\"field\":\"fill_alpha\"},\"fill_color\":{\"field\":\"color\"},\"height\":{\"field\":\"height\",\"units\":\"data\"},\"line_color\":{\"field\":\"line_color\"},\"width\":{\"field\":\"width\",\"units\":\"data\"},\"x\":{\"field\":\"x\"},\"y\":{\"field\":\"y\"}},\"id\":\"6ad23835-ec12-4ebd-be6d-4cf53d02c403\",\"type\":\"Rect\"},{\"attributes\":{\"data_source\":{\"id\":\"e01d6b56-cde5-4f61-a7bd-dad08d231b34\",\"type\":\"ColumnDataSource\"},\"glyph\":{\"id\":\"702f1121-b459-4245-a392-6971d9b18aaa\",\"type\":\"Rect\"},\"hover_glyph\":null,\"muted_glyph\":null,\"view\":{\"id\":\"de9b2612-9992-4785-8939-c3be0a88c30d\",\"type\":\"CDSView\"}},\"id\":\"f7332d3e-d87c-4a2e-9f91-ea212efd7a10\",\"type\":\"GlyphRenderer\"}],\"root_ids\":[\"24fddd61-eddd-46ee-9774-eb0fe1ed149e\"]},\"title\":\"Bokeh Application\",\"version\":\"0.12.7\"}};\n",
       "            var render_items = [{\"docid\":\"e08724b8-5e9d-48aa-b077-b9b5f6502481\",\"elementid\":\"bcde5b64-f755-4b1c-947c-3646b938f79f\",\"modelid\":\"24fddd61-eddd-46ee-9774-eb0fe1ed149e\"}];\n",
       "            \n",
       "            Bokeh.embed.embed_items(docs_json, render_items);\n",
       "          };\n",
       "          if (document.readyState != \"loading\") fn();\n",
       "          else document.addEventListener(\"DOMContentLoaded\", fn);\n",
       "        })();\n",
       "      },\n",
       "      function(Bokeh) {\n",
       "      }\n",
       "    ];\n",
       "  \n",
       "    function run_inline_js() {\n",
       "      \n",
       "      if ((root.Bokeh !== undefined) || (force === true)) {\n",
       "        for (var i = 0; i < inline_js.length; i++) {\n",
       "          inline_js[i].call(root, root.Bokeh);\n",
       "        }if (force === true) {\n",
       "          display_loaded();\n",
       "        }} else if (Date.now() < root._bokeh_timeout) {\n",
       "        setTimeout(run_inline_js, 100);\n",
       "      } else if (!root._bokeh_failed_load) {\n",
       "        console.log(\"Bokeh: BokehJS failed to load within specified timeout.\");\n",
       "        root._bokeh_failed_load = true;\n",
       "      } else if (force !== true) {\n",
       "        var cell = $(document.getElementById(\"bcde5b64-f755-4b1c-947c-3646b938f79f\")).parents('.cell').data().cell;\n",
       "        cell.output_area.append_execute_result(NB_LOAD_WARNING)\n",
       "      }\n",
       "  \n",
       "    }\n",
       "  \n",
       "    if (root._bokeh_is_loading === 0) {\n",
       "      console.log(\"Bokeh: BokehJS loaded, going straight to plotting\");\n",
       "      run_inline_js();\n",
       "    } else {\n",
       "      load_libs(js_urls, function() {\n",
       "        console.log(\"Bokeh: BokehJS plotting callback run at\", now());\n",
       "        run_inline_js();\n",
       "      });\n",
       "    }\n",
       "  }(window));\n",
       "</script>"
      ]
     },
     "metadata": {},
     "output_type": "display_data"
    }
   ],
   "source": [
    "p = Bar(df, bar_width=0.4, #labels= new_fields, \n",
    "        legend=False, ylabel = 'No. of Files')\n",
    "\n",
    "show(p)"
   ]
  },
  {
   "cell_type": "code",
   "execution_count": null,
   "metadata": {
    "collapsed": true
   },
   "outputs": [],
   "source": []
  }
 ],
 "metadata": {
  "extensions": {
   "jupyter_dashboards": {
    "activeView": "grid_default",
    "version": 1,
    "views": {
     "grid_default": {
      "cellMargin": 10,
      "defaultCellHeight": 20,
      "maxColumns": 12,
      "name": "grid",
      "type": "grid"
     },
     "report_default": {
      "name": "report",
      "type": "report"
     }
    }
   }
  },
  "kernelspec": {
   "display_name": "Python 2",
   "language": "python",
   "name": "python2"
  },
  "language_info": {
   "codemirror_mode": {
    "name": "ipython",
    "version": 2
   },
   "file_extension": ".py",
   "mimetype": "text/x-python",
   "name": "python",
   "nbconvert_exporter": "python",
   "pygments_lexer": "ipython2",
   "version": "2.7.13"
  }
 },
 "nbformat": 4,
 "nbformat_minor": 2
}
