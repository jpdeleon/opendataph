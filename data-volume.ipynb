{
 "cells": [
  {
   "cell_type": "markdown",
   "metadata": {},
   "source": [
    "### A rough scraper for opendataph data volume viz"
   ]
  },
  {
   "cell_type": "markdown",
   "metadata": {
    "extensions": {
     "jupyter_dashboards": {
      "version": 1,
      "views": {
       "grid_default": {
        "col": 0,
        "height": 4,
        "hidden": true,
        "row": 0,
        "width": 12
       },
       "report_default": {}
      }
     }
    }
   },
   "source": [
    "### What is Open Data PH?\n",
    "Open Data Philippines aims to make all open government data accessible through one single portal, data.gov.ph. Open Data Philippines collects datasets from different government agencies, allowing users to find specific data from a continuously growing collection of public datasets."
   ]
  },
  {
   "cell_type": "markdown",
   "metadata": {
    "extensions": {
     "jupyter_dashboards": {
      "version": 1,
      "views": {
       "grid_default": {
        "col": 4,
        "height": 4,
        "hidden": true,
        "row": 0,
        "width": 4
       },
       "report_default": {}
      }
     }
    }
   },
   "source": [
    "### Open Data FAQ\n",
    "https://www.gov.ph/data/about"
   ]
  },
  {
   "cell_type": "markdown",
   "metadata": {
    "extensions": {
     "jupyter_dashboards": {
      "version": 1,
      "views": {
       "grid_default": {
        "col": 0,
        "height": 8,
        "hidden": true,
        "row": 0,
        "width": 12
       },
       "report_default": {}
      }
     }
    }
   },
   "source": [
    "### Data Volume Scraper - Visualize number of data available for each topic\n",
    "* Open index - https://www.gov.ph/data/homepage\n",
    "* Scrape topics - Find relevant `field topics` via `href` tag\n",
    "* Extract field topics \n",
    "* Loop into each URL\n",
    "* Extract db/data tags\n",
    "* Download all `csv`, `xlxs`, `txt` files"
   ]
  },
  {
   "cell_type": "code",
   "execution_count": 2,
   "metadata": {
    "collapsed": true,
    "extensions": {
     "jupyter_dashboards": {
      "version": 1,
      "views": {
       "grid_default": {
        "hidden": true
       },
       "report_default": {}
      }
     }
    }
   },
   "outputs": [],
   "source": [
    "%matplotlib inline"
   ]
  },
  {
   "cell_type": "markdown",
   "metadata": {
    "extensions": {
     "jupyter_dashboards": {
      "version": 1,
      "views": {
       "grid_default": {
        "col": 8,
        "height": 4,
        "hidden": true,
        "row": 0,
        "width": 4
       },
       "report_default": {}
      }
     }
    }
   },
   "source": [
    "Import packages"
   ]
  },
  {
   "cell_type": "code",
   "execution_count": 3,
   "metadata": {
    "collapsed": true,
    "extensions": {
     "jupyter_dashboards": {
      "version": 1,
      "views": {
       "grid_default": {
        "hidden": true
       },
       "report_default": {}
      }
     }
    }
   },
   "outputs": [],
   "source": [
    "import urllib2\n",
    "import requests\n",
    "import numpy as np\n",
    "import regex as re\n",
    "import pandas as pd\n",
    "from bs4 import BeautifulSoup"
   ]
  },
  {
   "cell_type": "code",
   "execution_count": 4,
   "metadata": {
    "extensions": {
     "jupyter_dashboards": {
      "version": 1,
      "views": {
       "grid_default": {
        "col": 0,
        "height": 14,
        "hidden": true,
        "row": 0,
        "width": 4
       },
       "report_default": {}
      }
     }
    },
    "scrolled": false
   },
   "outputs": [
    {
     "name": "stdout",
     "output_type": "stream",
     "text": [
      "Topic URL: https://www.gov.ph/data/search/field_topic/business-and-economics-44\n",
      "Topic URL: https://www.gov.ph/data/search/field_topic/crime-and-justice-45\n",
      "Topic URL: https://www.gov.ph/data/search/field_topic/defense-46\n",
      "Topic URL: https://www.gov.ph/data/search/field_topic/education-47\n",
      "Topic URL: https://www.gov.ph/data/search/field_topic/environment-48\n",
      "Topic URL: https://www.gov.ph/data/search/field_topic/government-49\n",
      "Topic URL: https://www.gov.ph/data/search/field_topic/government-spending-50\n",
      "Topic URL: https://www.gov.ph/data/search/field_topic/health-51\n",
      "Topic URL: https://www.gov.ph/data/search/field_topic/mapping-52\n",
      "Topic URL: https://www.gov.ph/data/search/field_topic/society-53\n",
      "Topic URL: https://www.gov.ph/data/search/field_topic/town-and-cities-54\n",
      "Topic URL: https://www.gov.ph/data/search/field_topic/transport-55\n"
     ]
    },
    {
     "name": "stderr",
     "output_type": "stream",
     "text": [
      "C:\\Users\\JAD\\Anaconda2\\lib\\site-packages\\bs4\\__init__.py:181: UserWarning: No parser was explicitly specified, so I'm using the best available HTML parser for this system (\"lxml\"). This usually isn't a problem, but if you run this code on another system, or in a different virtual environment, it may use a different parser and behave differently.\n",
      "\n",
      "The code that caused this warning is on line 174 of the file C:\\Users\\JAD\\Anaconda2\\lib\\runpy.py. To get rid of this warning, change code that looks like this:\n",
      "\n",
      " BeautifulSoup([your markup])\n",
      "\n",
      "to this:\n",
      "\n",
      " BeautifulSoup([your markup], \"lxml\")\n",
      "\n",
      "  markup_type=markup_type))\n"
     ]
    }
   ],
   "source": [
    "r = requests.get(\"https://www.gov.ph/data/homepage\")\n",
    "soup = BeautifulSoup(r.content)\n",
    "\n",
    "urls = []\n",
    "for span in soup.find_all(\"span\", class_=\"field-content\"):\n",
    "    for a in span.find_all('a', href=True):        \n",
    "        urls.append(a['href'])\n",
    "        print \"Topic URL:\", a['href']"
   ]
  },
  {
   "cell_type": "markdown",
   "metadata": {
    "extensions": {
     "jupyter_dashboards": {
      "version": 1,
      "views": {
       "grid_default": {
        "col": 4,
        "height": 4,
        "hidden": true,
        "row": 0,
        "width": 4
       },
       "report_default": {}
      }
     }
    }
   },
   "source": [
    "## OpenData PH Data Volume\n",
    "Data volume for each topic can be extracted from the url itself.\n",
    "- NB: Need to cross-ref topics for duplicates"
   ]
  },
  {
   "cell_type": "code",
   "execution_count": 54,
   "metadata": {
    "extensions": {
     "jupyter_dashboards": {
      "version": 1,
      "views": {
       "grid_default": {
        "col": 8,
        "height": 4,
        "hidden": true,
        "row": 0,
        "width": 4
       },
       "report_default": {}
      }
     }
    }
   },
   "outputs": [
    {
     "data": {
      "text/plain": [
       "([44, 45, 46, 47, 48, 49, 50, 51, 52, 53, 54, 55],\n",
       " ['business-and-economics-44',\n",
       "  'crime-and-justice-45',\n",
       "  'defense-46',\n",
       "  'education-47',\n",
       "  'environment-48',\n",
       "  'government-49',\n",
       "  'government-spending-50',\n",
       "  'health-51',\n",
       "  'mapping-52',\n",
       "  'society-53',\n",
       "  'town-and-cities-54',\n",
       "  'transport-55'])"
      ]
     },
     "execution_count": 54,
     "metadata": {},
     "output_type": "execute_result"
    }
   ],
   "source": [
    "string_urls = np.asarray(urls)\n",
    "volume = []\n",
    "fields = []\n",
    "for fstring in string_urls:\n",
    "    fstr = fstring.split('/')[-1]\n",
    "    vol = re.search(r'\\d+$', fstring)\n",
    "    volume.append(vol.group())\n",
    "    fields.append(fstr)\n",
    "volume = map(int, volume)\n",
    "volume, fields\n"
   ]
  },
  {
   "cell_type": "code",
   "execution_count": 55,
   "metadata": {
    "collapsed": true,
    "extensions": {
     "jupyter_dashboards": {
      "version": 1,
      "views": {
       "grid_default": {
        "hidden": true
       },
       "report_default": {}
      }
     }
    }
   },
   "outputs": [],
   "source": [
    "data = {'Topics': {'BE': volume[0], 'CJ': volume[1], 'DEF': volume[2],\n",
    "                    'EDUC': volume[3], 'ENV': volume[4], 'GOV': volume[5], \n",
    "                    'GS': volume[6], 'HLTH': volume[7], 'MAP': volume[8],\n",
    "                   'SOC': volume[9],  'TC': volume[10],  'TRANS': volume[11]}}"
   ]
  },
  {
   "cell_type": "code",
   "execution_count": 56,
   "metadata": {
    "extensions": {
     "jupyter_dashboards": {
      "version": 1,
      "views": {
       "grid_default": {
        "col": 2,
        "height": 12,
        "hidden": false,
        "row": 0,
        "width": 2
       },
       "report_default": {}
      }
     }
    }
   },
   "outputs": [
    {
     "data": {
      "text/html": [
       "<div>\n",
       "<style>\n",
       "    .dataframe thead tr:only-child th {\n",
       "        text-align: right;\n",
       "    }\n",
       "\n",
       "    .dataframe thead th {\n",
       "        text-align: left;\n",
       "    }\n",
       "\n",
       "    .dataframe tbody tr th {\n",
       "        vertical-align: top;\n",
       "    }\n",
       "</style>\n",
       "<table border=\"1\" class=\"dataframe\">\n",
       "  <thead>\n",
       "    <tr style=\"text-align: right;\">\n",
       "      <th></th>\n",
       "      <th>Topics</th>\n",
       "    </tr>\n",
       "  </thead>\n",
       "  <tbody>\n",
       "    <tr>\n",
       "      <th>BE</th>\n",
       "      <td>44</td>\n",
       "    </tr>\n",
       "    <tr>\n",
       "      <th>CJ</th>\n",
       "      <td>45</td>\n",
       "    </tr>\n",
       "    <tr>\n",
       "      <th>DEF</th>\n",
       "      <td>46</td>\n",
       "    </tr>\n",
       "    <tr>\n",
       "      <th>EDUC</th>\n",
       "      <td>47</td>\n",
       "    </tr>\n",
       "    <tr>\n",
       "      <th>ENV</th>\n",
       "      <td>48</td>\n",
       "    </tr>\n",
       "    <tr>\n",
       "      <th>GOV</th>\n",
       "      <td>49</td>\n",
       "    </tr>\n",
       "    <tr>\n",
       "      <th>GS</th>\n",
       "      <td>50</td>\n",
       "    </tr>\n",
       "    <tr>\n",
       "      <th>HLTH</th>\n",
       "      <td>51</td>\n",
       "    </tr>\n",
       "    <tr>\n",
       "      <th>MAP</th>\n",
       "      <td>52</td>\n",
       "    </tr>\n",
       "    <tr>\n",
       "      <th>SOC</th>\n",
       "      <td>53</td>\n",
       "    </tr>\n",
       "    <tr>\n",
       "      <th>TC</th>\n",
       "      <td>54</td>\n",
       "    </tr>\n",
       "    <tr>\n",
       "      <th>TRANS</th>\n",
       "      <td>55</td>\n",
       "    </tr>\n",
       "  </tbody>\n",
       "</table>\n",
       "</div>"
      ],
      "text/plain": [
       "       Topics\n",
       "BE         44\n",
       "CJ         45\n",
       "DEF        46\n",
       "EDUC       47\n",
       "ENV        48\n",
       "GOV        49\n",
       "GS         50\n",
       "HLTH       51\n",
       "MAP        52\n",
       "SOC        53\n",
       "TC         54\n",
       "TRANS      55"
      ]
     },
     "execution_count": 56,
     "metadata": {},
     "output_type": "execute_result"
    }
   ],
   "source": [
    "df = pd.DataFrame(data)\n",
    "df"
   ]
  },
  {
   "cell_type": "code",
   "execution_count": 57,
   "metadata": {
    "extensions": {
     "jupyter_dashboards": {
      "version": 1,
      "views": {
       "grid_default": {
        "col": 8,
        "height": 4,
        "hidden": true,
        "row": 0,
        "width": 4
       },
       "report_default": {}
      }
     }
    }
   },
   "outputs": [
    {
     "data": {
      "text/html": [
       "\n",
       "    <div class=\"bk-root\">\n",
       "        <a href=\"http://bokeh.pydata.org\" target=\"_blank\" class=\"bk-logo bk-logo-small bk-logo-notebook\"></a>\n",
       "        <span id=\"e1ee9498-08fb-4573-88c6-34349eb9910d\">Loading BokehJS ...</span>\n",
       "    </div>"
      ]
     },
     "metadata": {},
     "output_type": "display_data"
    },
    {
     "data": {
      "application/javascript": [
       "\n",
       "(function(global) {\n",
       "  function now() {\n",
       "    return new Date();\n",
       "  }\n",
       "\n",
       "  var force = true;\n",
       "\n",
       "  if (typeof (window._bokeh_onload_callbacks) === \"undefined\" || force === true) {\n",
       "    window._bokeh_onload_callbacks = [];\n",
       "    window._bokeh_is_loading = undefined;\n",
       "  }\n",
       "\n",
       "\n",
       "  \n",
       "  if (typeof (window._bokeh_timeout) === \"undefined\" || force === true) {\n",
       "    window._bokeh_timeout = Date.now() + 5000;\n",
       "    window._bokeh_failed_load = false;\n",
       "  }\n",
       "\n",
       "  var NB_LOAD_WARNING = {'data': {'text/html':\n",
       "     \"<div style='background-color: #fdd'>\\n\"+\n",
       "     \"<p>\\n\"+\n",
       "     \"BokehJS does not appear to have successfully loaded. If loading BokehJS from CDN, this \\n\"+\n",
       "     \"may be due to a slow or bad network connection. Possible fixes:\\n\"+\n",
       "     \"</p>\\n\"+\n",
       "     \"<ul>\\n\"+\n",
       "     \"<li>re-rerun `output_notebook()` to attempt to load from CDN again, or</li>\\n\"+\n",
       "     \"<li>use INLINE resources instead, as so:</li>\\n\"+\n",
       "     \"</ul>\\n\"+\n",
       "     \"<code>\\n\"+\n",
       "     \"from bokeh.resources import INLINE\\n\"+\n",
       "     \"output_notebook(resources=INLINE)\\n\"+\n",
       "     \"</code>\\n\"+\n",
       "     \"</div>\"}};\n",
       "\n",
       "  function display_loaded() {\n",
       "    if (window.Bokeh !== undefined) {\n",
       "      var el = document.getElementById(\"e1ee9498-08fb-4573-88c6-34349eb9910d\");\n",
       "      el.textContent = \"BokehJS \" + Bokeh.version + \" successfully loaded.\";\n",
       "    } else if (Date.now() < window._bokeh_timeout) {\n",
       "      setTimeout(display_loaded, 100)\n",
       "    }\n",
       "  }\n",
       "\n",
       "  function run_callbacks() {\n",
       "    try {\n",
       "      window._bokeh_onload_callbacks.forEach(function(callback) { callback() });\n",
       "    }\n",
       "    finally {\n",
       "      delete window._bokeh_onload_callbacks\n",
       "    }\n",
       "    console.info(\"Bokeh: all callbacks have finished\");\n",
       "  }\n",
       "\n",
       "  function load_libs(js_urls, callback) {\n",
       "    window._bokeh_onload_callbacks.push(callback);\n",
       "    if (window._bokeh_is_loading > 0) {\n",
       "      console.log(\"Bokeh: BokehJS is being loaded, scheduling callback at\", now());\n",
       "      return null;\n",
       "    }\n",
       "    if (js_urls == null || js_urls.length === 0) {\n",
       "      run_callbacks();\n",
       "      return null;\n",
       "    }\n",
       "    console.log(\"Bokeh: BokehJS not loaded, scheduling load and callback at\", now());\n",
       "    window._bokeh_is_loading = js_urls.length;\n",
       "    for (var i = 0; i < js_urls.length; i++) {\n",
       "      var url = js_urls[i];\n",
       "      var s = document.createElement('script');\n",
       "      s.src = url;\n",
       "      s.async = false;\n",
       "      s.onreadystatechange = s.onload = function() {\n",
       "        window._bokeh_is_loading--;\n",
       "        if (window._bokeh_is_loading === 0) {\n",
       "          console.log(\"Bokeh: all BokehJS libraries loaded\");\n",
       "          run_callbacks()\n",
       "        }\n",
       "      };\n",
       "      s.onerror = function() {\n",
       "        console.warn(\"failed to load library \" + url);\n",
       "      };\n",
       "      console.log(\"Bokeh: injecting script tag for BokehJS library: \", url);\n",
       "      document.getElementsByTagName(\"head\")[0].appendChild(s);\n",
       "    }\n",
       "  };var element = document.getElementById(\"e1ee9498-08fb-4573-88c6-34349eb9910d\");\n",
       "  if (element == null) {\n",
       "    console.log(\"Bokeh: ERROR: autoload.js configured with elementid 'e1ee9498-08fb-4573-88c6-34349eb9910d' but no matching script tag was found. \")\n",
       "    return false;\n",
       "  }\n",
       "\n",
       "  var js_urls = [\"https://cdn.pydata.org/bokeh/release/bokeh-0.12.6.min.js\", \"https://cdn.pydata.org/bokeh/release/bokeh-widgets-0.12.6.min.js\"];\n",
       "\n",
       "  var inline_js = [\n",
       "    function(Bokeh) {\n",
       "      Bokeh.set_log_level(\"info\");\n",
       "    },\n",
       "    \n",
       "    function(Bokeh) {\n",
       "      \n",
       "    },\n",
       "    \n",
       "    function(Bokeh) {\n",
       "      \n",
       "      document.getElementById(\"e1ee9498-08fb-4573-88c6-34349eb9910d\").textContent = \"BokehJS is loading...\";\n",
       "    },\n",
       "    function(Bokeh) {\n",
       "      console.log(\"Bokeh: injecting CSS: https://cdn.pydata.org/bokeh/release/bokeh-0.12.6.min.css\");\n",
       "      Bokeh.embed.inject_css(\"https://cdn.pydata.org/bokeh/release/bokeh-0.12.6.min.css\");\n",
       "      console.log(\"Bokeh: injecting CSS: https://cdn.pydata.org/bokeh/release/bokeh-widgets-0.12.6.min.css\");\n",
       "      Bokeh.embed.inject_css(\"https://cdn.pydata.org/bokeh/release/bokeh-widgets-0.12.6.min.css\");\n",
       "    }\n",
       "  ];\n",
       "\n",
       "  function run_inline_js() {\n",
       "    \n",
       "    if ((window.Bokeh !== undefined) || (force === true)) {\n",
       "      for (var i = 0; i < inline_js.length; i++) {\n",
       "        inline_js[i](window.Bokeh);\n",
       "      }if (force === true) {\n",
       "        display_loaded();\n",
       "      }} else if (Date.now() < window._bokeh_timeout) {\n",
       "      setTimeout(run_inline_js, 100);\n",
       "    } else if (!window._bokeh_failed_load) {\n",
       "      console.log(\"Bokeh: BokehJS failed to load within specified timeout.\");\n",
       "      window._bokeh_failed_load = true;\n",
       "    } else if (force !== true) {\n",
       "      var cell = $(document.getElementById(\"e1ee9498-08fb-4573-88c6-34349eb9910d\")).parents('.cell').data().cell;\n",
       "      cell.output_area.append_execute_result(NB_LOAD_WARNING)\n",
       "    }\n",
       "\n",
       "  }\n",
       "\n",
       "  if (window._bokeh_is_loading === 0) {\n",
       "    console.log(\"Bokeh: BokehJS loaded, going straight to plotting\");\n",
       "    run_inline_js();\n",
       "  } else {\n",
       "    load_libs(js_urls, function() {\n",
       "      console.log(\"Bokeh: BokehJS plotting callback run at\", now());\n",
       "      run_inline_js();\n",
       "    });\n",
       "  }\n",
       "}(this));"
      ]
     },
     "metadata": {},
     "output_type": "display_data"
    }
   ],
   "source": [
    "from bokeh.io import push_notebook, show, output_notebook, output_file\n",
    "from bokeh.plotting import figure\n",
    "from bokeh.charts import Bar, Scatter\n",
    "from bokeh.palettes import Spectral11\n",
    "output_notebook()"
   ]
  },
  {
   "cell_type": "code",
   "execution_count": 58,
   "metadata": {
    "extensions": {
     "jupyter_dashboards": {
      "version": 1,
      "views": {
       "grid_default": {
        "col": 4,
        "height": 21,
        "hidden": false,
        "row": 0,
        "width": 7
       },
       "report_default": {}
      }
     }
    }
   },
   "outputs": [
    {
     "data": {
      "text/html": [
       "\n",
       "\n",
       "    <div class=\"bk-root\">\n",
       "        <div class=\"bk-plotdiv\" id=\"c1ed6a23-e0a0-4dab-865b-d92bbd47d2e0\"></div>\n",
       "    </div>\n",
       "<script type=\"text/javascript\">\n",
       "  \n",
       "  (function(global) {\n",
       "    function now() {\n",
       "      return new Date();\n",
       "    }\n",
       "  \n",
       "    var force = false;\n",
       "  \n",
       "    if (typeof (window._bokeh_onload_callbacks) === \"undefined\" || force === true) {\n",
       "      window._bokeh_onload_callbacks = [];\n",
       "      window._bokeh_is_loading = undefined;\n",
       "    }\n",
       "  \n",
       "  \n",
       "    \n",
       "    if (typeof (window._bokeh_timeout) === \"undefined\" || force === true) {\n",
       "      window._bokeh_timeout = Date.now() + 0;\n",
       "      window._bokeh_failed_load = false;\n",
       "    }\n",
       "  \n",
       "    var NB_LOAD_WARNING = {'data': {'text/html':\n",
       "       \"<div style='background-color: #fdd'>\\n\"+\n",
       "       \"<p>\\n\"+\n",
       "       \"BokehJS does not appear to have successfully loaded. If loading BokehJS from CDN, this \\n\"+\n",
       "       \"may be due to a slow or bad network connection. Possible fixes:\\n\"+\n",
       "       \"</p>\\n\"+\n",
       "       \"<ul>\\n\"+\n",
       "       \"<li>re-rerun `output_notebook()` to attempt to load from CDN again, or</li>\\n\"+\n",
       "       \"<li>use INLINE resources instead, as so:</li>\\n\"+\n",
       "       \"</ul>\\n\"+\n",
       "       \"<code>\\n\"+\n",
       "       \"from bokeh.resources import INLINE\\n\"+\n",
       "       \"output_notebook(resources=INLINE)\\n\"+\n",
       "       \"</code>\\n\"+\n",
       "       \"</div>\"}};\n",
       "  \n",
       "    function display_loaded() {\n",
       "      if (window.Bokeh !== undefined) {\n",
       "        var el = document.getElementById(\"c1ed6a23-e0a0-4dab-865b-d92bbd47d2e0\");\n",
       "        el.textContent = \"BokehJS \" + Bokeh.version + \" successfully loaded.\";\n",
       "      } else if (Date.now() < window._bokeh_timeout) {\n",
       "        setTimeout(display_loaded, 100)\n",
       "      }\n",
       "    }\n",
       "  \n",
       "    function run_callbacks() {\n",
       "      try {\n",
       "        window._bokeh_onload_callbacks.forEach(function(callback) { callback() });\n",
       "      }\n",
       "      finally {\n",
       "        delete window._bokeh_onload_callbacks\n",
       "      }\n",
       "      console.info(\"Bokeh: all callbacks have finished\");\n",
       "    }\n",
       "  \n",
       "    function load_libs(js_urls, callback) {\n",
       "      window._bokeh_onload_callbacks.push(callback);\n",
       "      if (window._bokeh_is_loading > 0) {\n",
       "        console.log(\"Bokeh: BokehJS is being loaded, scheduling callback at\", now());\n",
       "        return null;\n",
       "      }\n",
       "      if (js_urls == null || js_urls.length === 0) {\n",
       "        run_callbacks();\n",
       "        return null;\n",
       "      }\n",
       "      console.log(\"Bokeh: BokehJS not loaded, scheduling load and callback at\", now());\n",
       "      window._bokeh_is_loading = js_urls.length;\n",
       "      for (var i = 0; i < js_urls.length; i++) {\n",
       "        var url = js_urls[i];\n",
       "        var s = document.createElement('script');\n",
       "        s.src = url;\n",
       "        s.async = false;\n",
       "        s.onreadystatechange = s.onload = function() {\n",
       "          window._bokeh_is_loading--;\n",
       "          if (window._bokeh_is_loading === 0) {\n",
       "            console.log(\"Bokeh: all BokehJS libraries loaded\");\n",
       "            run_callbacks()\n",
       "          }\n",
       "        };\n",
       "        s.onerror = function() {\n",
       "          console.warn(\"failed to load library \" + url);\n",
       "        };\n",
       "        console.log(\"Bokeh: injecting script tag for BokehJS library: \", url);\n",
       "        document.getElementsByTagName(\"head\")[0].appendChild(s);\n",
       "      }\n",
       "    };var element = document.getElementById(\"c1ed6a23-e0a0-4dab-865b-d92bbd47d2e0\");\n",
       "    if (element == null) {\n",
       "      console.log(\"Bokeh: ERROR: autoload.js configured with elementid 'c1ed6a23-e0a0-4dab-865b-d92bbd47d2e0' but no matching script tag was found. \")\n",
       "      return false;\n",
       "    }\n",
       "  \n",
       "    var js_urls = [];\n",
       "  \n",
       "    var inline_js = [\n",
       "      function(Bokeh) {\n",
       "        (function() {\n",
       "          var fn = function() {\n",
       "            var docs_json = {\"4758358f-63df-4504-8881-2b5708da9832\":{\"roots\":{\"references\":[{\"attributes\":{\"fill_alpha\":{\"field\":\"fill_alpha\"},\"fill_color\":{\"field\":\"color\"},\"height\":{\"field\":\"height\",\"units\":\"data\"},\"line_color\":{\"field\":\"line_color\"},\"width\":{\"field\":\"width\",\"units\":\"data\"},\"x\":{\"field\":\"x\"},\"y\":{\"field\":\"y\"}},\"id\":\"3edb5ec8-e42e-4494-bd30-0128f7940943\",\"type\":\"Rect\"},{\"attributes\":{\"callback\":null,\"column_names\":[\"line_color\",\"line_alpha\",\"color\",\"fill_alpha\",\"height\",\"width\",\"y\",\"x\",\"label\"],\"data\":{\"chart_index\":[{\"index\":\"CJ\"}],\"color\":[\"#f22c40\"],\"fill_alpha\":[0.8],\"height\":[45.0],\"index\":[\"CJ\"],\"label\":[{\"index\":\"CJ\"}],\"line_alpha\":[1.0],\"line_color\":[\"white\"],\"width\":[0.4],\"x\":[\"CJ\"],\"y\":[22.5]}},\"id\":\"37cb0a61-6a70-4ab6-b94b-c0c0d2d2e1bf\",\"type\":\"ColumnDataSource\"},{\"attributes\":{},\"id\":\"b689aa7e-162b-4f48-a875-797eea18a32a\",\"type\":\"BasicTickFormatter\"},{\"attributes\":{\"below\":[{\"id\":\"5e6cbf0d-931b-4f1e-abca-2e1e58e0ac95\",\"type\":\"CategoricalAxis\"}],\"css_classes\":null,\"left\":[{\"id\":\"18ef2624-fdb3-4546-913e-48bcb2968cfc\",\"type\":\"LinearAxis\"}],\"renderers\":[{\"id\":\"810be4e7-f178-4681-b7f4-788e5ab3bb0b\",\"type\":\"BoxAnnotation\"},{\"id\":\"3f0b2c22-c02e-4763-9b24-a56737fbbc7c\",\"type\":\"GlyphRenderer\"},{\"id\":\"11904bcf-1a6a-44fd-9f26-dffd5fe9c074\",\"type\":\"GlyphRenderer\"},{\"id\":\"21edc13c-973d-4be3-8b5a-c6907ca50038\",\"type\":\"GlyphRenderer\"},{\"id\":\"f54a65ea-9051-4b96-b4ec-6a84f94b1bef\",\"type\":\"GlyphRenderer\"},{\"id\":\"4fe61fe3-5219-4ee8-ab6f-6e821bf62c39\",\"type\":\"GlyphRenderer\"},{\"id\":\"2ff10721-48ce-4a2c-a332-3c8dd96d8d9b\",\"type\":\"GlyphRenderer\"},{\"id\":\"d1b8cd59-1b4d-45a4-9cce-afc351d8705b\",\"type\":\"GlyphRenderer\"},{\"id\":\"302f995f-d17a-400e-a20a-2abb8419c4e5\",\"type\":\"GlyphRenderer\"},{\"id\":\"991ec695-418d-41d6-9553-22760333588d\",\"type\":\"GlyphRenderer\"},{\"id\":\"f664efc5-eddf-4d71-b1c5-daa553e5735c\",\"type\":\"GlyphRenderer\"},{\"id\":\"6d75f00b-0750-4b98-a4a2-b3508aac4ebf\",\"type\":\"GlyphRenderer\"},{\"id\":\"5ac3786a-5731-4105-b275-8876d460be80\",\"type\":\"GlyphRenderer\"},{\"id\":\"5e6cbf0d-931b-4f1e-abca-2e1e58e0ac95\",\"type\":\"CategoricalAxis\"},{\"id\":\"18ef2624-fdb3-4546-913e-48bcb2968cfc\",\"type\":\"LinearAxis\"},{\"id\":\"7a0fd764-6035-4da9-a62e-db5427b2831a\",\"type\":\"Grid\"}],\"title\":{\"id\":\"198ed50e-56cb-4956-aef0-e6e1d82e46e9\",\"type\":\"Title\"},\"tool_events\":{\"id\":\"02688e69-0e88-48cb-87db-f0e2f946b788\",\"type\":\"ToolEvents\"},\"toolbar\":{\"id\":\"5a183382-de7b-44a3-b380-e6a98c49d345\",\"type\":\"Toolbar\"},\"x_range\":{\"id\":\"4daba2f9-9cff-47a3-95a8-438b1adcf04d\",\"type\":\"FactorRange\"},\"x_scale\":{\"id\":\"b7f7ba9e-3731-4ebe-bac5-e71e495bb6b3\",\"type\":\"CategoricalScale\"},\"y_range\":{\"id\":\"31852b5a-c019-467a-98b5-03eca88774a1\",\"type\":\"Range1d\"},\"y_scale\":{\"id\":\"dd3f306f-3059-4807-8861-bcf849bfb1a9\",\"type\":\"LinearScale\"}},\"id\":\"2b6dd22c-e5fe-475f-8b21-dd9034cb2ca7\",\"subtype\":\"Chart\",\"type\":\"Plot\"},{\"attributes\":{\"callback\":null,\"factors\":[\"BE\",\"CJ\",\"DEF\",\"EDUC\",\"ENV\",\"GOV\",\"GS\",\"HLTH\",\"MAP\",\"SOC\",\"TC\",\"TRANS\"]},\"id\":\"4daba2f9-9cff-47a3-95a8-438b1adcf04d\",\"type\":\"FactorRange\"},{\"attributes\":{\"callback\":null,\"column_names\":[\"line_color\",\"line_alpha\",\"color\",\"fill_alpha\",\"height\",\"width\",\"y\",\"x\",\"label\"],\"data\":{\"chart_index\":[{\"index\":\"ENV\"}],\"color\":[\"#f22c40\"],\"fill_alpha\":[0.8],\"height\":[48.0],\"index\":[\"ENV\"],\"label\":[{\"index\":\"ENV\"}],\"line_alpha\":[1.0],\"line_color\":[\"white\"],\"width\":[0.4],\"x\":[\"ENV\"],\"y\":[24.0]}},\"id\":\"8a0965cb-cd00-4b26-a044-e37772f277b2\",\"type\":\"ColumnDataSource\"},{\"attributes\":{\"fill_alpha\":{\"field\":\"fill_alpha\"},\"fill_color\":{\"field\":\"color\"},\"height\":{\"field\":\"height\",\"units\":\"data\"},\"line_color\":{\"field\":\"line_color\"},\"width\":{\"field\":\"width\",\"units\":\"data\"},\"x\":{\"field\":\"x\"},\"y\":{\"field\":\"y\"}},\"id\":\"458b383d-0a11-46db-bcf9-7e0219c6125d\",\"type\":\"Rect\"},{\"attributes\":{\"callback\":null,\"column_names\":[\"line_color\",\"line_alpha\",\"color\",\"fill_alpha\",\"height\",\"width\",\"y\",\"x\",\"label\"],\"data\":{\"chart_index\":[{\"index\":\"HLTH\"}],\"color\":[\"#f22c40\"],\"fill_alpha\":[0.8],\"height\":[51.0],\"index\":[\"HLTH\"],\"label\":[{\"index\":\"HLTH\"}],\"line_alpha\":[1.0],\"line_color\":[\"white\"],\"width\":[0.4],\"x\":[\"HLTH\"],\"y\":[25.5]}},\"id\":\"cb838f96-4468-454a-be9b-9da2a1b90509\",\"type\":\"ColumnDataSource\"},{\"attributes\":{\"data_source\":{\"id\":\"37cb0a61-6a70-4ab6-b94b-c0c0d2d2e1bf\",\"type\":\"ColumnDataSource\"},\"glyph\":{\"id\":\"c54ceead-403f-4783-8554-37d8b53d2124\",\"type\":\"Rect\"},\"hover_glyph\":null,\"muted_glyph\":null},\"id\":\"11904bcf-1a6a-44fd-9f26-dffd5fe9c074\",\"type\":\"GlyphRenderer\"},{\"attributes\":{\"active_drag\":\"auto\",\"active_inspect\":\"auto\",\"active_scroll\":\"auto\",\"active_tap\":\"auto\",\"tools\":[{\"id\":\"a5cf311b-5653-4bf6-8aae-a24938c319ba\",\"type\":\"PanTool\"},{\"id\":\"673908c0-fa87-4013-a223-482703a8b48b\",\"type\":\"WheelZoomTool\"},{\"id\":\"f89e6256-b570-4f02-8db4-e840036d2983\",\"type\":\"BoxZoomTool\"},{\"id\":\"eefdf921-9a2d-4a29-89fe-5df65ce9b324\",\"type\":\"SaveTool\"},{\"id\":\"bed45104-3543-40cb-81ad-4505b49c1067\",\"type\":\"ResetTool\"},{\"id\":\"33bcdf4d-8d2a-4293-a9e9-587a170803a6\",\"type\":\"HelpTool\"}]},\"id\":\"5a183382-de7b-44a3-b380-e6a98c49d345\",\"type\":\"Toolbar\"},{\"attributes\":{\"fill_alpha\":{\"field\":\"fill_alpha\"},\"fill_color\":{\"field\":\"color\"},\"height\":{\"field\":\"height\",\"units\":\"data\"},\"line_color\":{\"field\":\"line_color\"},\"width\":{\"field\":\"width\",\"units\":\"data\"},\"x\":{\"field\":\"x\"},\"y\":{\"field\":\"y\"}},\"id\":\"c19d5bc5-cd24-4c33-896e-c3d5ddac1179\",\"type\":\"Rect\"},{\"attributes\":{\"data_source\":{\"id\":\"afdce7e3-8f65-498a-adcc-6338073e6480\",\"type\":\"ColumnDataSource\"},\"glyph\":{\"id\":\"cc10729e-a4dc-418c-9a1e-21c5252ce837\",\"type\":\"Rect\"},\"hover_glyph\":null,\"muted_glyph\":null},\"id\":\"f54a65ea-9051-4b96-b4ec-6a84f94b1bef\",\"type\":\"GlyphRenderer\"},{\"attributes\":{\"plot\":null,\"text\":null},\"id\":\"198ed50e-56cb-4956-aef0-e6e1d82e46e9\",\"type\":\"Title\"},{\"attributes\":{\"callback\":null,\"column_names\":[\"line_color\",\"line_alpha\",\"color\",\"fill_alpha\",\"height\",\"width\",\"y\",\"x\",\"label\"],\"data\":{\"chart_index\":[{\"index\":\"GOV\"}],\"color\":[\"#f22c40\"],\"fill_alpha\":[0.8],\"height\":[49.0],\"index\":[\"GOV\"],\"label\":[{\"index\":\"GOV\"}],\"line_alpha\":[1.0],\"line_color\":[\"white\"],\"width\":[0.4],\"x\":[\"GOV\"],\"y\":[24.5]}},\"id\":\"32be365d-6843-4894-89ba-610e699c7c9a\",\"type\":\"ColumnDataSource\"},{\"attributes\":{\"data_source\":{\"id\":\"32be365d-6843-4894-89ba-610e699c7c9a\",\"type\":\"ColumnDataSource\"},\"glyph\":{\"id\":\"1dfc3628-9acd-4f50-8df2-c78a2eb7d58d\",\"type\":\"Rect\"},\"hover_glyph\":null,\"muted_glyph\":null},\"id\":\"2ff10721-48ce-4a2c-a332-3c8dd96d8d9b\",\"type\":\"GlyphRenderer\"},{\"attributes\":{\"fill_alpha\":{\"field\":\"fill_alpha\"},\"fill_color\":{\"field\":\"color\"},\"height\":{\"field\":\"height\",\"units\":\"data\"},\"line_color\":{\"field\":\"line_color\"},\"width\":{\"field\":\"width\",\"units\":\"data\"},\"x\":{\"field\":\"x\"},\"y\":{\"field\":\"y\"}},\"id\":\"c54ceead-403f-4783-8554-37d8b53d2124\",\"type\":\"Rect\"},{\"attributes\":{\"data_source\":{\"id\":\"0965e4f8-405b-46e2-99fd-84ae33985a5e\",\"type\":\"ColumnDataSource\"},\"glyph\":{\"id\":\"3edb5ec8-e42e-4494-bd30-0128f7940943\",\"type\":\"Rect\"},\"hover_glyph\":null,\"muted_glyph\":null},\"id\":\"f664efc5-eddf-4d71-b1c5-daa553e5735c\",\"type\":\"GlyphRenderer\"},{\"attributes\":{},\"id\":\"d9d74b1f-a962-41e0-8cbe-40f77b356165\",\"type\":\"CategoricalTicker\"},{\"attributes\":{\"callback\":null,\"column_names\":[\"line_color\",\"line_alpha\",\"color\",\"fill_alpha\",\"height\",\"width\",\"y\",\"x\",\"label\"],\"data\":{\"chart_index\":[{\"index\":\"TC\"}],\"color\":[\"#f22c40\"],\"fill_alpha\":[0.8],\"height\":[54.0],\"index\":[\"TC\"],\"label\":[{\"index\":\"TC\"}],\"line_alpha\":[1.0],\"line_color\":[\"white\"],\"width\":[0.4],\"x\":[\"TC\"],\"y\":[27.0]}},\"id\":\"689ff62e-cc1a-4786-85b0-0f3c027eb017\",\"type\":\"ColumnDataSource\"},{\"attributes\":{\"formatter\":{\"id\":\"4c068a0a-d4fd-4d69-b56e-bd8a38009663\",\"type\":\"CategoricalTickFormatter\"},\"major_label_orientation\":0.7853981633974483,\"plot\":{\"id\":\"2b6dd22c-e5fe-475f-8b21-dd9034cb2ca7\",\"subtype\":\"Chart\",\"type\":\"Plot\"},\"ticker\":{\"id\":\"d9d74b1f-a962-41e0-8cbe-40f77b356165\",\"type\":\"CategoricalTicker\"}},\"id\":\"5e6cbf0d-931b-4f1e-abca-2e1e58e0ac95\",\"type\":\"CategoricalAxis\"},{\"attributes\":{\"data_source\":{\"id\":\"cb838f96-4468-454a-be9b-9da2a1b90509\",\"type\":\"ColumnDataSource\"},\"glyph\":{\"id\":\"c1fbbc8c-fd0b-4d7f-a688-f10a2cb98147\",\"type\":\"Rect\"},\"hover_glyph\":null,\"muted_glyph\":null},\"id\":\"302f995f-d17a-400e-a20a-2abb8419c4e5\",\"type\":\"GlyphRenderer\"},{\"attributes\":{\"fill_alpha\":{\"field\":\"fill_alpha\"},\"fill_color\":{\"field\":\"color\"},\"height\":{\"field\":\"height\",\"units\":\"data\"},\"line_color\":{\"field\":\"line_color\"},\"width\":{\"field\":\"width\",\"units\":\"data\"},\"x\":{\"field\":\"x\"},\"y\":{\"field\":\"y\"}},\"id\":\"17d628c8-6983-4254-88c8-a877dfb97832\",\"type\":\"Rect\"},{\"attributes\":{\"fill_alpha\":{\"field\":\"fill_alpha\"},\"fill_color\":{\"field\":\"color\"},\"height\":{\"field\":\"height\",\"units\":\"data\"},\"line_color\":{\"field\":\"line_color\"},\"width\":{\"field\":\"width\",\"units\":\"data\"},\"x\":{\"field\":\"x\"},\"y\":{\"field\":\"y\"}},\"id\":\"44fe8b02-2a82-4813-982f-53a51c51f306\",\"type\":\"Rect\"},{\"attributes\":{\"callback\":null,\"column_names\":[\"line_color\",\"line_alpha\",\"color\",\"fill_alpha\",\"height\",\"width\",\"y\",\"x\",\"label\"],\"data\":{\"chart_index\":[{\"index\":\"TRANS\"}],\"color\":[\"#f22c40\"],\"fill_alpha\":[0.8],\"height\":[55.0],\"index\":[\"TRANS\"],\"label\":[{\"index\":\"TRANS\"}],\"line_alpha\":[1.0],\"line_color\":[\"white\"],\"width\":[0.4],\"x\":[\"TRANS\"],\"y\":[27.5]}},\"id\":\"21522d29-2234-4fd1-a489-51dac77797c8\",\"type\":\"ColumnDataSource\"},{\"attributes\":{\"callback\":null,\"end\":57.75},\"id\":\"31852b5a-c019-467a-98b5-03eca88774a1\",\"type\":\"Range1d\"},{\"attributes\":{\"plot\":{\"id\":\"2b6dd22c-e5fe-475f-8b21-dd9034cb2ca7\",\"subtype\":\"Chart\",\"type\":\"Plot\"}},\"id\":\"eefdf921-9a2d-4a29-89fe-5df65ce9b324\",\"type\":\"SaveTool\"},{\"attributes\":{\"callback\":null,\"column_names\":[\"line_color\",\"line_alpha\",\"color\",\"fill_alpha\",\"height\",\"width\",\"y\",\"x\",\"label\"],\"data\":{\"chart_index\":[{\"index\":\"MAP\"}],\"color\":[\"#f22c40\"],\"fill_alpha\":[0.8],\"height\":[52.0],\"index\":[\"MAP\"],\"label\":[{\"index\":\"MAP\"}],\"line_alpha\":[1.0],\"line_color\":[\"white\"],\"width\":[0.4],\"x\":[\"MAP\"],\"y\":[26.0]}},\"id\":\"77808f06-c7ba-4552-98fe-58a80f2cac16\",\"type\":\"ColumnDataSource\"},{\"attributes\":{\"data_source\":{\"id\":\"64a25e5e-b4a7-49b0-9ceb-de6c46ef9d4b\",\"type\":\"ColumnDataSource\"},\"glyph\":{\"id\":\"93ba4edb-c74d-4cda-92ad-d358ae0b8a9b\",\"type\":\"Rect\"},\"hover_glyph\":null,\"muted_glyph\":null},\"id\":\"d1b8cd59-1b4d-45a4-9cce-afc351d8705b\",\"type\":\"GlyphRenderer\"},{\"attributes\":{\"data_source\":{\"id\":\"77808f06-c7ba-4552-98fe-58a80f2cac16\",\"type\":\"ColumnDataSource\"},\"glyph\":{\"id\":\"17d628c8-6983-4254-88c8-a877dfb97832\",\"type\":\"Rect\"},\"hover_glyph\":null,\"muted_glyph\":null},\"id\":\"991ec695-418d-41d6-9553-22760333588d\",\"type\":\"GlyphRenderer\"},{\"attributes\":{\"callback\":null,\"column_names\":[\"line_color\",\"line_alpha\",\"color\",\"fill_alpha\",\"height\",\"width\",\"y\",\"x\",\"label\"],\"data\":{\"chart_index\":[{\"index\":\"GS\"}],\"color\":[\"#f22c40\"],\"fill_alpha\":[0.8],\"height\":[50.0],\"index\":[\"GS\"],\"label\":[{\"index\":\"GS\"}],\"line_alpha\":[1.0],\"line_color\":[\"white\"],\"width\":[0.4],\"x\":[\"GS\"],\"y\":[25.0]}},\"id\":\"64a25e5e-b4a7-49b0-9ceb-de6c46ef9d4b\",\"type\":\"ColumnDataSource\"},{\"attributes\":{\"bottom_units\":\"screen\",\"fill_alpha\":{\"value\":0.5},\"fill_color\":{\"value\":\"lightgrey\"},\"left_units\":\"screen\",\"level\":\"overlay\",\"line_alpha\":{\"value\":1.0},\"line_color\":{\"value\":\"black\"},\"line_dash\":[4,4],\"line_width\":{\"value\":2},\"plot\":null,\"render_mode\":\"css\",\"right_units\":\"screen\",\"top_units\":\"screen\"},\"id\":\"810be4e7-f178-4681-b7f4-788e5ab3bb0b\",\"type\":\"BoxAnnotation\"},{\"attributes\":{\"axis_label\":\"No. of Files\",\"formatter\":{\"id\":\"b689aa7e-162b-4f48-a875-797eea18a32a\",\"type\":\"BasicTickFormatter\"},\"plot\":{\"id\":\"2b6dd22c-e5fe-475f-8b21-dd9034cb2ca7\",\"subtype\":\"Chart\",\"type\":\"Plot\"},\"ticker\":{\"id\":\"41291440-2bc7-4ffb-850a-a470cce3df6a\",\"type\":\"BasicTicker\"}},\"id\":\"18ef2624-fdb3-4546-913e-48bcb2968cfc\",\"type\":\"LinearAxis\"},{\"attributes\":{\"data_source\":{\"id\":\"689ff62e-cc1a-4786-85b0-0f3c027eb017\",\"type\":\"ColumnDataSource\"},\"glyph\":{\"id\":\"44fe8b02-2a82-4813-982f-53a51c51f306\",\"type\":\"Rect\"},\"hover_glyph\":null,\"muted_glyph\":null},\"id\":\"6d75f00b-0750-4b98-a4a2-b3508aac4ebf\",\"type\":\"GlyphRenderer\"},{\"attributes\":{\"plot\":{\"id\":\"2b6dd22c-e5fe-475f-8b21-dd9034cb2ca7\",\"subtype\":\"Chart\",\"type\":\"Plot\"}},\"id\":\"673908c0-fa87-4013-a223-482703a8b48b\",\"type\":\"WheelZoomTool\"},{\"attributes\":{\"fill_alpha\":{\"field\":\"fill_alpha\"},\"fill_color\":{\"field\":\"color\"},\"height\":{\"field\":\"height\",\"units\":\"data\"},\"line_color\":{\"field\":\"line_color\"},\"width\":{\"field\":\"width\",\"units\":\"data\"},\"x\":{\"field\":\"x\"},\"y\":{\"field\":\"y\"}},\"id\":\"93ba4edb-c74d-4cda-92ad-d358ae0b8a9b\",\"type\":\"Rect\"},{\"attributes\":{\"plot\":{\"id\":\"2b6dd22c-e5fe-475f-8b21-dd9034cb2ca7\",\"subtype\":\"Chart\",\"type\":\"Plot\"}},\"id\":\"33bcdf4d-8d2a-4293-a9e9-587a170803a6\",\"type\":\"HelpTool\"},{\"attributes\":{\"callback\":null,\"column_names\":[\"line_color\",\"line_alpha\",\"color\",\"fill_alpha\",\"height\",\"width\",\"y\",\"x\",\"label\"],\"data\":{\"chart_index\":[{\"index\":\"SOC\"}],\"color\":[\"#f22c40\"],\"fill_alpha\":[0.8],\"height\":[53.0],\"index\":[\"SOC\"],\"label\":[{\"index\":\"SOC\"}],\"line_alpha\":[1.0],\"line_color\":[\"white\"],\"width\":[0.4],\"x\":[\"SOC\"],\"y\":[26.5]}},\"id\":\"0965e4f8-405b-46e2-99fd-84ae33985a5e\",\"type\":\"ColumnDataSource\"},{\"attributes\":{\"data_source\":{\"id\":\"9491b517-7d43-46b2-a2f7-307677512c0e\",\"type\":\"ColumnDataSource\"},\"glyph\":{\"id\":\"c19d5bc5-cd24-4c33-896e-c3d5ddac1179\",\"type\":\"Rect\"},\"hover_glyph\":null,\"muted_glyph\":null},\"id\":\"21edc13c-973d-4be3-8b5a-c6907ca50038\",\"type\":\"GlyphRenderer\"},{\"attributes\":{\"callback\":null,\"column_names\":[\"line_color\",\"line_alpha\",\"color\",\"fill_alpha\",\"height\",\"width\",\"y\",\"x\",\"label\"],\"data\":{\"chart_index\":[{\"index\":\"EDUC\"}],\"color\":[\"#f22c40\"],\"fill_alpha\":[0.8],\"height\":[47.0],\"index\":[\"EDUC\"],\"label\":[{\"index\":\"EDUC\"}],\"line_alpha\":[1.0],\"line_color\":[\"white\"],\"width\":[0.4],\"x\":[\"EDUC\"],\"y\":[23.5]}},\"id\":\"afdce7e3-8f65-498a-adcc-6338073e6480\",\"type\":\"ColumnDataSource\"},{\"attributes\":{},\"id\":\"41291440-2bc7-4ffb-850a-a470cce3df6a\",\"type\":\"BasicTicker\"},{\"attributes\":{},\"id\":\"4c068a0a-d4fd-4d69-b56e-bd8a38009663\",\"type\":\"CategoricalTickFormatter\"},{\"attributes\":{\"overlay\":{\"id\":\"810be4e7-f178-4681-b7f4-788e5ab3bb0b\",\"type\":\"BoxAnnotation\"},\"plot\":{\"id\":\"2b6dd22c-e5fe-475f-8b21-dd9034cb2ca7\",\"subtype\":\"Chart\",\"type\":\"Plot\"}},\"id\":\"f89e6256-b570-4f02-8db4-e840036d2983\",\"type\":\"BoxZoomTool\"},{\"attributes\":{\"fill_alpha\":{\"field\":\"fill_alpha\"},\"fill_color\":{\"field\":\"color\"},\"height\":{\"field\":\"height\",\"units\":\"data\"},\"line_color\":{\"field\":\"line_color\"},\"width\":{\"field\":\"width\",\"units\":\"data\"},\"x\":{\"field\":\"x\"},\"y\":{\"field\":\"y\"}},\"id\":\"cc10729e-a4dc-418c-9a1e-21c5252ce837\",\"type\":\"Rect\"},{\"attributes\":{\"plot\":{\"id\":\"2b6dd22c-e5fe-475f-8b21-dd9034cb2ca7\",\"subtype\":\"Chart\",\"type\":\"Plot\"}},\"id\":\"a5cf311b-5653-4bf6-8aae-a24938c319ba\",\"type\":\"PanTool\"},{\"attributes\":{\"data_source\":{\"id\":\"21522d29-2234-4fd1-a489-51dac77797c8\",\"type\":\"ColumnDataSource\"},\"glyph\":{\"id\":\"35c3d22c-3202-4f51-af90-10b684b85560\",\"type\":\"Rect\"},\"hover_glyph\":null,\"muted_glyph\":null},\"id\":\"5ac3786a-5731-4105-b275-8876d460be80\",\"type\":\"GlyphRenderer\"},{\"attributes\":{},\"id\":\"dd3f306f-3059-4807-8861-bcf849bfb1a9\",\"type\":\"LinearScale\"},{\"attributes\":{\"callback\":null,\"column_names\":[\"line_color\",\"line_alpha\",\"color\",\"fill_alpha\",\"height\",\"width\",\"y\",\"x\",\"label\"],\"data\":{\"chart_index\":[{\"index\":\"BE\"}],\"color\":[\"#f22c40\"],\"fill_alpha\":[0.8],\"height\":[44.0],\"index\":[\"BE\"],\"label\":[{\"index\":\"BE\"}],\"line_alpha\":[1.0],\"line_color\":[\"white\"],\"width\":[0.4],\"x\":[\"BE\"],\"y\":[22.0]}},\"id\":\"bd9c551b-9b9c-4787-a1d1-6dc26b6b42d3\",\"type\":\"ColumnDataSource\"},{\"attributes\":{\"data_source\":{\"id\":\"bd9c551b-9b9c-4787-a1d1-6dc26b6b42d3\",\"type\":\"ColumnDataSource\"},\"glyph\":{\"id\":\"458b383d-0a11-46db-bcf9-7e0219c6125d\",\"type\":\"Rect\"},\"hover_glyph\":null,\"muted_glyph\":null},\"id\":\"3f0b2c22-c02e-4763-9b24-a56737fbbc7c\",\"type\":\"GlyphRenderer\"},{\"attributes\":{\"dimension\":1,\"plot\":{\"id\":\"2b6dd22c-e5fe-475f-8b21-dd9034cb2ca7\",\"subtype\":\"Chart\",\"type\":\"Plot\"},\"ticker\":{\"id\":\"41291440-2bc7-4ffb-850a-a470cce3df6a\",\"type\":\"BasicTicker\"}},\"id\":\"7a0fd764-6035-4da9-a62e-db5427b2831a\",\"type\":\"Grid\"},{\"attributes\":{\"fill_alpha\":{\"field\":\"fill_alpha\"},\"fill_color\":{\"field\":\"color\"},\"height\":{\"field\":\"height\",\"units\":\"data\"},\"line_color\":{\"field\":\"line_color\"},\"width\":{\"field\":\"width\",\"units\":\"data\"},\"x\":{\"field\":\"x\"},\"y\":{\"field\":\"y\"}},\"id\":\"35c3d22c-3202-4f51-af90-10b684b85560\",\"type\":\"Rect\"},{\"attributes\":{},\"id\":\"02688e69-0e88-48cb-87db-f0e2f946b788\",\"type\":\"ToolEvents\"},{\"attributes\":{\"fill_alpha\":{\"field\":\"fill_alpha\"},\"fill_color\":{\"field\":\"color\"},\"height\":{\"field\":\"height\",\"units\":\"data\"},\"line_color\":{\"field\":\"line_color\"},\"width\":{\"field\":\"width\",\"units\":\"data\"},\"x\":{\"field\":\"x\"},\"y\":{\"field\":\"y\"}},\"id\":\"1dfc3628-9acd-4f50-8df2-c78a2eb7d58d\",\"type\":\"Rect\"},{\"attributes\":{\"callback\":null,\"column_names\":[\"line_color\",\"line_alpha\",\"color\",\"fill_alpha\",\"height\",\"width\",\"y\",\"x\",\"label\"],\"data\":{\"chart_index\":[{\"index\":\"DEF\"}],\"color\":[\"#f22c40\"],\"fill_alpha\":[0.8],\"height\":[46.0],\"index\":[\"DEF\"],\"label\":[{\"index\":\"DEF\"}],\"line_alpha\":[1.0],\"line_color\":[\"white\"],\"width\":[0.4],\"x\":[\"DEF\"],\"y\":[23.0]}},\"id\":\"9491b517-7d43-46b2-a2f7-307677512c0e\",\"type\":\"ColumnDataSource\"},{\"attributes\":{\"plot\":{\"id\":\"2b6dd22c-e5fe-475f-8b21-dd9034cb2ca7\",\"subtype\":\"Chart\",\"type\":\"Plot\"}},\"id\":\"bed45104-3543-40cb-81ad-4505b49c1067\",\"type\":\"ResetTool\"},{\"attributes\":{},\"id\":\"b7f7ba9e-3731-4ebe-bac5-e71e495bb6b3\",\"type\":\"CategoricalScale\"},{\"attributes\":{\"fill_alpha\":{\"field\":\"fill_alpha\"},\"fill_color\":{\"field\":\"color\"},\"height\":{\"field\":\"height\",\"units\":\"data\"},\"line_color\":{\"field\":\"line_color\"},\"width\":{\"field\":\"width\",\"units\":\"data\"},\"x\":{\"field\":\"x\"},\"y\":{\"field\":\"y\"}},\"id\":\"c1fbbc8c-fd0b-4d7f-a688-f10a2cb98147\",\"type\":\"Rect\"},{\"attributes\":{\"fill_alpha\":{\"field\":\"fill_alpha\"},\"fill_color\":{\"field\":\"color\"},\"height\":{\"field\":\"height\",\"units\":\"data\"},\"line_color\":{\"field\":\"line_color\"},\"width\":{\"field\":\"width\",\"units\":\"data\"},\"x\":{\"field\":\"x\"},\"y\":{\"field\":\"y\"}},\"id\":\"79ab5668-2e67-450a-9edf-2ad345f37242\",\"type\":\"Rect\"},{\"attributes\":{\"data_source\":{\"id\":\"8a0965cb-cd00-4b26-a044-e37772f277b2\",\"type\":\"ColumnDataSource\"},\"glyph\":{\"id\":\"79ab5668-2e67-450a-9edf-2ad345f37242\",\"type\":\"Rect\"},\"hover_glyph\":null,\"muted_glyph\":null},\"id\":\"4fe61fe3-5219-4ee8-ab6f-6e821bf62c39\",\"type\":\"GlyphRenderer\"}],\"root_ids\":[\"2b6dd22c-e5fe-475f-8b21-dd9034cb2ca7\"]},\"title\":\"Bokeh Application\",\"version\":\"0.12.6\"}};\n",
       "            var render_items = [{\"docid\":\"4758358f-63df-4504-8881-2b5708da9832\",\"elementid\":\"c1ed6a23-e0a0-4dab-865b-d92bbd47d2e0\",\"modelid\":\"2b6dd22c-e5fe-475f-8b21-dd9034cb2ca7\"}];\n",
       "            \n",
       "            Bokeh.embed.embed_items(docs_json, render_items);\n",
       "          };\n",
       "          if (document.readyState != \"loading\") fn();\n",
       "          else document.addEventListener(\"DOMContentLoaded\", fn);\n",
       "        })();\n",
       "      },\n",
       "      function(Bokeh) {\n",
       "      }\n",
       "    ];\n",
       "  \n",
       "    function run_inline_js() {\n",
       "      \n",
       "      if ((window.Bokeh !== undefined) || (force === true)) {\n",
       "        for (var i = 0; i < inline_js.length; i++) {\n",
       "          inline_js[i](window.Bokeh);\n",
       "        }if (force === true) {\n",
       "          display_loaded();\n",
       "        }} else if (Date.now() < window._bokeh_timeout) {\n",
       "        setTimeout(run_inline_js, 100);\n",
       "      } else if (!window._bokeh_failed_load) {\n",
       "        console.log(\"Bokeh: BokehJS failed to load within specified timeout.\");\n",
       "        window._bokeh_failed_load = true;\n",
       "      } else if (force !== true) {\n",
       "        var cell = $(document.getElementById(\"c1ed6a23-e0a0-4dab-865b-d92bbd47d2e0\")).parents('.cell').data().cell;\n",
       "        cell.output_area.append_execute_result(NB_LOAD_WARNING)\n",
       "      }\n",
       "  \n",
       "    }\n",
       "  \n",
       "    if (window._bokeh_is_loading === 0) {\n",
       "      console.log(\"Bokeh: BokehJS loaded, going straight to plotting\");\n",
       "      run_inline_js();\n",
       "    } else {\n",
       "      load_libs(js_urls, function() {\n",
       "        console.log(\"Bokeh: BokehJS plotting callback run at\", now());\n",
       "        run_inline_js();\n",
       "      });\n",
       "    }\n",
       "  }(this));\n",
       "</script>"
      ]
     },
     "metadata": {},
     "output_type": "display_data"
    }
   ],
   "source": [
    "p = Bar(df, bar_width=0.4, labels= new_fields, legend=False, ylabel = 'No. of Files')\n",
    "\n",
    "show(p)"
   ]
  }
 ],
 "metadata": {
  "extensions": {
   "jupyter_dashboards": {
    "activeView": "grid_default",
    "version": 1,
    "views": {
     "grid_default": {
      "cellMargin": 10,
      "defaultCellHeight": 20,
      "maxColumns": 12,
      "name": "grid",
      "type": "grid"
     },
     "report_default": {
      "name": "report",
      "type": "report"
     }
    }
   }
  },
  "kernelspec": {
   "display_name": "Python 2",
   "language": "python",
   "name": "python2"
  },
  "language_info": {
   "codemirror_mode": {
    "name": "ipython",
    "version": 2
   },
   "file_extension": ".py",
   "mimetype": "text/x-python",
   "name": "python",
   "nbconvert_exporter": "python",
   "pygments_lexer": "ipython2",
   "version": "2.7.13"
  }
 },
 "nbformat": 4,
 "nbformat_minor": 2
}
