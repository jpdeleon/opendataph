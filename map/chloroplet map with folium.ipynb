{
 "cells": [
  {
   "cell_type": "markdown",
   "metadata": {},
   "source": [
    "# Basic Map with Folium\n",
    "\n",
    "* [examples](http://nbviewer.jupyter.org/github/python-visualization/folium/blob/master/examples/)\n",
    "* [data: countries geojson](https://github.com/johan/world.geo.json/tree/master/countries)"
   ]
  },
  {
   "cell_type": "code",
   "execution_count": 1,
   "metadata": {
    "ExecuteTime": {
     "end_time": "2017-09-03T21:24:00.210322Z",
     "start_time": "2017-09-03T21:24:00.092799Z"
    }
   },
   "outputs": [
    {
     "name": "stdout",
     "output_type": "stream",
     "text": [
      "Python 3.6.1 :: Continuum Analytics, Inc.\n"
     ]
    }
   ],
   "source": [
    "!python --version"
   ]
  },
  {
   "cell_type": "code",
   "execution_count": 2,
   "metadata": {
    "ExecuteTime": {
     "end_time": "2017-09-03T21:24:01.599680Z",
     "start_time": "2017-09-03T21:24:00.446290Z"
    }
   },
   "outputs": [
    {
     "data": {
      "text/plain": [
       "'0.3.0'"
      ]
     },
     "execution_count": 2,
     "metadata": {},
     "output_type": "execute_result"
    }
   ],
   "source": [
    "import folium\n",
    "\n",
    "folium.__version__"
   ]
  },
  {
   "cell_type": "markdown",
   "metadata": {},
   "source": [
    "## basic map tiles"
   ]
  },
  {
   "cell_type": "code",
   "execution_count": 3,
   "metadata": {
    "ExecuteTime": {
     "end_time": "2017-09-03T21:24:03.579070Z",
     "start_time": "2017-09-03T21:24:03.350976Z"
    },
    "scrolled": false
   },
   "outputs": [
    {
     "data": {
      "text/html": [
       "<div style=\"width:100%;\"><div style=\"position:relative;width:100%;height:0;padding-bottom:60%;\"><iframe src=\"data:text/html;charset=utf-8;base64,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\" style=\"position:absolute;width:100%;height:100%;left:0;top:0;border:none !important;\" allowfullscreen webkitallowfullscreen mozallowfullscreen></iframe></div></div>"
      ],
      "text/plain": [
       "<folium.folium.Map at 0x7f73792e7080>"
      ]
     },
     "execution_count": 3,
     "metadata": {},
     "output_type": "execute_result"
    }
   ],
   "source": [
    "import os\n",
    "import pandas as pd\n",
    "import numpy as np\n",
    "\n",
    "ph_coord=[13, 122]\n",
    "\n",
    "m = folium.Map(location=ph_coord, \n",
    "                     #tiles='Stamen Toner',\n",
    "                     #tiles='cartodbpositron'\n",
    "                     zoom_start=6)\n",
    "\n",
    "if not os.path.exists('results'):\n",
    "    os.makedirs('results')\n",
    "    \n",
    "m.save(os.path.join('results', 'out0.html'))\n",
    "m"
   ]
  },
  {
   "cell_type": "markdown",
   "metadata": {},
   "source": [
    "## Polygon"
   ]
  },
  {
   "cell_type": "markdown",
   "metadata": {},
   "source": [
    "### Add geojson data\n",
    "\n",
    "* high resolution map of boundary is shown [here](https://github.com/benjiao/philippine-boundaries/blob/master/regions/regions.geojson)"
   ]
  },
  {
   "cell_type": "code",
   "execution_count": 4,
   "metadata": {
    "ExecuteTime": {
     "end_time": "2017-09-01T05:38:40.828589Z",
     "start_time": "2017-09-01T05:38:40.718894Z"
    },
    "collapsed": true
   },
   "outputs": [],
   "source": [
    "import json, urllib.request\n",
    "\n",
    "url_low_res='https://raw.githubusercontent.com/johan/world.geo.json/master/countries/PHL.geo.json'\n",
    "url_hi_res='https://raw.githubusercontent.com/benjiao/philippine-boundaries/master/regions/regions.geojson'\n",
    "\n",
    "with urllib.request.urlopen(url_low_res) as url:\n",
    "    geojson_data = json.loads(url.read().decode())\n",
    "    #print(geojson_data)  "
   ]
  },
  {
   "cell_type": "code",
   "execution_count": 5,
   "metadata": {
    "ExecuteTime": {
     "end_time": "2017-09-01T05:38:40.838434Z",
     "start_time": "2017-09-01T05:38:40.832096Z"
    }
   },
   "outputs": [
    {
     "data": {
      "text/plain": [
       "dict_keys(['type', 'features'])"
      ]
     },
     "execution_count": 5,
     "metadata": {},
     "output_type": "execute_result"
    }
   ],
   "source": [
    "geojson_data.keys()"
   ]
  },
  {
   "cell_type": "code",
   "execution_count": 6,
   "metadata": {
    "ExecuteTime": {
     "end_time": "2017-09-01T05:38:40.849782Z",
     "start_time": "2017-09-01T05:38:40.842549Z"
    },
    "scrolled": false
   },
   "outputs": [
    {
     "data": {
      "text/plain": [
       "dict_keys(['type', 'id', 'properties', 'geometry'])"
      ]
     },
     "execution_count": 6,
     "metadata": {},
     "output_type": "execute_result"
    }
   ],
   "source": [
    "geojson_data['features'][0].keys()"
   ]
  },
  {
   "cell_type": "code",
   "execution_count": 7,
   "metadata": {
    "ExecuteTime": {
     "end_time": "2017-09-01T05:38:40.876629Z",
     "start_time": "2017-09-01T05:38:40.853825Z"
    },
    "scrolled": false
   },
   "outputs": [
    {
     "data": {
      "text/plain": [
       "[{'geometry': {'coordinates': [[[[126.376814, 8.414706],\n",
       "      [126.478513, 7.750354],\n",
       "      [126.537424, 7.189381],\n",
       "      [126.196773, 6.274294],\n",
       "      [125.831421, 7.293715],\n",
       "      [125.363852, 6.786485],\n",
       "      [125.683161, 6.049657],\n",
       "      [125.396512, 5.581003],\n",
       "      [124.219788, 6.161355],\n",
       "      [123.93872, 6.885136],\n",
       "      [124.243662, 7.36061],\n",
       "      [123.610212, 7.833527],\n",
       "      [123.296071, 7.418876],\n",
       "      [122.825506, 7.457375],\n",
       "      [122.085499, 6.899424],\n",
       "      [121.919928, 7.192119],\n",
       "      [122.312359, 8.034962],\n",
       "      [122.942398, 8.316237],\n",
       "      [123.487688, 8.69301],\n",
       "      [123.841154, 8.240324],\n",
       "      [124.60147, 8.514158],\n",
       "      [124.764612, 8.960409],\n",
       "      [125.471391, 8.986997],\n",
       "      [125.412118, 9.760335],\n",
       "      [126.222714, 9.286074],\n",
       "      [126.306637, 8.782487],\n",
       "      [126.376814, 8.414706]]],\n",
       "    [[[123.982438, 10.278779],\n",
       "      [123.623183, 9.950091],\n",
       "      [123.309921, 9.318269],\n",
       "      [122.995883, 9.022189],\n",
       "      [122.380055, 9.713361],\n",
       "      [122.586089, 9.981045],\n",
       "      [122.837081, 10.261157],\n",
       "      [122.947411, 10.881868],\n",
       "      [123.49885, 10.940624],\n",
       "      [123.337774, 10.267384],\n",
       "      [124.077936, 11.232726],\n",
       "      [123.982438, 10.278779]]],\n",
       "    [[[118.504581, 9.316383],\n",
       "      [117.174275, 8.3675],\n",
       "      [117.664477, 9.066889],\n",
       "      [118.386914, 9.6845],\n",
       "      [118.987342, 10.376292],\n",
       "      [119.511496, 11.369668],\n",
       "      [119.689677, 10.554291],\n",
       "      [119.029458, 10.003653],\n",
       "      [118.504581, 9.316383]]],\n",
       "    [[[121.883548, 11.891755],\n",
       "      [122.483821, 11.582187],\n",
       "      [123.120217, 11.58366],\n",
       "      [123.100838, 11.165934],\n",
       "      [122.637714, 10.741308],\n",
       "      [122.00261, 10.441017],\n",
       "      [121.967367, 10.905691],\n",
       "      [122.03837, 11.415841],\n",
       "      [121.883548, 11.891755]]],\n",
       "    [[[125.502552, 12.162695],\n",
       "      [125.783465, 11.046122],\n",
       "      [125.011884, 11.311455],\n",
       "      [125.032761, 10.975816],\n",
       "      [125.277449, 10.358722],\n",
       "      [124.801819, 10.134679],\n",
       "      [124.760168, 10.837995],\n",
       "      [124.459101, 10.88993],\n",
       "      [124.302522, 11.495371],\n",
       "      [124.891013, 11.415583],\n",
       "      [124.87799, 11.79419],\n",
       "      [124.266762, 12.557761],\n",
       "      [125.227116, 12.535721],\n",
       "      [125.502552, 12.162695]]],\n",
       "    [[[121.527394, 13.06959],\n",
       "      [121.26219, 12.20556],\n",
       "      [120.833896, 12.704496],\n",
       "      [120.323436, 13.466413],\n",
       "      [121.180128, 13.429697],\n",
       "      [121.527394, 13.06959]]],\n",
       "    [[[121.321308, 18.504065],\n",
       "      [121.937601, 18.218552],\n",
       "      [122.246006, 18.47895],\n",
       "      [122.336957, 18.224883],\n",
       "      [122.174279, 17.810283],\n",
       "      [122.515654, 17.093505],\n",
       "      [122.252311, 16.262444],\n",
       "      [121.662786, 15.931018],\n",
       "      [121.50507, 15.124814],\n",
       "      [121.728829, 14.328376],\n",
       "      [122.258925, 14.218202],\n",
       "      [122.701276, 14.336541],\n",
       "      [123.950295, 13.782131],\n",
       "      [123.855107, 13.237771],\n",
       "      [124.181289, 12.997527],\n",
       "      [124.077419, 12.536677],\n",
       "      [123.298035, 13.027526],\n",
       "      [122.928652, 13.55292],\n",
       "      [122.671355, 13.185836],\n",
       "      [122.03465, 13.784482],\n",
       "      [121.126385, 13.636687],\n",
       "      [120.628637, 13.857656],\n",
       "      [120.679384, 14.271016],\n",
       "      [120.991819, 14.525393],\n",
       "      [120.693336, 14.756671],\n",
       "      [120.564145, 14.396279],\n",
       "      [120.070429, 14.970869],\n",
       "      [119.920929, 15.406347],\n",
       "      [119.883773, 16.363704],\n",
       "      [120.286488, 16.034629],\n",
       "      [120.390047, 17.599081],\n",
       "      [120.715867, 18.505227],\n",
       "      [121.321308, 18.504065]]]],\n",
       "   'type': 'MultiPolygon'},\n",
       "  'id': 'PHL',\n",
       "  'properties': {'name': 'Philippines'},\n",
       "  'type': 'Feature'}]"
      ]
     },
     "execution_count": 7,
     "metadata": {},
     "output_type": "execute_result"
    }
   ],
   "source": [
    "[geojson_data['features'][i] for i in range(len(geojson_data['features']))]"
   ]
  },
  {
   "cell_type": "code",
   "execution_count": 8,
   "metadata": {
    "ExecuteTime": {
     "end_time": "2017-09-01T05:38:40.884364Z",
     "start_time": "2017-09-01T05:38:40.879163Z"
    },
    "scrolled": false
   },
   "outputs": [
    {
     "data": {
      "text/plain": [
       "dict_keys(['type', 'coordinates'])"
      ]
     },
     "execution_count": 8,
     "metadata": {},
     "output_type": "execute_result"
    }
   ],
   "source": [
    "geojson_data['features'][0]['geometry'].keys()"
   ]
  },
  {
   "cell_type": "code",
   "execution_count": 9,
   "metadata": {
    "ExecuteTime": {
     "end_time": "2017-09-01T05:38:40.937772Z",
     "start_time": "2017-09-01T05:38:40.886935Z"
    }
   },
   "outputs": [
    {
     "data": {
      "text/html": [
       "<div>\n",
       "<style scoped>\n",
       "    .dataframe tbody tr th:only-of-type {\n",
       "        vertical-align: middle;\n",
       "    }\n",
       "\n",
       "    .dataframe tbody tr th {\n",
       "        vertical-align: top;\n",
       "    }\n",
       "\n",
       "    .dataframe thead th {\n",
       "        text-align: right;\n",
       "    }\n",
       "</style>\n",
       "<table border=\"1\" class=\"dataframe\">\n",
       "  <thead>\n",
       "    <tr style=\"text-align: right;\">\n",
       "      <th></th>\n",
       "      <th>coordinates</th>\n",
       "      <th>type</th>\n",
       "    </tr>\n",
       "  </thead>\n",
       "  <tbody>\n",
       "    <tr>\n",
       "      <th>0</th>\n",
       "      <td>[[[126.376814, 8.414706], [126.478513, 7.75035...</td>\n",
       "      <td>MultiPolygon</td>\n",
       "    </tr>\n",
       "    <tr>\n",
       "      <th>1</th>\n",
       "      <td>[[[123.982438, 10.278779], [123.623183, 9.9500...</td>\n",
       "      <td>MultiPolygon</td>\n",
       "    </tr>\n",
       "    <tr>\n",
       "      <th>2</th>\n",
       "      <td>[[[118.504581, 9.316383], [117.174275, 8.3675]...</td>\n",
       "      <td>MultiPolygon</td>\n",
       "    </tr>\n",
       "    <tr>\n",
       "      <th>3</th>\n",
       "      <td>[[[121.883548, 11.891755], [122.483821, 11.582...</td>\n",
       "      <td>MultiPolygon</td>\n",
       "    </tr>\n",
       "    <tr>\n",
       "      <th>4</th>\n",
       "      <td>[[[125.502552, 12.162695], [125.783465, 11.046...</td>\n",
       "      <td>MultiPolygon</td>\n",
       "    </tr>\n",
       "  </tbody>\n",
       "</table>\n",
       "</div>"
      ],
      "text/plain": [
       "                                         coordinates          type\n",
       "0  [[[126.376814, 8.414706], [126.478513, 7.75035...  MultiPolygon\n",
       "1  [[[123.982438, 10.278779], [123.623183, 9.9500...  MultiPolygon\n",
       "2  [[[118.504581, 9.316383], [117.174275, 8.3675]...  MultiPolygon\n",
       "3  [[[121.883548, 11.891755], [122.483821, 11.582...  MultiPolygon\n",
       "4  [[[125.502552, 12.162695], [125.783465, 11.046...  MultiPolygon"
      ]
     },
     "execution_count": 9,
     "metadata": {},
     "output_type": "execute_result"
    }
   ],
   "source": [
    "import pandas as pd\n",
    "df=pd.DataFrame(geojson_data['features'][0]['geometry'])\n",
    "df.head()"
   ]
  },
  {
   "cell_type": "markdown",
   "metadata": {},
   "source": [
    "### Overlay polygon"
   ]
  },
  {
   "cell_type": "code",
   "execution_count": 10,
   "metadata": {
    "ExecuteTime": {
     "end_time": "2017-09-01T05:38:41.261223Z",
     "start_time": "2017-09-01T05:38:40.940484Z"
    }
   },
   "outputs": [
    {
     "data": {
      "text/html": [
       "<div style=\"width:100%;\"><div style=\"position:relative;width:100%;height:0;padding-bottom:60%;\"><iframe src=\"data:text/html;charset=utf-8;base64,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\" style=\"position:absolute;width:100%;height:100%;left:0;top:0;border:none !important;\" allowfullscreen webkitallowfullscreen mozallowfullscreen></iframe></div></div>"
      ],
      "text/plain": [
       "<folium.folium.Map at 0x7f7378c45b38>"
      ]
     },
     "execution_count": 10,
     "metadata": {},
     "output_type": "execute_result"
    }
   ],
   "source": [
    "import folium\n",
    "\n",
    "ph=[13, 122]\n",
    "m = folium.Map(location=ph_coord, \n",
    "                     #tiles='Stamen Toner',\n",
    "                     zoom_start=6)\n",
    "\n",
    "folium.GeoJson(\n",
    "    geojson_data,\n",
    ").add_to(m)\n",
    "\n",
    "m.save(os.path.join('results', 'out1.html'))\n",
    "m"
   ]
  },
  {
   "cell_type": "code",
   "execution_count": 11,
   "metadata": {},
   "outputs": [],
   "source": [
    "def geojson_to_pandas(geojson):\n",
    "    df=pd.DataFrame(geojson['features'][0]['geometry'])\n",
    "    return df\n",
    "\n",
    "def plot_boundary_map(data,coordinate=[13, 122],tiles=None,style=None):\n",
    "    assert isinstance(data,dict), 'data should be in geojson format!'\n",
    "    m = folium.Map(location=coordinate, \n",
    "                     tiles=tiles,\n",
    "                     zoom_start=6)\n",
    "    folium.GeoJson(data,style_function=lambda feature: style).add_to(m)\n",
    "    return m"
   ]
  },
  {
   "cell_type": "raw",
   "metadata": {},
   "source": [
    "with urllib.request.urlopen(url_hi_res) as url:\n",
    "    geojson_data = json.loads(url.read().decode())\n",
    "\n",
    "plot_boundary_map(geojson_data)"
   ]
  },
  {
   "cell_type": "markdown",
   "metadata": {},
   "source": [
    "Ipynb data rate is exceeded. See [this](https://github.com/jupyter/notebook/issues/2287) for help."
   ]
  },
  {
   "cell_type": "markdown",
   "metadata": {},
   "source": [
    "## Colormap"
   ]
  },
  {
   "cell_type": "code",
   "execution_count": 12,
   "metadata": {
    "ExecuteTime": {
     "end_time": "2017-09-01T05:38:41.269618Z",
     "start_time": "2017-09-01T05:38:41.265371Z"
    },
    "collapsed": true
   },
   "outputs": [],
   "source": [
    "#num of polygons\n",
    "regions=len(geojson_data['features'][0]['geometry']['coordinates'])"
   ]
  },
  {
   "cell_type": "code",
   "execution_count": 13,
   "metadata": {
    "ExecuteTime": {
     "end_time": "2017-09-01T05:38:41.357813Z",
     "start_time": "2017-09-01T05:38:41.273916Z"
    }
   },
   "outputs": [
    {
     "data": {
      "text/html": [
       "<div>\n",
       "<style scoped>\n",
       "    .dataframe tbody tr th:only-of-type {\n",
       "        vertical-align: middle;\n",
       "    }\n",
       "\n",
       "    .dataframe tbody tr th {\n",
       "        vertical-align: top;\n",
       "    }\n",
       "\n",
       "    .dataframe thead th {\n",
       "        text-align: right;\n",
       "    }\n",
       "</style>\n",
       "<table border=\"1\" class=\"dataframe\">\n",
       "  <thead>\n",
       "    <tr style=\"text-align: right;\">\n",
       "      <th></th>\n",
       "      <th>coordinates</th>\n",
       "      <th>type</th>\n",
       "      <th>dummy</th>\n",
       "      <th>label</th>\n",
       "    </tr>\n",
       "  </thead>\n",
       "  <tbody>\n",
       "    <tr>\n",
       "      <th>0</th>\n",
       "      <td>[[[126.376814, 8.414706], [126.478513, 7.75035...</td>\n",
       "      <td>MultiPolygon</td>\n",
       "      <td>692239.748572</td>\n",
       "      <td>#008000</td>\n",
       "    </tr>\n",
       "    <tr>\n",
       "      <th>1</th>\n",
       "      <td>[[[123.982438, 10.278779], [123.623183, 9.9500...</td>\n",
       "      <td>MultiPolygon</td>\n",
       "      <td>643363.270646</td>\n",
       "      <td>#008000</td>\n",
       "    </tr>\n",
       "    <tr>\n",
       "      <th>2</th>\n",
       "      <td>[[[118.504581, 9.316383], [117.174275, 8.3675]...</td>\n",
       "      <td>MultiPolygon</td>\n",
       "      <td>604364.336278</td>\n",
       "      <td>#008000</td>\n",
       "    </tr>\n",
       "    <tr>\n",
       "      <th>3</th>\n",
       "      <td>[[[121.883548, 11.891755], [122.483821, 11.582...</td>\n",
       "      <td>MultiPolygon</td>\n",
       "      <td>906041.377660</td>\n",
       "      <td>#008000</td>\n",
       "    </tr>\n",
       "    <tr>\n",
       "      <th>4</th>\n",
       "      <td>[[[125.502552, 12.162695], [125.783465, 11.046...</td>\n",
       "      <td>MultiPolygon</td>\n",
       "      <td>993234.204979</td>\n",
       "      <td>#008000</td>\n",
       "    </tr>\n",
       "    <tr>\n",
       "      <th>5</th>\n",
       "      <td>[[[121.527394, 13.06959], [121.26219, 12.20556...</td>\n",
       "      <td>MultiPolygon</td>\n",
       "      <td>342860.751224</td>\n",
       "      <td>#008000</td>\n",
       "    </tr>\n",
       "    <tr>\n",
       "      <th>6</th>\n",
       "      <td>[[[121.321308, 18.504065], [121.937601, 18.218...</td>\n",
       "      <td>MultiPolygon</td>\n",
       "      <td>238544.203830</td>\n",
       "      <td>#008000</td>\n",
       "    </tr>\n",
       "  </tbody>\n",
       "</table>\n",
       "</div>"
      ],
      "text/plain": [
       "                                         coordinates          type  \\\n",
       "0  [[[126.376814, 8.414706], [126.478513, 7.75035...  MultiPolygon   \n",
       "1  [[[123.982438, 10.278779], [123.623183, 9.9500...  MultiPolygon   \n",
       "2  [[[118.504581, 9.316383], [117.174275, 8.3675]...  MultiPolygon   \n",
       "3  [[[121.883548, 11.891755], [122.483821, 11.582...  MultiPolygon   \n",
       "4  [[[125.502552, 12.162695], [125.783465, 11.046...  MultiPolygon   \n",
       "5  [[[121.527394, 13.06959], [121.26219, 12.20556...  MultiPolygon   \n",
       "6  [[[121.321308, 18.504065], [121.937601, 18.218...  MultiPolygon   \n",
       "\n",
       "           dummy    label  \n",
       "0  692239.748572  #008000  \n",
       "1  643363.270646  #008000  \n",
       "2  604364.336278  #008000  \n",
       "3  906041.377660  #008000  \n",
       "4  993234.204979  #008000  \n",
       "5  342860.751224  #008000  \n",
       "6  238544.203830  #008000  "
      ]
     },
     "execution_count": 13,
     "metadata": {},
     "output_type": "execute_result"
    }
   ],
   "source": [
    "df=geojson_to_pandas(geojson_data)\n",
    "#add column with dummy data (e.g. population)\n",
    "df['dummy'] = np.random.random_sample(regions)*1e6\n",
    "df['label'] = df['dummy'].apply(lambda x: '#008000' if x==np.max(x) else '#ff0000')\n",
    "df"
   ]
  },
  {
   "cell_type": "raw",
   "metadata": {
    "ExecuteTime": {
     "end_time": "2017-09-01T05:20:28.075148Z",
     "start_time": "2017-09-01T05:20:27.998933Z"
    }
   },
   "source": [
    "m = folium.Map(location=ph_coord, \n",
    "               zoom_start=6)\n",
    "\n",
    "m.choropleth(\n",
    "    #geo_path=state_geo,\n",
    "    data=df,\n",
    "    columns=['dummy'],\n",
    "    #key_on='feature.id',\n",
    "    fill_color='YlGn',\n",
    "    fill_opacity=0.7,\n",
    "    line_opacity=0.2,\n",
    "    legend_name='Imaginary population (%)'\n",
    ")\n",
    "\n",
    "m.save(os.path.join('results', 'out2.html'))\n",
    "m"
   ]
  },
  {
   "cell_type": "code",
   "execution_count": 14,
   "metadata": {
    "ExecuteTime": {
     "end_time": "2017-09-01T05:38:41.667381Z",
     "start_time": "2017-09-01T05:38:41.361247Z"
    }
   },
   "outputs": [
    {
     "data": {
      "text/html": [
       "<div style=\"width:100%;\"><div style=\"position:relative;width:100%;height:0;padding-bottom:60%;\"><iframe src=\"data:text/html;charset=utf-8;base64,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\" style=\"position:absolute;width:100%;height:100%;left:0;top:0;border:none !important;\" allowfullscreen webkitallowfullscreen mozallowfullscreen></iframe></div></div>"
      ],
      "text/plain": [
       "<folium.folium.Map at 0x7f7378bea908>"
      ]
     },
     "execution_count": 14,
     "metadata": {},
     "output_type": "execute_result"
    }
   ],
   "source": [
    "style = {'fillColor': '#008000', #df['label'].values,\n",
    "        'color': 'black',\n",
    "        'weight': 2,\n",
    "        'dashArray': '5, 5'\n",
    "        }\n",
    "m=plot_boundary_map(geojson_data,style=style)\n",
    "m\n",
    "#m.save(os.path.join('results', 'out2.html'))"
   ]
  },
  {
   "cell_type": "markdown",
   "metadata": {},
   "source": [
    "## Heatmap"
   ]
  },
  {
   "cell_type": "code",
   "execution_count": 15,
   "metadata": {
    "ExecuteTime": {
     "end_time": "2017-09-01T05:38:41.677944Z",
     "start_time": "2017-09-01T05:38:41.671135Z"
    },
    "collapsed": true
   },
   "outputs": [],
   "source": [
    "#generate dummy data\n",
    "np.random.seed(123)\n",
    "\n",
    "mnl_coord=[14.5,120.9]\n",
    "dummy_data = (np.random.normal(size=(10, 3)) *\n",
    "        np.array(np.ones(3)) +\n",
    "        np.array(np.concatenate((mnl_coord,[1])))).tolist()"
   ]
  },
  {
   "cell_type": "code",
   "execution_count": 16,
   "metadata": {
    "ExecuteTime": {
     "end_time": "2017-09-01T05:38:51.217137Z",
     "start_time": "2017-09-01T05:38:51.209575Z"
    }
   },
   "outputs": [
    {
     "data": {
      "text/plain": [
       "[[13.414369396699438, 121.89734544658359, 1.282978498051992],\n",
       " [12.993705286081909, 120.32139974803147, 2.651436537097151],\n",
       " [12.073320756606925, 120.47108737114382, 2.2659362587055343],\n",
       " [13.633259597734899, 120.22111384837795, 0.9052910310631088],\n",
       " [15.991389626124288, 120.26109800331535, 0.5560180403539345],\n",
       " [14.065648724381482, 123.10593008272546, 3.1867860889737867],\n",
       " [15.504053897878878, 121.28618639917487, 1.7373685758962423],\n",
       " [15.990732028150799, 119.96416613159761, 2.1758290447821036],\n",
       " [13.246119332250988, 120.2622484975466, 1.9071051958003014],\n",
       " [13.07131929977403, 120.75993127981134, 0.13824510414031455]]"
      ]
     },
     "execution_count": 16,
     "metadata": {},
     "output_type": "execute_result"
    }
   ],
   "source": [
    "#coordinates, value\n",
    "dummy_data[:10]"
   ]
  },
  {
   "cell_type": "raw",
   "metadata": {},
   "source": [
    "from folium.plugins.heat_map import HeatMap\n",
    "\n",
    "mnl_coord=[14.5,120.9]\n",
    "m=plot_boundary_map(geojson_data,tiles='stamen_toner')\n",
    "\n",
    "hm = HeatMap(dummy_data)\n",
    "hm.add_to(m)\n",
    "m"
   ]
  },
  {
   "cell_type": "code",
   "execution_count": 17,
   "metadata": {
    "ExecuteTime": {
     "end_time": "2017-09-01T05:40:38.840442Z",
     "start_time": "2017-09-01T05:40:38.686467Z"
    },
    "scrolled": false
   },
   "outputs": [
    {
     "data": {
      "text/html": [
       "<div style=\"width:100%;\"><div style=\"position:relative;width:100%;height:0;padding-bottom:60%;\"><iframe src=\"data:text/html;charset=utf-8;base64,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\" style=\"position:absolute;width:100%;height:100%;left:0;top:0;border:none !important;\" allowfullscreen webkitallowfullscreen mozallowfullscreen></iframe></div></div>"
      ],
      "text/plain": [
       "<folium.folium.Map at 0x7f7379311cc0>"
      ]
     },
     "execution_count": 17,
     "metadata": {},
     "output_type": "execute_result"
    }
   ],
   "source": [
    "from folium.plugins.heat_map import HeatMap\n",
    "\n",
    "mnl_coord=[14.5,120.9]\n",
    "m = folium.Map(ph_coord, \n",
    "               tiles='stamentoner', \n",
    "               #tiles='cartodbpositron',\n",
    "               zoom_start=6)\n",
    "\n",
    "hm = HeatMap(dummy_data)\n",
    "\n",
    "hm.add_to(m)\n",
    "m"
   ]
  },
  {
   "cell_type": "code",
   "execution_count": null,
   "metadata": {
    "collapsed": true
   },
   "outputs": [],
   "source": []
  }
 ],
 "metadata": {
  "kernelspec": {
   "display_name": "Python 3",
   "language": "python",
   "name": "python3"
  },
  "language_info": {
   "codemirror_mode": {
    "name": "ipython",
    "version": 3
   },
   "file_extension": ".py",
   "mimetype": "text/x-python",
   "name": "python",
   "nbconvert_exporter": "python",
   "pygments_lexer": "ipython3",
   "version": "3.6.1"
  }
 },
 "nbformat": 4,
 "nbformat_minor": 2
}
