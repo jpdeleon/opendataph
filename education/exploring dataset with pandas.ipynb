{
 "cells": [
  {
   "cell_type": "markdown",
   "metadata": {},
   "source": [
    "## Philippine education data visualization\n",
    "\n",
    "* python-readable data is available in [google drive](https://drive.google.com/drive/folders/0B51bsxa_NT6KLUFTcHRHNVZ0MEk)\n",
    "* check if figures from tjpalanca's [article](http://www.tjpalanca.com/2014/04/data-primer-education.html) can be reproduced\n",
    "* add new/alternative plots"
   ]
  },
  {
   "cell_type": "code",
   "execution_count": 1,
   "metadata": {
    "ExecuteTime": {
     "end_time": "2017-09-05T01:09:19.466307Z",
     "start_time": "2017-09-05T01:09:19.348009Z"
    }
   },
   "outputs": [
    {
     "name": "stdout",
     "output_type": "stream",
     "text": [
      "Python 2.7.13 :: Continuum Analytics, Inc.\r\n"
     ]
    }
   ],
   "source": [
    "!python --version"
   ]
  },
  {
   "cell_type": "code",
   "execution_count": 2,
   "metadata": {
    "ExecuteTime": {
     "end_time": "2017-09-05T01:09:19.592013Z",
     "start_time": "2017-09-05T01:09:19.568815Z"
    }
   },
   "outputs": [
    {
     "data": {
      "text/plain": [
       "'astroconda'"
      ]
     },
     "execution_count": 2,
     "metadata": {},
     "output_type": "execute_result"
    }
   ],
   "source": [
    "#my conda environment\n",
    "import os\n",
    "os.environ['CONDA_DEFAULT_ENV']"
   ]
  },
  {
   "cell_type": "code",
   "execution_count": 3,
   "metadata": {
    "ExecuteTime": {
     "end_time": "2017-09-05T01:09:19.807343Z",
     "start_time": "2017-09-05T01:09:19.802819Z"
    },
    "collapsed": true
   },
   "outputs": [],
   "source": [
    "from getpass import getuser\n",
    "\n",
    "data_dir=os.path.join('/home',getuser(),'github/opendataph/education')"
   ]
  },
  {
   "cell_type": "code",
   "execution_count": 4,
   "metadata": {
    "ExecuteTime": {
     "end_time": "2017-09-05T01:09:22.316103Z",
     "start_time": "2017-09-05T01:09:20.052710Z"
    }
   },
   "outputs": [
    {
     "name": "stderr",
     "output_type": "stream",
     "text": [
      "/home/jp/miniconda2/envs/astroconda/lib/python2.7/site-packages/numpy/lib/arraysetops.py:463: FutureWarning: elementwise comparison failed; returning scalar instead, but in the future will perform elementwise comparison\n",
      "  mask |= (ar1 == a)\n"
     ]
    }
   ],
   "source": [
    "import matplotlib.pyplot as plt\n",
    "%matplotlib inline\n",
    "import pandas as pd\n",
    "\n",
    "enrolment=pd.read_csv(os.path.join(data_dir,'enrolment.csv'), index_col=0)"
   ]
  },
  {
   "cell_type": "code",
   "execution_count": 5,
   "metadata": {
    "ExecuteTime": {
     "end_time": "2017-09-05T01:09:22.340308Z",
     "start_time": "2017-09-05T01:09:22.319132Z"
    }
   },
   "outputs": [
    {
     "data": {
      "text/html": [
       "<div>\n",
       "<style>\n",
       "    .dataframe thead tr:only-child th {\n",
       "        text-align: right;\n",
       "    }\n",
       "\n",
       "    .dataframe thead th {\n",
       "        text-align: left;\n",
       "    }\n",
       "\n",
       "    .dataframe tbody tr th {\n",
       "        vertical-align: top;\n",
       "    }\n",
       "</style>\n",
       "<table border=\"1\" class=\"dataframe\">\n",
       "  <thead>\n",
       "    <tr style=\"text-align: right;\">\n",
       "      <th></th>\n",
       "      <th>school.id</th>\n",
       "      <th>year</th>\n",
       "      <th>enrollment</th>\n",
       "      <th>grade</th>\n",
       "      <th>gender</th>\n",
       "      <th>national.cohort</th>\n",
       "      <th>school.cohort</th>\n",
       "    </tr>\n",
       "  </thead>\n",
       "  <tbody>\n",
       "    <tr>\n",
       "      <th>1</th>\n",
       "      <td>101746</td>\n",
       "      <td>2012</td>\n",
       "      <td>52</td>\n",
       "      <td>Kinder</td>\n",
       "      <td>Male</td>\n",
       "      <td>7</td>\n",
       "      <td>1752.0</td>\n",
       "    </tr>\n",
       "    <tr>\n",
       "      <th>2</th>\n",
       "      <td>102193</td>\n",
       "      <td>2012</td>\n",
       "      <td>25</td>\n",
       "      <td>Kinder</td>\n",
       "      <td>Male</td>\n",
       "      <td>7</td>\n",
       "      <td>2199.0</td>\n",
       "    </tr>\n",
       "    <tr>\n",
       "      <th>3</th>\n",
       "      <td>101283</td>\n",
       "      <td>2012</td>\n",
       "      <td>14</td>\n",
       "      <td>Kinder</td>\n",
       "      <td>Male</td>\n",
       "      <td>7</td>\n",
       "      <td>1289.0</td>\n",
       "    </tr>\n",
       "    <tr>\n",
       "      <th>4</th>\n",
       "      <td>100216</td>\n",
       "      <td>2012</td>\n",
       "      <td>15</td>\n",
       "      <td>Kinder</td>\n",
       "      <td>Male</td>\n",
       "      <td>7</td>\n",
       "      <td>222.0</td>\n",
       "    </tr>\n",
       "    <tr>\n",
       "      <th>5</th>\n",
       "      <td>100043</td>\n",
       "      <td>2012</td>\n",
       "      <td>10</td>\n",
       "      <td>Kinder</td>\n",
       "      <td>Male</td>\n",
       "      <td>7</td>\n",
       "      <td>49.0</td>\n",
       "    </tr>\n",
       "  </tbody>\n",
       "</table>\n",
       "</div>"
      ],
      "text/plain": [
       "   school.id  year  enrollment   grade gender  national.cohort  school.cohort\n",
       "1     101746  2012          52  Kinder   Male                7         1752.0\n",
       "2     102193  2012          25  Kinder   Male                7         2199.0\n",
       "3     101283  2012          14  Kinder   Male                7         1289.0\n",
       "4     100216  2012          15  Kinder   Male                7          222.0\n",
       "5     100043  2012          10  Kinder   Male                7           49.0"
      ]
     },
     "execution_count": 5,
     "metadata": {},
     "output_type": "execute_result"
    }
   ],
   "source": [
    "enrolment.head()"
   ]
  },
  {
   "cell_type": "code",
   "execution_count": 7,
   "metadata": {
    "ExecuteTime": {
     "end_time": "2017-09-05T01:09:33.851199Z",
     "start_time": "2017-09-05T01:09:33.846741Z"
    }
   },
   "outputs": [
    {
     "data": {
      "text/plain": [
       "(2411814, 7)"
      ]
     },
     "execution_count": 7,
     "metadata": {},
     "output_type": "execute_result"
    }
   ],
   "source": [
    "enrolment.shape"
   ]
  },
  {
   "cell_type": "markdown",
   "metadata": {},
   "source": [
    "## grouping by grade and gender"
   ]
  },
  {
   "cell_type": "code",
   "execution_count": 12,
   "metadata": {
    "ExecuteTime": {
     "end_time": "2017-09-03T21:30:34.518283Z",
     "start_time": "2017-09-03T21:30:34.004161Z"
    }
   },
   "outputs": [
    {
     "name": "stdout",
     "output_type": "stream",
     "text": [
      "Grade 1: 10351185\n",
      "Female: 4801586\n",
      "Male: 5549599\n",
      "Grade 2: 9576247\n",
      "Female: 4495951\n",
      "Male: 5080296\n",
      "Grade 3: 9132380\n",
      "Female: 4336632\n",
      "Male: 4795748\n",
      "Grade 4: 8480288\n",
      "Female: 4106440\n",
      "Male: 4373848\n",
      "Grade 5: 7978193\n",
      "Female: 3917925\n",
      "Male: 4060268\n",
      "Grade 6: 7478520\n",
      "Female: 3736399\n",
      "Male: 3742121\n",
      "Kinder: 7123526\n",
      "Female: 3477920\n",
      "Male: 3645606\n",
      "Year 1 / Grade 7: 6654775\n",
      "Female: 3246198\n",
      "Male: 3408577\n",
      "Year 2 / Grade 8: 6030444\n",
      "Female: 3020665\n",
      "Male: 3009779\n",
      "Year 3 / Grade 9: 5407958\n",
      "Female: 2779669\n",
      "Male: 2628289\n",
      "Year 4 / Grade 10: 4814777\n",
      "Female: 2529854\n",
      "Male: 2284923\n"
     ]
    }
   ],
   "source": [
    "total_students_per_grade = {}\n",
    "total_students_per_gender = {}\n",
    "total_students_per_gender['Female']=[]\n",
    "total_students_per_gender['Male']=[]\n",
    "#group by grade\n",
    "for (grade,grade_group) in enrolment.groupby(by='grade'):\n",
    "    #count per grade\n",
    "    total_students_per_grade[grade]=[]\n",
    "    total_students_per_grade[grade].append(grade_group['enrollment'].sum())\n",
    "    print('{0}: {1}'.format(grade,grade_group['enrollment'].sum()))\n",
    "    #group by gender\n",
    "    for (gender, gender_group) in grade_group.groupby(by='gender'):\n",
    "        #count per gender\n",
    "        total_students_per_gender[gender].append(gender_group['enrollment'].sum())\n",
    "        print('{0}: {1}'.format(gender,gender_group['enrollment'].sum()))"
   ]
  },
  {
   "cell_type": "code",
   "execution_count": 13,
   "metadata": {
    "ExecuteTime": {
     "end_time": "2017-09-03T21:30:34.534945Z",
     "start_time": "2017-09-03T21:30:34.520843Z"
    }
   },
   "outputs": [
    {
     "data": {
      "text/html": [
       "<div>\n",
       "<style>\n",
       "    .dataframe thead tr:only-child th {\n",
       "        text-align: right;\n",
       "    }\n",
       "\n",
       "    .dataframe thead th {\n",
       "        text-align: left;\n",
       "    }\n",
       "\n",
       "    .dataframe tbody tr th {\n",
       "        vertical-align: top;\n",
       "    }\n",
       "</style>\n",
       "<table border=\"1\" class=\"dataframe\">\n",
       "  <thead>\n",
       "    <tr style=\"text-align: right;\">\n",
       "      <th></th>\n",
       "      <th>total</th>\n",
       "    </tr>\n",
       "  </thead>\n",
       "  <tbody>\n",
       "    <tr>\n",
       "      <th>Grade 1</th>\n",
       "      <td>10351185</td>\n",
       "    </tr>\n",
       "    <tr>\n",
       "      <th>Grade 2</th>\n",
       "      <td>9576247</td>\n",
       "    </tr>\n",
       "    <tr>\n",
       "      <th>Grade 3</th>\n",
       "      <td>9132380</td>\n",
       "    </tr>\n",
       "    <tr>\n",
       "      <th>Grade 4</th>\n",
       "      <td>8480288</td>\n",
       "    </tr>\n",
       "    <tr>\n",
       "      <th>Grade 5</th>\n",
       "      <td>7978193</td>\n",
       "    </tr>\n",
       "    <tr>\n",
       "      <th>Grade 6</th>\n",
       "      <td>7478520</td>\n",
       "    </tr>\n",
       "    <tr>\n",
       "      <th>Kinder</th>\n",
       "      <td>7123526</td>\n",
       "    </tr>\n",
       "    <tr>\n",
       "      <th>Year 1 / Grade 7</th>\n",
       "      <td>6654775</td>\n",
       "    </tr>\n",
       "    <tr>\n",
       "      <th>Year 2 / Grade 8</th>\n",
       "      <td>6030444</td>\n",
       "    </tr>\n",
       "    <tr>\n",
       "      <th>Year 3 / Grade 9</th>\n",
       "      <td>5407958</td>\n",
       "    </tr>\n",
       "    <tr>\n",
       "      <th>Year 4 / Grade 10</th>\n",
       "      <td>4814777</td>\n",
       "    </tr>\n",
       "  </tbody>\n",
       "</table>\n",
       "</div>"
      ],
      "text/plain": [
       "                      total\n",
       "Grade 1            10351185\n",
       "Grade 2             9576247\n",
       "Grade 3             9132380\n",
       "Grade 4             8480288\n",
       "Grade 5             7978193\n",
       "Grade 6             7478520\n",
       "Kinder              7123526\n",
       "Year 1 / Grade 7    6654775\n",
       "Year 2 / Grade 8    6030444\n",
       "Year 3 / Grade 9    5407958\n",
       "Year 4 / Grade 10   4814777"
      ]
     },
     "execution_count": 13,
     "metadata": {},
     "output_type": "execute_result"
    }
   ],
   "source": [
    "#create a dataframe\n",
    "df_grade=pd.DataFrame(total_students_per_grade).T\n",
    "df_grade.columns = ['total']\n",
    "df_grade"
   ]
  },
  {
   "cell_type": "code",
   "execution_count": 14,
   "metadata": {
    "ExecuteTime": {
     "end_time": "2017-09-03T21:30:34.955798Z",
     "start_time": "2017-09-03T21:30:34.940571Z"
    }
   },
   "outputs": [
    {
     "data": {
      "text/html": [
       "<div>\n",
       "<style>\n",
       "    .dataframe thead tr:only-child th {\n",
       "        text-align: right;\n",
       "    }\n",
       "\n",
       "    .dataframe thead th {\n",
       "        text-align: left;\n",
       "    }\n",
       "\n",
       "    .dataframe tbody tr th {\n",
       "        vertical-align: top;\n",
       "    }\n",
       "</style>\n",
       "<table border=\"1\" class=\"dataframe\">\n",
       "  <thead>\n",
       "    <tr style=\"text-align: right;\">\n",
       "      <th></th>\n",
       "      <th>total</th>\n",
       "      <th>Female</th>\n",
       "      <th>Male</th>\n",
       "    </tr>\n",
       "  </thead>\n",
       "  <tbody>\n",
       "    <tr>\n",
       "      <th>Grade 1</th>\n",
       "      <td>10351185</td>\n",
       "      <td>4801586</td>\n",
       "      <td>5549599</td>\n",
       "    </tr>\n",
       "    <tr>\n",
       "      <th>Grade 2</th>\n",
       "      <td>9576247</td>\n",
       "      <td>4495951</td>\n",
       "      <td>5080296</td>\n",
       "    </tr>\n",
       "    <tr>\n",
       "      <th>Grade 3</th>\n",
       "      <td>9132380</td>\n",
       "      <td>4336632</td>\n",
       "      <td>4795748</td>\n",
       "    </tr>\n",
       "    <tr>\n",
       "      <th>Grade 4</th>\n",
       "      <td>8480288</td>\n",
       "      <td>4106440</td>\n",
       "      <td>4373848</td>\n",
       "    </tr>\n",
       "    <tr>\n",
       "      <th>Grade 5</th>\n",
       "      <td>7978193</td>\n",
       "      <td>3917925</td>\n",
       "      <td>4060268</td>\n",
       "    </tr>\n",
       "  </tbody>\n",
       "</table>\n",
       "</div>"
      ],
      "text/plain": [
       "            total   Female     Male\n",
       "Grade 1  10351185  4801586  5549599\n",
       "Grade 2   9576247  4495951  5080296\n",
       "Grade 3   9132380  4336632  4795748\n",
       "Grade 4   8480288  4106440  4373848\n",
       "Grade 5   7978193  3917925  4060268"
      ]
     },
     "execution_count": 14,
     "metadata": {},
     "output_type": "execute_result"
    }
   ],
   "source": [
    "#add columns to dataframe\n",
    "df_grade['Female'] = total_students_per_gender['Female']\n",
    "df_grade['Male']   = total_students_per_gender['Male']\n",
    "df_grade.head()"
   ]
  },
  {
   "cell_type": "code",
   "execution_count": 15,
   "metadata": {
    "ExecuteTime": {
     "end_time": "2017-09-03T21:30:35.644354Z",
     "start_time": "2017-09-03T21:30:35.344271Z"
    }
   },
   "outputs": [
    {
     "data": {
      "text/plain": [
       "<matplotlib.text.Text at 0x7f58141430d0>"
      ]
     },
     "execution_count": 15,
     "metadata": {},
     "output_type": "execute_result"
    },
    {
     "data": {
      "image/png": "[encoded data removed]",
      "text/plain": [
       "<matplotlib.figure.Figure at 0x7f58141c5910>"
      ]
     },
     "metadata": {},
     "output_type": "display_data"
    }
   ],
   "source": [
    "ax = df_grade.apply(lambda x: x/1e6).plot(marker='o', rot=75)\n",
    "ax.set_ylabel('Count (in Million)')"
   ]
  },
  {
   "cell_type": "code",
   "execution_count": 16,
   "metadata": {
    "ExecuteTime": {
     "end_time": "2017-09-03T21:30:36.020551Z",
     "start_time": "2017-09-03T21:30:35.756537Z"
    }
   },
   "outputs": [
    {
     "data": {
      "text/plain": [
       "<matplotlib.text.Text at 0x7f5818446510>"
      ]
     },
     "execution_count": 16,
     "metadata": {},
     "output_type": "execute_result"
    },
    {
     "data": {
      "image/png": "[encoded data removed]",
      "text/plain": [
       "<matplotlib.figure.Figure at 0x7f581bcffa10>"
      ]
     },
     "metadata": {},
     "output_type": "display_data"
    }
   ],
   "source": [
    "ax = df_grade['total'].apply(lambda x: x/1e6).plot(kind='bar', rot=65)\n",
    "ax.set_ylabel('Total students (in Million)')"
   ]
  },
  {
   "cell_type": "code",
   "execution_count": 17,
   "metadata": {
    "ExecuteTime": {
     "end_time": "2017-09-03T21:30:36.732495Z",
     "start_time": "2017-09-03T21:30:36.523520Z"
    }
   },
   "outputs": [
    {
     "data": {
      "text/plain": [
       "<matplotlib.axes._subplots.AxesSubplot at 0x7f581845dc90>"
      ]
     },
     "execution_count": 17,
     "metadata": {},
     "output_type": "execute_result"
    },
    {
     "data": {
      "image/png": "[encoded data removed]",
      "text/plain": [
       "<matplotlib.figure.Figure at 0x7f581416c350>"
      ]
     },
     "metadata": {},
     "output_type": "display_data"
    }
   ],
   "source": [
    "df_grade['total'].apply(lambda x: x*100).iloc[:6].pct_change().plot(marker='o')"
   ]
  },
  {
   "cell_type": "markdown",
   "metadata": {},
   "source": [
    "## per region"
   ]
  },
  {
   "cell_type": "code",
   "execution_count": 19,
   "metadata": {
    "ExecuteTime": {
     "end_time": "2017-09-03T21:33:50.005002Z",
     "start_time": "2017-09-03T21:33:49.556672Z"
    }
   },
   "outputs": [
    {
     "data": {
      "text/html": [
       "<div>\n",
       "<style>\n",
       "    .dataframe thead tr:only-child th {\n",
       "        text-align: right;\n",
       "    }\n",
       "\n",
       "    .dataframe thead th {\n",
       "        text-align: left;\n",
       "    }\n",
       "\n",
       "    .dataframe tbody tr th {\n",
       "        vertical-align: top;\n",
       "    }\n",
       "</style>\n",
       "<table border=\"1\" class=\"dataframe\">\n",
       "  <thead>\n",
       "    <tr style=\"text-align: right;\">\n",
       "      <th></th>\n",
       "      <th>school.id</th>\n",
       "      <th>school.name</th>\n",
       "      <th>school.region</th>\n",
       "      <th>school.region.name</th>\n",
       "      <th>school.province</th>\n",
       "      <th>school.cityhall</th>\n",
       "      <th>school.division</th>\n",
       "      <th>school.citymuni</th>\n",
       "      <th>school.district</th>\n",
       "      <th>school.legdistrict</th>\n",
       "      <th>...</th>\n",
       "      <th>map.lon</th>\n",
       "      <th>school.mooe</th>\n",
       "      <th>rooms.standard.academic</th>\n",
       "      <th>rooms.standard.unused</th>\n",
       "      <th>rooms.nonstandard.academic</th>\n",
       "      <th>rooms.nonstandard.unused</th>\n",
       "      <th>teachers.instructor</th>\n",
       "      <th>teachers.mobile</th>\n",
       "      <th>teachers.regular</th>\n",
       "      <th>teachers.sped</th>\n",
       "    </tr>\n",
       "  </thead>\n",
       "  <tbody>\n",
       "    <tr>\n",
       "      <th>1</th>\n",
       "      <td>101746</td>\n",
       "      <td>A. Diaz, Sr. ES</td>\n",
       "      <td>Region I</td>\n",
       "      <td>Ilocos Region</td>\n",
       "      <td>PANGASINAN</td>\n",
       "      <td>PANGASINAN</td>\n",
       "      <td>Pangasinan II, Binalonan</td>\n",
       "      <td>BAUTISTA</td>\n",
       "      <td>Bautista</td>\n",
       "      <td>5th District</td>\n",
       "      <td>...</td>\n",
       "      <td>120.498531</td>\n",
       "      <td>341000.0</td>\n",
       "      <td>15.0</td>\n",
       "      <td>0.0</td>\n",
       "      <td>0.0</td>\n",
       "      <td>0.0</td>\n",
       "      <td>0.0</td>\n",
       "      <td>1.0</td>\n",
       "      <td>20.0</td>\n",
       "      <td>0.0</td>\n",
       "    </tr>\n",
       "    <tr>\n",
       "      <th>2</th>\n",
       "      <td>102193</td>\n",
       "      <td>A. P. Santos ES (SPED Center)</td>\n",
       "      <td>Region I</td>\n",
       "      <td>Ilocos Region</td>\n",
       "      <td>ILOCOS NORTE</td>\n",
       "      <td>ILOCOS NORTE</td>\n",
       "      <td>Laoag City</td>\n",
       "      <td>LAOAG CITY (Capital)</td>\n",
       "      <td>Laoag City District II</td>\n",
       "      <td>1st District</td>\n",
       "      <td>...</td>\n",
       "      <td>120.586667</td>\n",
       "      <td>275000.0</td>\n",
       "      <td>13.0</td>\n",
       "      <td>3.0</td>\n",
       "      <td>0.0</td>\n",
       "      <td>0.0</td>\n",
       "      <td>0.0</td>\n",
       "      <td>2.0</td>\n",
       "      <td>12.0</td>\n",
       "      <td>4.0</td>\n",
       "    </tr>\n",
       "    <tr>\n",
       "      <th>3</th>\n",
       "      <td>101283</td>\n",
       "      <td>A.P. Guevara IS</td>\n",
       "      <td>Region I</td>\n",
       "      <td>Ilocos Region</td>\n",
       "      <td>PANGASINAN</td>\n",
       "      <td>PANGASINAN</td>\n",
       "      <td>Pangasinan I, Lingayen</td>\n",
       "      <td>BAYAMBANG</td>\n",
       "      <td>Bayambang II</td>\n",
       "      <td>3rd District</td>\n",
       "      <td>...</td>\n",
       "      <td>120.460509</td>\n",
       "      <td>132000.0</td>\n",
       "      <td>7.0</td>\n",
       "      <td>0.0</td>\n",
       "      <td>0.0</td>\n",
       "      <td>0.0</td>\n",
       "      <td>0.0</td>\n",
       "      <td>1.0</td>\n",
       "      <td>6.0</td>\n",
       "      <td>0.0</td>\n",
       "    </tr>\n",
       "    <tr>\n",
       "      <th>4</th>\n",
       "      <td>100216</td>\n",
       "      <td>Ab-Abut ES</td>\n",
       "      <td>Region I</td>\n",
       "      <td>Ilocos Region</td>\n",
       "      <td>ILOCOS NORTE</td>\n",
       "      <td>ILOCOS NORTE</td>\n",
       "      <td>Ilocos Norte</td>\n",
       "      <td>PIDDIG</td>\n",
       "      <td>Piddig</td>\n",
       "      <td>1st District</td>\n",
       "      <td>...</td>\n",
       "      <td>120.695392</td>\n",
       "      <td>135000.0</td>\n",
       "      <td>6.0</td>\n",
       "      <td>0.0</td>\n",
       "      <td>0.0</td>\n",
       "      <td>0.0</td>\n",
       "      <td>0.0</td>\n",
       "      <td>1.0</td>\n",
       "      <td>6.0</td>\n",
       "      <td>0.0</td>\n",
       "    </tr>\n",
       "    <tr>\n",
       "      <th>5</th>\n",
       "      <td>100043</td>\n",
       "      <td>Abaca ES</td>\n",
       "      <td>Region I</td>\n",
       "      <td>Ilocos Region</td>\n",
       "      <td>ILOCOS NORTE</td>\n",
       "      <td>ILOCOS NORTE</td>\n",
       "      <td>Ilocos Norte</td>\n",
       "      <td>BANGUI</td>\n",
       "      <td>Bangui</td>\n",
       "      <td>1st District</td>\n",
       "      <td>...</td>\n",
       "      <td>120.755890</td>\n",
       "      <td>182000.0</td>\n",
       "      <td>9.0</td>\n",
       "      <td>0.0</td>\n",
       "      <td>0.0</td>\n",
       "      <td>0.0</td>\n",
       "      <td>0.0</td>\n",
       "      <td>1.0</td>\n",
       "      <td>8.0</td>\n",
       "      <td>0.0</td>\n",
       "    </tr>\n",
       "  </tbody>\n",
       "</table>\n",
       "<p>5 rows × 40 columns</p>\n",
       "</div>"
      ],
      "text/plain": [
       "   school.id                    school.name school.region school.region.name  \\\n",
       "1     101746                A. Diaz, Sr. ES      Region I      Ilocos Region   \n",
       "2     102193  A. P. Santos ES (SPED Center)      Region I      Ilocos Region   \n",
       "3     101283                A.P. Guevara IS      Region I      Ilocos Region   \n",
       "4     100216                     Ab-Abut ES      Region I      Ilocos Region   \n",
       "5     100043                       Abaca ES      Region I      Ilocos Region   \n",
       "\n",
       "  school.province school.cityhall           school.division  \\\n",
       "1      PANGASINAN      PANGASINAN  Pangasinan II, Binalonan   \n",
       "2    ILOCOS NORTE    ILOCOS NORTE                Laoag City   \n",
       "3      PANGASINAN      PANGASINAN    Pangasinan I, Lingayen   \n",
       "4    ILOCOS NORTE    ILOCOS NORTE              Ilocos Norte   \n",
       "5    ILOCOS NORTE    ILOCOS NORTE              Ilocos Norte   \n",
       "\n",
       "        school.citymuni         school.district school.legdistrict  \\\n",
       "1              BAUTISTA                Bautista       5th District   \n",
       "2  LAOAG CITY (Capital)  Laoag City District II       1st District   \n",
       "3             BAYAMBANG            Bayambang II       3rd District   \n",
       "4                PIDDIG                  Piddig       1st District   \n",
       "5                BANGUI                  Bangui       1st District   \n",
       "\n",
       "       ...          map.lon school.mooe rooms.standard.academic  \\\n",
       "1      ...       120.498531    341000.0                    15.0   \n",
       "2      ...       120.586667    275000.0                    13.0   \n",
       "3      ...       120.460509    132000.0                     7.0   \n",
       "4      ...       120.695392    135000.0                     6.0   \n",
       "5      ...       120.755890    182000.0                     9.0   \n",
       "\n",
       "   rooms.standard.unused rooms.nonstandard.academic rooms.nonstandard.unused  \\\n",
       "1                    0.0                        0.0                      0.0   \n",
       "2                    3.0                        0.0                      0.0   \n",
       "3                    0.0                        0.0                      0.0   \n",
       "4                    0.0                        0.0                      0.0   \n",
       "5                    0.0                        0.0                      0.0   \n",
       "\n",
       "  teachers.instructor teachers.mobile teachers.regular teachers.sped  \n",
       "1                 0.0             1.0             20.0           0.0  \n",
       "2                 0.0             2.0             12.0           4.0  \n",
       "3                 0.0             1.0              6.0           0.0  \n",
       "4                 0.0             1.0              6.0           0.0  \n",
       "5                 0.0             1.0              8.0           0.0  \n",
       "\n",
       "[5 rows x 40 columns]"
      ]
     },
     "execution_count": 19,
     "metadata": {},
     "output_type": "execute_result"
    }
   ],
   "source": [
    "school_expanded = pd.read_csv(os.path.join(data_dir,'school_expanded.csv'), index_col=0)\n",
    "school_expanded.head()"
   ]
  },
  {
   "cell_type": "code",
   "execution_count": 20,
   "metadata": {
    "ExecuteTime": {
     "end_time": "2017-09-03T21:33:50.396327Z",
     "start_time": "2017-09-03T21:33:50.390112Z"
    }
   },
   "outputs": [
    {
     "data": {
      "text/plain": [
       "Index([u'school.id', u'school.name', u'school.region', u'school.region.name',\n",
       "       u'school.province', u'school.cityhall', u'school.division',\n",
       "       u'school.citymuni', u'school.district', u'school.legdistrict',\n",
       "       u'school.type', u'school.abbrev', u'school.previousname',\n",
       "       u'school.mother.id', u'school.address', u'school.head',\n",
       "       u'school.head.designation', u'school.telephone', u'school.mobile',\n",
       "       u'school.fax', u'school.email', u'school.established',\n",
       "       u'school.classification', u'school.classification2',\n",
       "       u'school.curricularclass', u'school.organization', u'school.cityincome',\n",
       "       u'school.cityclass', u'school.urban', u'map.lat', u'map.lon',\n",
       "       u'school.mooe', u'rooms.standard.academic', u'rooms.standard.unused',\n",
       "       u'rooms.nonstandard.academic', u'rooms.nonstandard.unused',\n",
       "       u'teachers.instructor', u'teachers.mobile', u'teachers.regular',\n",
       "       u'teachers.sped'],\n",
       "      dtype='object')"
      ]
     },
     "execution_count": 20,
     "metadata": {},
     "output_type": "execute_result"
    }
   ],
   "source": [
    "#column names\n",
    "school_expanded.columns"
   ]
  },
  {
   "cell_type": "code",
   "execution_count": 34,
   "metadata": {
    "ExecuteTime": {
     "end_time": "2017-09-04T00:47:04.745442Z",
     "start_time": "2017-09-04T00:47:04.728567Z"
    }
   },
   "outputs": [
    {
     "data": {
      "text/plain": [
       "Elementary    38689\n",
       "Secondary      7914\n",
       "Name: school.classification, dtype: int64"
      ]
     },
     "execution_count": 34,
     "metadata": {},
     "output_type": "execute_result"
    }
   ],
   "source": [
    "school_expanded['school.classification'].value_counts()"
   ]
  },
  {
   "cell_type": "code",
   "execution_count": 36,
   "metadata": {
    "ExecuteTime": {
     "end_time": "2017-09-04T00:47:47.423384Z",
     "start_time": "2017-09-04T00:47:47.409403Z"
    }
   },
   "outputs": [
    {
     "data": {
      "text/plain": [
       "DepED Managed       45381\n",
       "Local Government     1221\n",
       "SUC Managed             1\n",
       "Name: school.classification2, dtype: int64"
      ]
     },
     "execution_count": 36,
     "metadata": {},
     "output_type": "execute_result"
    }
   ],
   "source": [
    "school_expanded['school.classification2'].value_counts()"
   ]
  },
  {
   "cell_type": "code",
   "execution_count": 37,
   "metadata": {
    "ExecuteTime": {
     "end_time": "2017-09-04T00:48:16.810430Z",
     "start_time": "2017-09-04T00:48:16.789883Z"
    }
   },
   "outputs": [
    {
     "data": {
      "text/plain": [
       "Partially Urban    39896\n",
       "Urban               3990\n",
       "Rural               2714\n",
       "Name: school.urban, dtype: int64"
      ]
     },
     "execution_count": 37,
     "metadata": {},
     "output_type": "execute_result"
    }
   ],
   "source": [
    "school_expanded['school.urban'].value_counts()"
   ]
  },
  {
   "cell_type": "code",
   "execution_count": 33,
   "metadata": {
    "ExecuteTime": {
     "end_time": "2017-09-04T00:45:20.499298Z",
     "start_time": "2017-09-04T00:45:20.493038Z"
    }
   },
   "outputs": [
    {
     "data": {
      "text/plain": [
       "501458.0"
      ]
     },
     "execution_count": 33,
     "metadata": {},
     "output_type": "execute_result"
    }
   ],
   "source": [
    "school_expanded['teachers.regular'].sum() #+ irregular teachers/instructors"
   ]
  },
  {
   "cell_type": "code",
   "execution_count": 24,
   "metadata": {
    "ExecuteTime": {
     "end_time": "2017-09-04T00:37:11.552229Z",
     "start_time": "2017-09-04T00:37:11.232295Z"
    }
   },
   "outputs": [
    {
     "data": {
      "text/plain": [
       "<matplotlib.axes._subplots.AxesSubplot at 0x7f58175028d0>"
      ]
     },
     "execution_count": 24,
     "metadata": {},
     "output_type": "execute_result"
    },
    {
     "data": {
      "image/png": "[encoded data removed]",
      "text/plain": [
       "<matplotlib.figure.Figure at 0x7f5817516910>"
      ]
     },
     "metadata": {},
     "output_type": "display_data"
    }
   ],
   "source": [
    "#count school per region\n",
    "school_expanded['school.region'].value_counts().plot(kind='bar',rot=65)\n",
    "#might need to divide by population"
   ]
  },
  {
   "cell_type": "code",
   "execution_count": 25,
   "metadata": {
    "ExecuteTime": {
     "end_time": "2017-09-04T00:39:35.045186Z",
     "start_time": "2017-09-04T00:39:35.025028Z"
    }
   },
   "outputs": [
    {
     "data": {
      "text/plain": [
       "CEBU                           1652\n",
       "PANGASINAN                     1492\n",
       "LEYTE                          1476\n",
       "ILOILO                         1273\n",
       "NEGROS OCCIDENTAL              1204\n",
       "CAMARINES SUR                  1150\n",
       "ISABELA                        1125\n",
       "BOHOL                          1116\n",
       "ZAMBOANGA DEL SUR              1079\n",
       "QUEZON                         1038\n",
       "WESTERN SAMAR                   973\n",
       "BATANGAS                        957\n",
       "LANAO DEL SUR                   932\n",
       "NUEVA ECIJA                     916\n",
       "NEGROS ORIENTAL                 890\n",
       "NORTH COTABATO                  877\n",
       "ZAMBOANGA DEL NORTE             849\n",
       "CAGAYAN                         842\n",
       "DAVAO DEL SUR                   827\n",
       "PALAWAN                         814\n",
       "BUKIDNON                        743\n",
       "MASBATE                         725\n",
       "ALBAY                           724\n",
       "PAMPANGA                        711\n",
       "BULACAN                         651\n",
       "MAGUINDANAO                     628\n",
       "MISAMIS ORIENTAL                627\n",
       "SORSOGON                        614\n",
       "NORTHERN SAMAR                  598\n",
       "TARLAC                          595\n",
       "                               ... \n",
       "RIZAL                           354\n",
       "ZAMBALES                        351\n",
       "OCCIDENTAL MINDORO              348\n",
       "SARANGANI                       324\n",
       "CAMARINES NORTE                 310\n",
       "ABRA                            310\n",
       "KALINGA                         292\n",
       "CATANDUANES                     275\n",
       "TAWI-TAWI                       268\n",
       "MOUNTAIN PROVINCE               263\n",
       "IFUGAO                          260\n",
       "ROMBLON                         254\n",
       "NCR SECOND DISTRICT             251\n",
       "MARINDUQUE                      226\n",
       "BATAAN                          221\n",
       "BASILAN                         220\n",
       "QUIRINO                         211\n",
       "NCR THIRD DISTRICT              207\n",
       "NCR FOURTH DISTRICT             204\n",
       "APAYAO                          202\n",
       "AURORA                          176\n",
       "BILIRAN                         145\n",
       "DINAGAT ISLANDS                 137\n",
       "GUIMARAS                        114\n",
       "MANILA, NCR, FIRST DISTRICT     106\n",
       "SIQUIJOR                         79\n",
       "CAMIGUIN                         68\n",
       "CITY OF ISABELA                  61\n",
       "CITY OF COTABATO                 43\n",
       "BATANES                          29\n",
       "Name: school.province, Length: 86, dtype: int64"
      ]
     },
     "execution_count": 25,
     "metadata": {},
     "output_type": "execute_result"
    }
   ],
   "source": [
    "school_expanded['school.province'].value_counts()"
   ]
  },
  {
   "cell_type": "code",
   "execution_count": null,
   "metadata": {
    "collapsed": true
   },
   "outputs": [],
   "source": []
  }
 ],
 "metadata": {
  "kernelspec": {
   "display_name": "Python 2",
   "language": "python",
   "name": "python2"
  },
  "language_info": {
   "codemirror_mode": {
    "name": "ipython",
    "version": 2
   },
   "file_extension": ".py",
   "mimetype": "text/x-python",
   "name": "python",
   "nbconvert_exporter": "python",
   "pygments_lexer": "ipython2",
   "version": "2.7.13"
  }
 },
 "nbformat": 4,
 "nbformat_minor": 2
}
