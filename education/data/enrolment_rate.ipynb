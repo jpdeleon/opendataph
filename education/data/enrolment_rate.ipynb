{
 "cells": [
  {
   "cell_type": "markdown",
   "metadata": {},
   "source": [
    "Name: Kevin Anthony Y. Kaw\n",
    "\n",
    "Details:\n",
    "1. This python notebook is an exercise given by Mr. Jerome de Leon to practice data science\n",
    "2. Data set on DepEd was provided by Mr. Jerome de Leon for the Data Science Study Group.\n",
    "3. Data set was compiled by TJ Palanca"
   ]
  },
  {
   "cell_type": "markdown",
   "metadata": {},
   "source": [
    "# 1. Import Libraries"
   ]
  },
  {
   "cell_type": "code",
   "execution_count": 1,
   "metadata": {
    "ExecuteTime": {
     "end_time": "2017-09-17T10:24:21.956290Z",
     "start_time": "2017-09-17T10:24:20.958223Z"
    },
    "collapsed": true
   },
   "outputs": [],
   "source": [
    "import pandas as pd\n",
    "import numpy as np\n",
    "import matplotlib.pyplot as plt\n",
    "%matplotlib inline"
   ]
  },
  {
   "cell_type": "markdown",
   "metadata": {},
   "source": [
    "# 2. Read CSV file"
   ]
  },
  {
   "cell_type": "code",
   "execution_count": 2,
   "metadata": {
    "ExecuteTime": {
     "end_time": "2017-09-17T10:24:22.973077Z",
     "start_time": "2017-09-17T10:24:21.961485Z"
    }
   },
   "outputs": [],
   "source": [
    "# Capacity.csv\n",
    "capacity = pd.read_csv(\"capacity.csv\", index_col=0) #set first column (0) as index "
   ]
  },
  {
   "cell_type": "markdown",
   "metadata": {},
   "source": [
    "I recommend not to load all of them to RAM at once as it can slow your machine. "
   ]
  },
  {
   "cell_type": "raw",
   "metadata": {
    "ExecuteTime": {
     "end_time": "2017-09-17T04:55:57.694262Z",
     "start_time": "2017-09-17T04:55:54.294369Z"
    },
    "scrolled": true
   },
   "source": [
    "# Citymuni.csv\n",
    "#citymuni = pd.read_csv(\"../input/citymuni.csv\")  # <-- I keep having errors here\n",
    "\n",
    "# Enrollment0.csv\n",
    "enrollment0 = pd.read_csv(\"../input/enrolment.csv\")\n",
    "\n",
    "# Enrollment1.csv\n",
    "enrollment1 = pd.read_csv(\"../input/enrolment(1).csv\")\n",
    "\n",
    "# School.csv\n",
    "school = pd.read_csv(\"../input/school.csv\")\n",
    "\n",
    "# school_expanded\n",
    "school_expanded = pd.read_csv(\"../input/school_expanded.csv\")\n",
    "\n",
    "# schools_elem\n",
    "school_elem = pd.read_csv(\"../input/schools_elem.csv\")\n",
    "\n",
    "# schools elem profile formatted\n",
    "school_elem_profile_formatted = pd.read_csv(\"../input/schools_elem_profiles_formatted.csv\")\n",
    "\n",
    "# schools seco\n",
    "school_seco = pd.read_csv(\"../input/schools_seco.csv\")\n",
    "\n",
    "# schools seco profile formatted\n",
    "school_seco_profile_formatted = pd.read_csv(\"../input/schools_seco_profiles_formatted.csv\")"
   ]
  },
  {
   "cell_type": "markdown",
   "metadata": {},
   "source": [
    "# 3. View Data\n",
    "\n"
   ]
  },
  {
   "cell_type": "code",
   "execution_count": 3,
   "metadata": {
    "ExecuteTime": {
     "end_time": "2017-09-17T10:24:23.155328Z",
     "start_time": "2017-09-17T10:24:22.978636Z"
    },
    "scrolled": true
   },
   "outputs": [
    {
     "data": {
      "text/html": [
       "<div>\n",
       "<style>\n",
       "    .dataframe thead tr:only-child th {\n",
       "        text-align: right;\n",
       "    }\n",
       "\n",
       "    .dataframe thead th {\n",
       "        text-align: left;\n",
       "    }\n",
       "\n",
       "    .dataframe tbody tr th {\n",
       "        vertical-align: top;\n",
       "    }\n",
       "</style>\n",
       "<table border=\"1\" class=\"dataframe\">\n",
       "  <thead>\n",
       "    <tr style=\"text-align: right;\">\n",
       "      <th></th>\n",
       "      <th>school.id</th>\n",
       "      <th>school.name</th>\n",
       "      <th>school.region</th>\n",
       "      <th>school.region.name</th>\n",
       "      <th>school.province</th>\n",
       "      <th>school.cityhall</th>\n",
       "      <th>school.division</th>\n",
       "      <th>school.citymuni</th>\n",
       "      <th>school.district</th>\n",
       "      <th>school.legdistrict</th>\n",
       "      <th>...</th>\n",
       "      <th>enrollment.2012</th>\n",
       "      <th>enrollment.2013</th>\n",
       "      <th>enrollment.2014</th>\n",
       "      <th>enrollment.2015</th>\n",
       "      <th>all.teacher.ratio</th>\n",
       "      <th>regular.teacher.ratio</th>\n",
       "      <th>academic.room.ratio</th>\n",
       "      <th>standard.room.ratio</th>\n",
       "      <th>full.room.ratio</th>\n",
       "      <th>mooe.ratio</th>\n",
       "    </tr>\n",
       "  </thead>\n",
       "  <tbody>\n",
       "    <tr>\n",
       "      <th>1</th>\n",
       "      <td>101746</td>\n",
       "      <td>A. Diaz, Sr. ES</td>\n",
       "      <td>Region I</td>\n",
       "      <td>Ilocos Region</td>\n",
       "      <td>PANGASINAN</td>\n",
       "      <td>PANGASINAN</td>\n",
       "      <td>Pangasinan II, Binalonan</td>\n",
       "      <td>BAUTISTA</td>\n",
       "      <td>Bautista</td>\n",
       "      <td>5th District</td>\n",
       "      <td>...</td>\n",
       "      <td>648.0</td>\n",
       "      <td>673</td>\n",
       "      <td>739</td>\n",
       "      <td>781</td>\n",
       "      <td>0.028417</td>\n",
       "      <td>0.027064</td>\n",
       "      <td>0.022288</td>\n",
       "      <td>0.022288</td>\n",
       "      <td>0.022288</td>\n",
       "      <td>436.619718</td>\n",
       "    </tr>\n",
       "    <tr>\n",
       "      <th>2</th>\n",
       "      <td>102193</td>\n",
       "      <td>A. P. Santos ES (SPED Center)</td>\n",
       "      <td>Region I</td>\n",
       "      <td>Ilocos Region</td>\n",
       "      <td>ILOCOS NORTE</td>\n",
       "      <td>ILOCOS NORTE</td>\n",
       "      <td>Laoag City</td>\n",
       "      <td>LAOAG CITY (Capital)</td>\n",
       "      <td>Laoag City District II</td>\n",
       "      <td>1st District</td>\n",
       "      <td>...</td>\n",
       "      <td>430.0</td>\n",
       "      <td>410</td>\n",
       "      <td>404</td>\n",
       "      <td>411</td>\n",
       "      <td>0.044554</td>\n",
       "      <td>0.039604</td>\n",
       "      <td>0.031707</td>\n",
       "      <td>0.031707</td>\n",
       "      <td>0.039024</td>\n",
       "      <td>669.099757</td>\n",
       "    </tr>\n",
       "    <tr>\n",
       "      <th>3</th>\n",
       "      <td>101283</td>\n",
       "      <td>A.P. Guevara IS</td>\n",
       "      <td>Region I</td>\n",
       "      <td>Ilocos Region</td>\n",
       "      <td>PANGASINAN</td>\n",
       "      <td>PANGASINAN</td>\n",
       "      <td>Pangasinan I, Lingayen</td>\n",
       "      <td>BAYAMBANG</td>\n",
       "      <td>Bayambang II</td>\n",
       "      <td>3rd District</td>\n",
       "      <td>...</td>\n",
       "      <td>148.0</td>\n",
       "      <td>144</td>\n",
       "      <td>160</td>\n",
       "      <td>175</td>\n",
       "      <td>0.043750</td>\n",
       "      <td>0.037500</td>\n",
       "      <td>0.048611</td>\n",
       "      <td>0.048611</td>\n",
       "      <td>0.048611</td>\n",
       "      <td>754.285714</td>\n",
       "    </tr>\n",
       "    <tr>\n",
       "      <th>4</th>\n",
       "      <td>100216</td>\n",
       "      <td>Ab-Abut ES</td>\n",
       "      <td>Region I</td>\n",
       "      <td>Ilocos Region</td>\n",
       "      <td>ILOCOS NORTE</td>\n",
       "      <td>ILOCOS NORTE</td>\n",
       "      <td>Ilocos Norte</td>\n",
       "      <td>PIDDIG</td>\n",
       "      <td>Piddig</td>\n",
       "      <td>1st District</td>\n",
       "      <td>...</td>\n",
       "      <td>183.0</td>\n",
       "      <td>184</td>\n",
       "      <td>177</td>\n",
       "      <td>179</td>\n",
       "      <td>0.039548</td>\n",
       "      <td>0.033898</td>\n",
       "      <td>0.032609</td>\n",
       "      <td>0.032609</td>\n",
       "      <td>0.032609</td>\n",
       "      <td>754.189944</td>\n",
       "    </tr>\n",
       "    <tr>\n",
       "      <th>5</th>\n",
       "      <td>100043</td>\n",
       "      <td>Abaca ES</td>\n",
       "      <td>Region I</td>\n",
       "      <td>Ilocos Region</td>\n",
       "      <td>ILOCOS NORTE</td>\n",
       "      <td>ILOCOS NORTE</td>\n",
       "      <td>Ilocos Norte</td>\n",
       "      <td>BANGUI</td>\n",
       "      <td>Bangui</td>\n",
       "      <td>1st District</td>\n",
       "      <td>...</td>\n",
       "      <td>261.0</td>\n",
       "      <td>261</td>\n",
       "      <td>282</td>\n",
       "      <td>271</td>\n",
       "      <td>0.031915</td>\n",
       "      <td>0.028369</td>\n",
       "      <td>0.034483</td>\n",
       "      <td>0.034483</td>\n",
       "      <td>0.034483</td>\n",
       "      <td>671.586716</td>\n",
       "    </tr>\n",
       "  </tbody>\n",
       "</table>\n",
       "<p>5 rows × 50 columns</p>\n",
       "</div>"
      ],
      "text/plain": [
       "   school.id                    school.name school.region school.region.name  \\\n",
       "1     101746                A. Diaz, Sr. ES      Region I      Ilocos Region   \n",
       "2     102193  A. P. Santos ES (SPED Center)      Region I      Ilocos Region   \n",
       "3     101283                A.P. Guevara IS      Region I      Ilocos Region   \n",
       "4     100216                     Ab-Abut ES      Region I      Ilocos Region   \n",
       "5     100043                       Abaca ES      Region I      Ilocos Region   \n",
       "\n",
       "  school.province school.cityhall           school.division  \\\n",
       "1      PANGASINAN      PANGASINAN  Pangasinan II, Binalonan   \n",
       "2    ILOCOS NORTE    ILOCOS NORTE                Laoag City   \n",
       "3      PANGASINAN      PANGASINAN    Pangasinan I, Lingayen   \n",
       "4    ILOCOS NORTE    ILOCOS NORTE              Ilocos Norte   \n",
       "5    ILOCOS NORTE    ILOCOS NORTE              Ilocos Norte   \n",
       "\n",
       "        school.citymuni         school.district school.legdistrict  \\\n",
       "1              BAUTISTA                Bautista       5th District   \n",
       "2  LAOAG CITY (Capital)  Laoag City District II       1st District   \n",
       "3             BAYAMBANG            Bayambang II       3rd District   \n",
       "4                PIDDIG                  Piddig       1st District   \n",
       "5                BANGUI                  Bangui       1st District   \n",
       "\n",
       "      ...     enrollment.2012 enrollment.2013 enrollment.2014  \\\n",
       "1     ...               648.0             673             739   \n",
       "2     ...               430.0             410             404   \n",
       "3     ...               148.0             144             160   \n",
       "4     ...               183.0             184             177   \n",
       "5     ...               261.0             261             282   \n",
       "\n",
       "   enrollment.2015 all.teacher.ratio regular.teacher.ratio  \\\n",
       "1              781          0.028417              0.027064   \n",
       "2              411          0.044554              0.039604   \n",
       "3              175          0.043750              0.037500   \n",
       "4              179          0.039548              0.033898   \n",
       "5              271          0.031915              0.028369   \n",
       "\n",
       "  academic.room.ratio standard.room.ratio full.room.ratio  mooe.ratio  \n",
       "1            0.022288            0.022288        0.022288  436.619718  \n",
       "2            0.031707            0.031707        0.039024  669.099757  \n",
       "3            0.048611            0.048611        0.048611  754.285714  \n",
       "4            0.032609            0.032609        0.032609  754.189944  \n",
       "5            0.034483            0.034483        0.034483  671.586716  \n",
       "\n",
       "[5 rows x 50 columns]"
      ]
     },
     "execution_count": 3,
     "metadata": {},
     "output_type": "execute_result"
    }
   ],
   "source": [
    "#table1 compilation for quick comparison. remove '#' or '.head()'\n",
    "\n",
    "capacity.head()\n",
    "#citymuni.head()\n",
    "#enrollment0.head()\n",
    "#enrollment1.head()                      # practically the same with enrollment0\n",
    "#school.head()                           # 32 columns vs school_expanded\n",
    "#school_expanded.head()                  # 41 columns vs school\n",
    "#school_elem.head()                      # complete set vs school_elem_profile_formatted\n",
    "#school_elem_profile_formatted.head()    # trimmed down set (numbers only) vs school_elem\n",
    "#school_seco.head()                      # comment similar to school_elem\n",
    "#school_seco_profile_formatted.head()    # comment similar to school_elem_profile_formatted"
   ]
  },
  {
   "cell_type": "code",
   "execution_count": 4,
   "metadata": {
    "ExecuteTime": {
     "end_time": "2017-09-17T10:24:23.179535Z",
     "start_time": "2017-09-17T10:24:23.160034Z"
    }
   },
   "outputs": [
    {
     "data": {
      "text/plain": [
       "Index([u'school.id', u'school.name', u'school.region', u'school.region.name',\n",
       "       u'school.province', u'school.cityhall', u'school.division',\n",
       "       u'school.citymuni', u'school.district', u'school.legdistrict',\n",
       "       u'school.type', u'school.abbrev', u'school.previousname',\n",
       "       u'school.mother.id', u'school.address', u'school.head',\n",
       "       u'school.head.designation', u'school.telephone', u'school.mobile',\n",
       "       u'school.fax', u'school.email', u'school.established',\n",
       "       u'school.classification', u'school.classification2',\n",
       "       u'school.curricularclass', u'school.organization', u'school.cityincome',\n",
       "       u'school.cityclass', u'school.urban', u'map.lat', u'map.lon',\n",
       "       u'school.mooe', u'rooms.standard.academic', u'rooms.standard.unused',\n",
       "       u'rooms.nonstandard.academic', u'rooms.nonstandard.unused',\n",
       "       u'teachers.instructor', u'teachers.mobile', u'teachers.regular',\n",
       "       u'teachers.sped', u'enrollment.2012', u'enrollment.2013',\n",
       "       u'enrollment.2014', u'enrollment.2015', u'all.teacher.ratio',\n",
       "       u'regular.teacher.ratio', u'academic.room.ratio',\n",
       "       u'standard.room.ratio', u'full.room.ratio', u'mooe.ratio'],\n",
       "      dtype='object')"
      ]
     },
     "execution_count": 4,
     "metadata": {},
     "output_type": "execute_result"
    }
   ],
   "source": [
    "#show column names\n",
    "capacity.columns"
   ]
  },
  {
   "cell_type": "markdown",
   "metadata": {},
   "source": [
    "# 4. Questions\n",
    "1. Enrollment rates of elementary students in NCR schools from 2012 to 2015?\n",
    "2. Enrollment rates of secondary students in NCR schools from 2012 to 2015?"
   ]
  },
  {
   "cell_type": "code",
   "execution_count": 5,
   "metadata": {
    "ExecuteTime": {
     "end_time": "2017-09-17T10:24:23.486280Z",
     "start_time": "2017-09-17T10:24:23.186402Z"
    },
    "scrolled": false
   },
   "outputs": [
    {
     "data": {
      "text/html": [
       "<div>\n",
       "<style>\n",
       "    .dataframe thead tr:only-child th {\n",
       "        text-align: right;\n",
       "    }\n",
       "\n",
       "    .dataframe thead th {\n",
       "        text-align: left;\n",
       "    }\n",
       "\n",
       "    .dataframe tbody tr th {\n",
       "        vertical-align: top;\n",
       "    }\n",
       "</style>\n",
       "<table border=\"1\" class=\"dataframe\">\n",
       "  <thead>\n",
       "    <tr style=\"text-align: right;\">\n",
       "      <th></th>\n",
       "      <th>school.id</th>\n",
       "      <th>school.name</th>\n",
       "      <th>school.region</th>\n",
       "      <th>school.region.name</th>\n",
       "      <th>school.province</th>\n",
       "      <th>school.cityhall</th>\n",
       "      <th>school.division</th>\n",
       "      <th>school.citymuni</th>\n",
       "      <th>school.district</th>\n",
       "      <th>school.legdistrict</th>\n",
       "      <th>...</th>\n",
       "      <th>enrollment.2012</th>\n",
       "      <th>enrollment.2013</th>\n",
       "      <th>enrollment.2014</th>\n",
       "      <th>enrollment.2015</th>\n",
       "      <th>all.teacher.ratio</th>\n",
       "      <th>regular.teacher.ratio</th>\n",
       "      <th>academic.room.ratio</th>\n",
       "      <th>standard.room.ratio</th>\n",
       "      <th>full.room.ratio</th>\n",
       "      <th>mooe.ratio</th>\n",
       "    </tr>\n",
       "  </thead>\n",
       "  <tbody>\n",
       "    <tr>\n",
       "      <th>34662</th>\n",
       "      <td>136007</td>\n",
       "      <td>Laya East ES</td>\n",
       "      <td>CAR</td>\n",
       "      <td>Cordillera Administrative Region</td>\n",
       "      <td>KALINGA</td>\n",
       "      <td>KALINGA</td>\n",
       "      <td>Kalinga</td>\n",
       "      <td>CITY OF TABUK (Capital)</td>\n",
       "      <td>Northern Tabuk</td>\n",
       "      <td>Lone District</td>\n",
       "      <td>...</td>\n",
       "      <td>331.0</td>\n",
       "      <td>323</td>\n",
       "      <td>316</td>\n",
       "      <td>312</td>\n",
       "      <td>0.041139</td>\n",
       "      <td>0.037975</td>\n",
       "      <td>0.024768</td>\n",
       "      <td>0.024768</td>\n",
       "      <td>0.024768</td>\n",
       "      <td>647.435897</td>\n",
       "    </tr>\n",
       "    <tr>\n",
       "      <th>34882</th>\n",
       "      <td>135873</td>\n",
       "      <td>Mungayang ES</td>\n",
       "      <td>CAR</td>\n",
       "      <td>Cordillera Administrative Region</td>\n",
       "      <td>IFUGAO</td>\n",
       "      <td>IFUGAO</td>\n",
       "      <td>Ifugao</td>\n",
       "      <td>KIANGAN</td>\n",
       "      <td>Kiangan</td>\n",
       "      <td>Lone District</td>\n",
       "      <td>...</td>\n",
       "      <td>207.0</td>\n",
       "      <td>202</td>\n",
       "      <td>213</td>\n",
       "      <td>217</td>\n",
       "      <td>0.037559</td>\n",
       "      <td>0.037559</td>\n",
       "      <td>0.044554</td>\n",
       "      <td>0.044554</td>\n",
       "      <td>0.044554</td>\n",
       "      <td>682.027650</td>\n",
       "    </tr>\n",
       "    <tr>\n",
       "      <th>34881</th>\n",
       "      <td>136307</td>\n",
       "      <td>Muliang ES</td>\n",
       "      <td>CAR</td>\n",
       "      <td>Cordillera Administrative Region</td>\n",
       "      <td>MOUNTAIN PROVINCE</td>\n",
       "      <td>MOUNTAIN PROVINCE</td>\n",
       "      <td>Mt. Province</td>\n",
       "      <td>PARACELIS</td>\n",
       "      <td>Paracelis</td>\n",
       "      <td>Lone District</td>\n",
       "      <td>...</td>\n",
       "      <td>130.0</td>\n",
       "      <td>129</td>\n",
       "      <td>130</td>\n",
       "      <td>129</td>\n",
       "      <td>0.023077</td>\n",
       "      <td>0.023077</td>\n",
       "      <td>0.023256</td>\n",
       "      <td>0.023256</td>\n",
       "      <td>0.023256</td>\n",
       "      <td>790.697674</td>\n",
       "    </tr>\n",
       "    <tr>\n",
       "      <th>34880</th>\n",
       "      <td>135953</td>\n",
       "      <td>Mulam PS</td>\n",
       "      <td>CAR</td>\n",
       "      <td>Cordillera Administrative Region</td>\n",
       "      <td>IFUGAO</td>\n",
       "      <td>IFUGAO</td>\n",
       "      <td>Ifugao</td>\n",
       "      <td>TINOC</td>\n",
       "      <td>Tinoc</td>\n",
       "      <td>Lone District</td>\n",
       "      <td>...</td>\n",
       "      <td>13.0</td>\n",
       "      <td>15</td>\n",
       "      <td>15</td>\n",
       "      <td>15</td>\n",
       "      <td>0.066667</td>\n",
       "      <td>0.066667</td>\n",
       "      <td>0.066667</td>\n",
       "      <td>0.066667</td>\n",
       "      <td>0.066667</td>\n",
       "      <td>3733.333333</td>\n",
       "    </tr>\n",
       "    <tr>\n",
       "      <th>34879</th>\n",
       "      <td>135021</td>\n",
       "      <td>Mudiit ES</td>\n",
       "      <td>CAR</td>\n",
       "      <td>Cordillera Administrative Region</td>\n",
       "      <td>ABRA</td>\n",
       "      <td>ABRA</td>\n",
       "      <td>Abra</td>\n",
       "      <td>DOLORES</td>\n",
       "      <td>Dolores</td>\n",
       "      <td>Lone District</td>\n",
       "      <td>...</td>\n",
       "      <td>206.0</td>\n",
       "      <td>208</td>\n",
       "      <td>193</td>\n",
       "      <td>191</td>\n",
       "      <td>0.031088</td>\n",
       "      <td>0.031088</td>\n",
       "      <td>0.028846</td>\n",
       "      <td>0.028846</td>\n",
       "      <td>0.028846</td>\n",
       "      <td>706.806283</td>\n",
       "    </tr>\n",
       "  </tbody>\n",
       "</table>\n",
       "<p>5 rows × 50 columns</p>\n",
       "</div>"
      ],
      "text/plain": [
       "       school.id   school.name school.region  \\\n",
       "34662     136007  Laya East ES           CAR   \n",
       "34882     135873  Mungayang ES           CAR   \n",
       "34881     136307    Muliang ES           CAR   \n",
       "34880     135953      Mulam PS           CAR   \n",
       "34879     135021     Mudiit ES           CAR   \n",
       "\n",
       "                     school.region.name    school.province    school.cityhall  \\\n",
       "34662  Cordillera Administrative Region            KALINGA            KALINGA   \n",
       "34882  Cordillera Administrative Region             IFUGAO             IFUGAO   \n",
       "34881  Cordillera Administrative Region  MOUNTAIN PROVINCE  MOUNTAIN PROVINCE   \n",
       "34880  Cordillera Administrative Region             IFUGAO             IFUGAO   \n",
       "34879  Cordillera Administrative Region               ABRA               ABRA   \n",
       "\n",
       "      school.division          school.citymuni school.district  \\\n",
       "34662         Kalinga  CITY OF TABUK (Capital)  Northern Tabuk   \n",
       "34882          Ifugao                  KIANGAN         Kiangan   \n",
       "34881    Mt. Province                PARACELIS       Paracelis   \n",
       "34880          Ifugao                    TINOC           Tinoc   \n",
       "34879            Abra                  DOLORES         Dolores   \n",
       "\n",
       "      school.legdistrict     ...      enrollment.2012 enrollment.2013  \\\n",
       "34662      Lone District     ...                331.0             323   \n",
       "34882      Lone District     ...                207.0             202   \n",
       "34881      Lone District     ...                130.0             129   \n",
       "34880      Lone District     ...                 13.0              15   \n",
       "34879      Lone District     ...                206.0             208   \n",
       "\n",
       "      enrollment.2014  enrollment.2015 all.teacher.ratio  \\\n",
       "34662             316              312          0.041139   \n",
       "34882             213              217          0.037559   \n",
       "34881             130              129          0.023077   \n",
       "34880              15               15          0.066667   \n",
       "34879             193              191          0.031088   \n",
       "\n",
       "      regular.teacher.ratio academic.room.ratio standard.room.ratio  \\\n",
       "34662              0.037975            0.024768            0.024768   \n",
       "34882              0.037559            0.044554            0.044554   \n",
       "34881              0.023077            0.023256            0.023256   \n",
       "34880              0.066667            0.066667            0.066667   \n",
       "34879              0.031088            0.028846            0.028846   \n",
       "\n",
       "      full.room.ratio   mooe.ratio  \n",
       "34662        0.024768   647.435897  \n",
       "34882        0.044554   682.027650  \n",
       "34881        0.023256   790.697674  \n",
       "34880        0.066667  3733.333333  \n",
       "34879        0.028846   706.806283  \n",
       "\n",
       "[5 rows x 50 columns]"
      ]
     },
     "execution_count": 5,
     "metadata": {},
     "output_type": "execute_result"
    }
   ],
   "source": [
    "capacity.sort_values(by='school.region').head()"
   ]
  },
  {
   "cell_type": "markdown",
   "metadata": {},
   "source": [
    "To answer Question 1, first get schools in NCR only. We can sort by region but this is not mandatory."
   ]
  },
  {
   "cell_type": "code",
   "execution_count": 6,
   "metadata": {
    "ExecuteTime": {
     "end_time": "2017-09-17T10:24:23.762246Z",
     "start_time": "2017-09-17T10:24:23.492313Z"
    }
   },
   "outputs": [
    {
     "data": {
      "text/html": [
       "<div>\n",
       "<style>\n",
       "    .dataframe thead tr:only-child th {\n",
       "        text-align: right;\n",
       "    }\n",
       "\n",
       "    .dataframe thead th {\n",
       "        text-align: left;\n",
       "    }\n",
       "\n",
       "    .dataframe tbody tr th {\n",
       "        vertical-align: top;\n",
       "    }\n",
       "</style>\n",
       "<table border=\"1\" class=\"dataframe\">\n",
       "  <thead>\n",
       "    <tr style=\"text-align: right;\">\n",
       "      <th></th>\n",
       "      <th>school.id</th>\n",
       "      <th>school.name</th>\n",
       "      <th>school.region</th>\n",
       "      <th>school.region.name</th>\n",
       "      <th>school.province</th>\n",
       "      <th>school.cityhall</th>\n",
       "      <th>school.division</th>\n",
       "      <th>school.citymuni</th>\n",
       "      <th>school.district</th>\n",
       "      <th>school.legdistrict</th>\n",
       "      <th>...</th>\n",
       "      <th>enrollment.2012</th>\n",
       "      <th>enrollment.2013</th>\n",
       "      <th>enrollment.2014</th>\n",
       "      <th>enrollment.2015</th>\n",
       "      <th>all.teacher.ratio</th>\n",
       "      <th>regular.teacher.ratio</th>\n",
       "      <th>academic.room.ratio</th>\n",
       "      <th>standard.room.ratio</th>\n",
       "      <th>full.room.ratio</th>\n",
       "      <th>mooe.ratio</th>\n",
       "    </tr>\n",
       "  </thead>\n",
       "  <tbody>\n",
       "    <tr>\n",
       "      <th>34662</th>\n",
       "      <td>136007</td>\n",
       "      <td>Laya East ES</td>\n",
       "      <td>CAR</td>\n",
       "      <td>Cordillera Administrative Region</td>\n",
       "      <td>KALINGA</td>\n",
       "      <td>KALINGA</td>\n",
       "      <td>Kalinga</td>\n",
       "      <td>CITY OF TABUK (Capital)</td>\n",
       "      <td>Northern Tabuk</td>\n",
       "      <td>Lone District</td>\n",
       "      <td>...</td>\n",
       "      <td>331.0</td>\n",
       "      <td>323</td>\n",
       "      <td>316</td>\n",
       "      <td>312</td>\n",
       "      <td>0.041139</td>\n",
       "      <td>0.037975</td>\n",
       "      <td>0.024768</td>\n",
       "      <td>0.024768</td>\n",
       "      <td>0.024768</td>\n",
       "      <td>647.435897</td>\n",
       "    </tr>\n",
       "    <tr>\n",
       "      <th>34882</th>\n",
       "      <td>135873</td>\n",
       "      <td>Mungayang ES</td>\n",
       "      <td>CAR</td>\n",
       "      <td>Cordillera Administrative Region</td>\n",
       "      <td>IFUGAO</td>\n",
       "      <td>IFUGAO</td>\n",
       "      <td>Ifugao</td>\n",
       "      <td>KIANGAN</td>\n",
       "      <td>Kiangan</td>\n",
       "      <td>Lone District</td>\n",
       "      <td>...</td>\n",
       "      <td>207.0</td>\n",
       "      <td>202</td>\n",
       "      <td>213</td>\n",
       "      <td>217</td>\n",
       "      <td>0.037559</td>\n",
       "      <td>0.037559</td>\n",
       "      <td>0.044554</td>\n",
       "      <td>0.044554</td>\n",
       "      <td>0.044554</td>\n",
       "      <td>682.027650</td>\n",
       "    </tr>\n",
       "    <tr>\n",
       "      <th>34881</th>\n",
       "      <td>136307</td>\n",
       "      <td>Muliang ES</td>\n",
       "      <td>CAR</td>\n",
       "      <td>Cordillera Administrative Region</td>\n",
       "      <td>MOUNTAIN PROVINCE</td>\n",
       "      <td>MOUNTAIN PROVINCE</td>\n",
       "      <td>Mt. Province</td>\n",
       "      <td>PARACELIS</td>\n",
       "      <td>Paracelis</td>\n",
       "      <td>Lone District</td>\n",
       "      <td>...</td>\n",
       "      <td>130.0</td>\n",
       "      <td>129</td>\n",
       "      <td>130</td>\n",
       "      <td>129</td>\n",
       "      <td>0.023077</td>\n",
       "      <td>0.023077</td>\n",
       "      <td>0.023256</td>\n",
       "      <td>0.023256</td>\n",
       "      <td>0.023256</td>\n",
       "      <td>790.697674</td>\n",
       "    </tr>\n",
       "    <tr>\n",
       "      <th>34880</th>\n",
       "      <td>135953</td>\n",
       "      <td>Mulam PS</td>\n",
       "      <td>CAR</td>\n",
       "      <td>Cordillera Administrative Region</td>\n",
       "      <td>IFUGAO</td>\n",
       "      <td>IFUGAO</td>\n",
       "      <td>Ifugao</td>\n",
       "      <td>TINOC</td>\n",
       "      <td>Tinoc</td>\n",
       "      <td>Lone District</td>\n",
       "      <td>...</td>\n",
       "      <td>13.0</td>\n",
       "      <td>15</td>\n",
       "      <td>15</td>\n",
       "      <td>15</td>\n",
       "      <td>0.066667</td>\n",
       "      <td>0.066667</td>\n",
       "      <td>0.066667</td>\n",
       "      <td>0.066667</td>\n",
       "      <td>0.066667</td>\n",
       "      <td>3733.333333</td>\n",
       "    </tr>\n",
       "    <tr>\n",
       "      <th>34879</th>\n",
       "      <td>135021</td>\n",
       "      <td>Mudiit ES</td>\n",
       "      <td>CAR</td>\n",
       "      <td>Cordillera Administrative Region</td>\n",
       "      <td>ABRA</td>\n",
       "      <td>ABRA</td>\n",
       "      <td>Abra</td>\n",
       "      <td>DOLORES</td>\n",
       "      <td>Dolores</td>\n",
       "      <td>Lone District</td>\n",
       "      <td>...</td>\n",
       "      <td>206.0</td>\n",
       "      <td>208</td>\n",
       "      <td>193</td>\n",
       "      <td>191</td>\n",
       "      <td>0.031088</td>\n",
       "      <td>0.031088</td>\n",
       "      <td>0.028846</td>\n",
       "      <td>0.028846</td>\n",
       "      <td>0.028846</td>\n",
       "      <td>706.806283</td>\n",
       "    </tr>\n",
       "  </tbody>\n",
       "</table>\n",
       "<p>5 rows × 50 columns</p>\n",
       "</div>"
      ],
      "text/plain": [
       "       school.id   school.name school.region  \\\n",
       "34662     136007  Laya East ES           CAR   \n",
       "34882     135873  Mungayang ES           CAR   \n",
       "34881     136307    Muliang ES           CAR   \n",
       "34880     135953      Mulam PS           CAR   \n",
       "34879     135021     Mudiit ES           CAR   \n",
       "\n",
       "                     school.region.name    school.province    school.cityhall  \\\n",
       "34662  Cordillera Administrative Region            KALINGA            KALINGA   \n",
       "34882  Cordillera Administrative Region             IFUGAO             IFUGAO   \n",
       "34881  Cordillera Administrative Region  MOUNTAIN PROVINCE  MOUNTAIN PROVINCE   \n",
       "34880  Cordillera Administrative Region             IFUGAO             IFUGAO   \n",
       "34879  Cordillera Administrative Region               ABRA               ABRA   \n",
       "\n",
       "      school.division          school.citymuni school.district  \\\n",
       "34662         Kalinga  CITY OF TABUK (Capital)  Northern Tabuk   \n",
       "34882          Ifugao                  KIANGAN         Kiangan   \n",
       "34881    Mt. Province                PARACELIS       Paracelis   \n",
       "34880          Ifugao                    TINOC           Tinoc   \n",
       "34879            Abra                  DOLORES         Dolores   \n",
       "\n",
       "      school.legdistrict     ...      enrollment.2012 enrollment.2013  \\\n",
       "34662      Lone District     ...                331.0             323   \n",
       "34882      Lone District     ...                207.0             202   \n",
       "34881      Lone District     ...                130.0             129   \n",
       "34880      Lone District     ...                 13.0              15   \n",
       "34879      Lone District     ...                206.0             208   \n",
       "\n",
       "      enrollment.2014  enrollment.2015 all.teacher.ratio  \\\n",
       "34662             316              312          0.041139   \n",
       "34882             213              217          0.037559   \n",
       "34881             130              129          0.023077   \n",
       "34880              15               15          0.066667   \n",
       "34879             193              191          0.031088   \n",
       "\n",
       "      regular.teacher.ratio academic.room.ratio standard.room.ratio  \\\n",
       "34662              0.037975            0.024768            0.024768   \n",
       "34882              0.037559            0.044554            0.044554   \n",
       "34881              0.023077            0.023256            0.023256   \n",
       "34880              0.066667            0.066667            0.066667   \n",
       "34879              0.031088            0.028846            0.028846   \n",
       "\n",
       "      full.room.ratio   mooe.ratio  \n",
       "34662        0.024768   647.435897  \n",
       "34882        0.044554   682.027650  \n",
       "34881        0.023256   790.697674  \n",
       "34880        0.066667  3733.333333  \n",
       "34879        0.028846   706.806283  \n",
       "\n",
       "[5 rows x 50 columns]"
      ]
     },
     "execution_count": 6,
     "metadata": {},
     "output_type": "execute_result"
    }
   ],
   "source": [
    "sortedbyregion=capacity.sort_values(by='school.region')\n",
    "sortedbyregion.head()"
   ]
  },
  {
   "cell_type": "code",
   "execution_count": 7,
   "metadata": {
    "ExecuteTime": {
     "end_time": "2017-09-17T10:24:24.040422Z",
     "start_time": "2017-09-17T10:24:23.768863Z"
    },
    "scrolled": false
   },
   "outputs": [
    {
     "data": {
      "text/html": [
       "<div>\n",
       "<style>\n",
       "    .dataframe thead tr:only-child th {\n",
       "        text-align: right;\n",
       "    }\n",
       "\n",
       "    .dataframe thead th {\n",
       "        text-align: left;\n",
       "    }\n",
       "\n",
       "    .dataframe tbody tr th {\n",
       "        vertical-align: top;\n",
       "    }\n",
       "</style>\n",
       "<table border=\"1\" class=\"dataframe\">\n",
       "  <thead>\n",
       "    <tr style=\"text-align: right;\">\n",
       "      <th></th>\n",
       "      <th>school.id</th>\n",
       "      <th>school.name</th>\n",
       "      <th>school.region</th>\n",
       "      <th>school.region.name</th>\n",
       "      <th>school.province</th>\n",
       "      <th>school.cityhall</th>\n",
       "      <th>school.division</th>\n",
       "      <th>school.citymuni</th>\n",
       "      <th>school.district</th>\n",
       "      <th>school.legdistrict</th>\n",
       "      <th>...</th>\n",
       "      <th>enrollment.2012</th>\n",
       "      <th>enrollment.2013</th>\n",
       "      <th>enrollment.2014</th>\n",
       "      <th>enrollment.2015</th>\n",
       "      <th>all.teacher.ratio</th>\n",
       "      <th>regular.teacher.ratio</th>\n",
       "      <th>academic.room.ratio</th>\n",
       "      <th>standard.room.ratio</th>\n",
       "      <th>full.room.ratio</th>\n",
       "      <th>mooe.ratio</th>\n",
       "    </tr>\n",
       "  </thead>\n",
       "  <tbody>\n",
       "    <tr>\n",
       "      <th>35360</th>\n",
       "      <td>136566</td>\n",
       "      <td>15th Avenue Elementary School</td>\n",
       "      <td>NCR</td>\n",
       "      <td>National Capital Region</td>\n",
       "      <td>NCR SECOND DISTRICT</td>\n",
       "      <td>QUEZON CITY</td>\n",
       "      <td>Quezon City</td>\n",
       "      <td>QUEZON CITY</td>\n",
       "      <td>School District XI</td>\n",
       "      <td>3rd District</td>\n",
       "      <td>...</td>\n",
       "      <td>647.0</td>\n",
       "      <td>570</td>\n",
       "      <td>598</td>\n",
       "      <td>559</td>\n",
       "      <td>0.026756</td>\n",
       "      <td>0.021739</td>\n",
       "      <td>0.033333</td>\n",
       "      <td>0.033333</td>\n",
       "      <td>0.033333</td>\n",
       "      <td>563.506261</td>\n",
       "    </tr>\n",
       "    <tr>\n",
       "      <th>35361</th>\n",
       "      <td>136602</td>\n",
       "      <td>A. Bonifacio ES</td>\n",
       "      <td>NCR</td>\n",
       "      <td>National Capital Region</td>\n",
       "      <td>NCR FOURTH DISTRICT</td>\n",
       "      <td>PASAY CITY</td>\n",
       "      <td>Pasay City</td>\n",
       "      <td>PASAY CITY</td>\n",
       "      <td>Pasay City West District</td>\n",
       "      <td>Lone District</td>\n",
       "      <td>...</td>\n",
       "      <td>1547.0</td>\n",
       "      <td>1508</td>\n",
       "      <td>1564</td>\n",
       "      <td>1486</td>\n",
       "      <td>0.027494</td>\n",
       "      <td>0.023018</td>\n",
       "      <td>0.019894</td>\n",
       "      <td>0.019894</td>\n",
       "      <td>0.019894</td>\n",
       "      <td>462.987887</td>\n",
       "    </tr>\n",
       "    <tr>\n",
       "      <th>35362</th>\n",
       "      <td>136418</td>\n",
       "      <td>A. C. Herrera Elementary School</td>\n",
       "      <td>NCR</td>\n",
       "      <td>National Capital Region</td>\n",
       "      <td>MANILA, NCR, FIRST DISTRICT</td>\n",
       "      <td>TONDO</td>\n",
       "      <td>Manila</td>\n",
       "      <td>TONDO</td>\n",
       "      <td>Tondo I</td>\n",
       "      <td>2nd District</td>\n",
       "      <td>...</td>\n",
       "      <td>1005.0</td>\n",
       "      <td>949</td>\n",
       "      <td>961</td>\n",
       "      <td>946</td>\n",
       "      <td>0.046826</td>\n",
       "      <td>0.040583</td>\n",
       "      <td>0.011591</td>\n",
       "      <td>0.011591</td>\n",
       "      <td>0.011591</td>\n",
       "      <td>517.970402</td>\n",
       "    </tr>\n",
       "    <tr>\n",
       "      <th>35363</th>\n",
       "      <td>136800</td>\n",
       "      <td>A. Deato ES</td>\n",
       "      <td>NCR</td>\n",
       "      <td>National Capital Region</td>\n",
       "      <td>NCR THIRD DISTRICT</td>\n",
       "      <td>CITY OF VALENZUELA</td>\n",
       "      <td>Valenzuela City</td>\n",
       "      <td>CITY OF VALENZUELA</td>\n",
       "      <td>Valenzuela City North District</td>\n",
       "      <td>1st District</td>\n",
       "      <td>...</td>\n",
       "      <td>1020.0</td>\n",
       "      <td>1026</td>\n",
       "      <td>1050</td>\n",
       "      <td>1049</td>\n",
       "      <td>0.019048</td>\n",
       "      <td>0.018095</td>\n",
       "      <td>0.010721</td>\n",
       "      <td>0.010721</td>\n",
       "      <td>0.010721</td>\n",
       "      <td>406.101049</td>\n",
       "    </tr>\n",
       "    <tr>\n",
       "      <th>35364</th>\n",
       "      <td>136801</td>\n",
       "      <td>A. Fernando ES</td>\n",
       "      <td>NCR</td>\n",
       "      <td>National Capital Region</td>\n",
       "      <td>NCR THIRD DISTRICT</td>\n",
       "      <td>CITY OF VALENZUELA</td>\n",
       "      <td>Valenzuela City</td>\n",
       "      <td>CITY OF VALENZUELA</td>\n",
       "      <td>Valenzuela City North District</td>\n",
       "      <td>1st District</td>\n",
       "      <td>...</td>\n",
       "      <td>2322.0</td>\n",
       "      <td>2361</td>\n",
       "      <td>2433</td>\n",
       "      <td>2398</td>\n",
       "      <td>0.018496</td>\n",
       "      <td>0.016441</td>\n",
       "      <td>0.009318</td>\n",
       "      <td>0.009318</td>\n",
       "      <td>0.009318</td>\n",
       "      <td>379.482902</td>\n",
       "    </tr>\n",
       "  </tbody>\n",
       "</table>\n",
       "<p>5 rows × 50 columns</p>\n",
       "</div>"
      ],
      "text/plain": [
       "       school.id                      school.name school.region  \\\n",
       "35360     136566    15th Avenue Elementary School           NCR   \n",
       "35361     136602                  A. Bonifacio ES           NCR   \n",
       "35362     136418  A. C. Herrera Elementary School           NCR   \n",
       "35363     136800                      A. Deato ES           NCR   \n",
       "35364     136801                   A. Fernando ES           NCR   \n",
       "\n",
       "            school.region.name              school.province  \\\n",
       "35360  National Capital Region          NCR SECOND DISTRICT   \n",
       "35361  National Capital Region          NCR FOURTH DISTRICT   \n",
       "35362  National Capital Region  MANILA, NCR, FIRST DISTRICT   \n",
       "35363  National Capital Region           NCR THIRD DISTRICT   \n",
       "35364  National Capital Region           NCR THIRD DISTRICT   \n",
       "\n",
       "          school.cityhall  school.division     school.citymuni  \\\n",
       "35360         QUEZON CITY      Quezon City         QUEZON CITY   \n",
       "35361          PASAY CITY       Pasay City          PASAY CITY   \n",
       "35362               TONDO           Manila               TONDO   \n",
       "35363  CITY OF VALENZUELA  Valenzuela City  CITY OF VALENZUELA   \n",
       "35364  CITY OF VALENZUELA  Valenzuela City  CITY OF VALENZUELA   \n",
       "\n",
       "                      school.district school.legdistrict     ...      \\\n",
       "35360              School District XI       3rd District     ...       \n",
       "35361        Pasay City West District      Lone District     ...       \n",
       "35362                         Tondo I       2nd District     ...       \n",
       "35363  Valenzuela City North District       1st District     ...       \n",
       "35364  Valenzuela City North District       1st District     ...       \n",
       "\n",
       "      enrollment.2012 enrollment.2013 enrollment.2014  enrollment.2015  \\\n",
       "35360           647.0             570             598              559   \n",
       "35361          1547.0            1508            1564             1486   \n",
       "35362          1005.0             949             961              946   \n",
       "35363          1020.0            1026            1050             1049   \n",
       "35364          2322.0            2361            2433             2398   \n",
       "\n",
       "      all.teacher.ratio regular.teacher.ratio academic.room.ratio  \\\n",
       "35360          0.026756              0.021739            0.033333   \n",
       "35361          0.027494              0.023018            0.019894   \n",
       "35362          0.046826              0.040583            0.011591   \n",
       "35363          0.019048              0.018095            0.010721   \n",
       "35364          0.018496              0.016441            0.009318   \n",
       "\n",
       "      standard.room.ratio full.room.ratio  mooe.ratio  \n",
       "35360            0.033333        0.033333  563.506261  \n",
       "35361            0.019894        0.019894  462.987887  \n",
       "35362            0.011591        0.011591  517.970402  \n",
       "35363            0.010721        0.010721  406.101049  \n",
       "35364            0.009318        0.009318  379.482902  \n",
       "\n",
       "[5 rows x 50 columns]"
      ]
     },
     "execution_count": 7,
     "metadata": {},
     "output_type": "execute_result"
    }
   ],
   "source": [
    "#get the index of schools that contains NCR in the school.region column\n",
    "idx = capacity['school.region'].str.contains(\"NCR\")\n",
    "#using the index, get the list and call it ncr\n",
    "ncr=capacity[idx]\n",
    "ncr.head()"
   ]
  },
  {
   "cell_type": "code",
   "execution_count": 8,
   "metadata": {
    "ExecuteTime": {
     "end_time": "2017-09-17T10:24:24.074816Z",
     "start_time": "2017-09-17T10:24:24.047091Z"
    }
   },
   "outputs": [
    {
     "data": {
      "text/plain": [
       "['enrollment.2012', 'enrollment.2013', 'enrollment.2014', 'enrollment.2015']"
      ]
     },
     "execution_count": 8,
     "metadata": {},
     "output_type": "execute_result"
    }
   ],
   "source": [
    "#get only columns for yearly enrolment, add school.classification too\n",
    "enrolmentcolumns=['enrollment.2012','enrollment.2013','enrollment.2014',\n",
    "                  'enrollment.2015']\n",
    "enrolmentcolumns"
   ]
  },
  {
   "cell_type": "code",
   "execution_count": 9,
   "metadata": {
    "ExecuteTime": {
     "end_time": "2017-09-17T10:24:24.123133Z",
     "start_time": "2017-09-17T10:24:24.083298Z"
    }
   },
   "outputs": [
    {
     "data": {
      "text/html": [
       "<div>\n",
       "<style>\n",
       "    .dataframe thead tr:only-child th {\n",
       "        text-align: right;\n",
       "    }\n",
       "\n",
       "    .dataframe thead th {\n",
       "        text-align: left;\n",
       "    }\n",
       "\n",
       "    .dataframe tbody tr th {\n",
       "        vertical-align: top;\n",
       "    }\n",
       "</style>\n",
       "<table border=\"1\" class=\"dataframe\">\n",
       "  <thead>\n",
       "    <tr style=\"text-align: right;\">\n",
       "      <th></th>\n",
       "      <th>enrollment.2012</th>\n",
       "      <th>enrollment.2013</th>\n",
       "      <th>enrollment.2014</th>\n",
       "      <th>enrollment.2015</th>\n",
       "    </tr>\n",
       "  </thead>\n",
       "  <tbody>\n",
       "    <tr>\n",
       "      <th>35360</th>\n",
       "      <td>647.0</td>\n",
       "      <td>570</td>\n",
       "      <td>598</td>\n",
       "      <td>559</td>\n",
       "    </tr>\n",
       "    <tr>\n",
       "      <th>35361</th>\n",
       "      <td>1547.0</td>\n",
       "      <td>1508</td>\n",
       "      <td>1564</td>\n",
       "      <td>1486</td>\n",
       "    </tr>\n",
       "    <tr>\n",
       "      <th>35362</th>\n",
       "      <td>1005.0</td>\n",
       "      <td>949</td>\n",
       "      <td>961</td>\n",
       "      <td>946</td>\n",
       "    </tr>\n",
       "    <tr>\n",
       "      <th>35363</th>\n",
       "      <td>1020.0</td>\n",
       "      <td>1026</td>\n",
       "      <td>1050</td>\n",
       "      <td>1049</td>\n",
       "    </tr>\n",
       "    <tr>\n",
       "      <th>35364</th>\n",
       "      <td>2322.0</td>\n",
       "      <td>2361</td>\n",
       "      <td>2433</td>\n",
       "      <td>2398</td>\n",
       "    </tr>\n",
       "  </tbody>\n",
       "</table>\n",
       "</div>"
      ],
      "text/plain": [
       "       enrollment.2012  enrollment.2013  enrollment.2014  enrollment.2015\n",
       "35360            647.0              570              598              559\n",
       "35361           1547.0             1508             1564             1486\n",
       "35362           1005.0              949              961              946\n",
       "35363           1020.0             1026             1050             1049\n",
       "35364           2322.0             2361             2433             2398"
      ]
     },
     "execution_count": 9,
     "metadata": {},
     "output_type": "execute_result"
    }
   ],
   "source": [
    "enrolmentperyear=ncr[enrolmentcolumns]\n",
    "enrolmentperyear.head()"
   ]
  },
  {
   "cell_type": "code",
   "execution_count": 10,
   "metadata": {
    "ExecuteTime": {
     "end_time": "2017-09-17T10:24:24.291202Z",
     "start_time": "2017-09-17T10:24:24.129813Z"
    }
   },
   "outputs": [
    {
     "name": "stderr",
     "output_type": "stream",
     "text": [
      "/home/jp/miniconda2/envs/astroconda/lib/python2.7/site-packages/ipykernel_launcher.py:2: SettingWithCopyWarning: \n",
      "A value is trying to be set on a copy of a slice from a DataFrame.\n",
      "Try using .loc[row_indexer,col_indexer] = value instead\n",
      "\n",
      "See the caveats in the documentation: http://pandas.pydata.org/pandas-docs/stable/indexing.html#indexing-view-versus-copy\n",
      "  \n"
     ]
    },
    {
     "data": {
      "text/html": [
       "<div>\n",
       "<style>\n",
       "    .dataframe thead tr:only-child th {\n",
       "        text-align: right;\n",
       "    }\n",
       "\n",
       "    .dataframe thead th {\n",
       "        text-align: left;\n",
       "    }\n",
       "\n",
       "    .dataframe tbody tr th {\n",
       "        vertical-align: top;\n",
       "    }\n",
       "</style>\n",
       "<table border=\"1\" class=\"dataframe\">\n",
       "  <thead>\n",
       "    <tr style=\"text-align: right;\">\n",
       "      <th></th>\n",
       "      <th>enrollment.2012</th>\n",
       "      <th>enrollment.2013</th>\n",
       "      <th>enrollment.2014</th>\n",
       "      <th>enrollment.2015</th>\n",
       "      <th>school.classification</th>\n",
       "    </tr>\n",
       "  </thead>\n",
       "  <tbody>\n",
       "    <tr>\n",
       "      <th>35360</th>\n",
       "      <td>647.0</td>\n",
       "      <td>570</td>\n",
       "      <td>598</td>\n",
       "      <td>559</td>\n",
       "      <td>Elementary</td>\n",
       "    </tr>\n",
       "    <tr>\n",
       "      <th>35361</th>\n",
       "      <td>1547.0</td>\n",
       "      <td>1508</td>\n",
       "      <td>1564</td>\n",
       "      <td>1486</td>\n",
       "      <td>Elementary</td>\n",
       "    </tr>\n",
       "    <tr>\n",
       "      <th>35362</th>\n",
       "      <td>1005.0</td>\n",
       "      <td>949</td>\n",
       "      <td>961</td>\n",
       "      <td>946</td>\n",
       "      <td>Elementary</td>\n",
       "    </tr>\n",
       "    <tr>\n",
       "      <th>35363</th>\n",
       "      <td>1020.0</td>\n",
       "      <td>1026</td>\n",
       "      <td>1050</td>\n",
       "      <td>1049</td>\n",
       "      <td>Elementary</td>\n",
       "    </tr>\n",
       "    <tr>\n",
       "      <th>35364</th>\n",
       "      <td>2322.0</td>\n",
       "      <td>2361</td>\n",
       "      <td>2433</td>\n",
       "      <td>2398</td>\n",
       "      <td>Elementary</td>\n",
       "    </tr>\n",
       "  </tbody>\n",
       "</table>\n",
       "</div>"
      ],
      "text/plain": [
       "       enrollment.2012  enrollment.2013  enrollment.2014  enrollment.2015  \\\n",
       "35360            647.0              570              598              559   \n",
       "35361           1547.0             1508             1564             1486   \n",
       "35362           1005.0              949              961              946   \n",
       "35363           1020.0             1026             1050             1049   \n",
       "35364           2322.0             2361             2433             2398   \n",
       "\n",
       "      school.classification  \n",
       "35360            Elementary  \n",
       "35361            Elementary  \n",
       "35362            Elementary  \n",
       "35363            Elementary  \n",
       "35364            Elementary  "
      ]
     },
     "execution_count": 10,
     "metadata": {},
     "output_type": "execute_result"
    }
   ],
   "source": [
    "#add also column for classification\n",
    "enrolmentperyear['school.classification'] = ncr['school.classification']\n",
    "enrolmentperyear.head()"
   ]
  },
  {
   "cell_type": "code",
   "execution_count": 11,
   "metadata": {
    "ExecuteTime": {
     "end_time": "2017-09-17T10:24:24.412494Z",
     "start_time": "2017-09-17T10:24:24.303976Z"
    }
   },
   "outputs": [
    {
     "data": {
      "text/html": [
       "<div>\n",
       "<style>\n",
       "    .dataframe thead tr:only-child th {\n",
       "        text-align: right;\n",
       "    }\n",
       "\n",
       "    .dataframe thead th {\n",
       "        text-align: left;\n",
       "    }\n",
       "\n",
       "    .dataframe tbody tr th {\n",
       "        vertical-align: top;\n",
       "    }\n",
       "</style>\n",
       "<table border=\"1\" class=\"dataframe\">\n",
       "  <thead>\n",
       "    <tr style=\"text-align: right;\">\n",
       "      <th></th>\n",
       "      <th>enrollment.2012</th>\n",
       "      <th>enrollment.2013</th>\n",
       "      <th>enrollment.2014</th>\n",
       "      <th>enrollment.2015</th>\n",
       "      <th>school.classification</th>\n",
       "    </tr>\n",
       "  </thead>\n",
       "  <tbody>\n",
       "    <tr>\n",
       "      <th>35360</th>\n",
       "      <td>647.0</td>\n",
       "      <td>570</td>\n",
       "      <td>598</td>\n",
       "      <td>559</td>\n",
       "      <td>Elementary</td>\n",
       "    </tr>\n",
       "    <tr>\n",
       "      <th>35361</th>\n",
       "      <td>1547.0</td>\n",
       "      <td>1508</td>\n",
       "      <td>1564</td>\n",
       "      <td>1486</td>\n",
       "      <td>Elementary</td>\n",
       "    </tr>\n",
       "    <tr>\n",
       "      <th>35362</th>\n",
       "      <td>1005.0</td>\n",
       "      <td>949</td>\n",
       "      <td>961</td>\n",
       "      <td>946</td>\n",
       "      <td>Elementary</td>\n",
       "    </tr>\n",
       "    <tr>\n",
       "      <th>35363</th>\n",
       "      <td>1020.0</td>\n",
       "      <td>1026</td>\n",
       "      <td>1050</td>\n",
       "      <td>1049</td>\n",
       "      <td>Elementary</td>\n",
       "    </tr>\n",
       "    <tr>\n",
       "      <th>35364</th>\n",
       "      <td>2322.0</td>\n",
       "      <td>2361</td>\n",
       "      <td>2433</td>\n",
       "      <td>2398</td>\n",
       "      <td>Elementary</td>\n",
       "    </tr>\n",
       "  </tbody>\n",
       "</table>\n",
       "</div>"
      ],
      "text/plain": [
       "       enrollment.2012  enrollment.2013  enrollment.2014  enrollment.2015  \\\n",
       "35360            647.0              570              598              559   \n",
       "35361           1547.0             1508             1564             1486   \n",
       "35362           1005.0              949              961              946   \n",
       "35363           1020.0             1026             1050             1049   \n",
       "35364           2322.0             2361             2433             2398   \n",
       "\n",
       "      school.classification  \n",
       "35360            Elementary  \n",
       "35361            Elementary  \n",
       "35362            Elementary  \n",
       "35363            Elementary  \n",
       "35364            Elementary  "
      ]
     },
     "execution_count": 11,
     "metadata": {},
     "output_type": "execute_result"
    }
   ],
   "source": [
    "#check if the school in ncr has elementary classification\n",
    "idx = enrolmentperyear['school.classification'].str.contains(\"Elementary\")\n",
    "#using the index, get the list\n",
    "elem=enrolmentperyear[idx]\n",
    "elem.head()"
   ]
  },
  {
   "cell_type": "code",
   "execution_count": 12,
   "metadata": {
    "ExecuteTime": {
     "end_time": "2017-09-17T10:24:24.504116Z",
     "start_time": "2017-09-17T10:24:24.419761Z"
    }
   },
   "outputs": [
    {
     "data": {
      "text/html": [
       "<div>\n",
       "<style>\n",
       "    .dataframe thead tr:only-child th {\n",
       "        text-align: right;\n",
       "    }\n",
       "\n",
       "    .dataframe thead th {\n",
       "        text-align: left;\n",
       "    }\n",
       "\n",
       "    .dataframe tbody tr th {\n",
       "        vertical-align: top;\n",
       "    }\n",
       "</style>\n",
       "<table border=\"1\" class=\"dataframe\">\n",
       "  <thead>\n",
       "    <tr style=\"text-align: right;\">\n",
       "      <th></th>\n",
       "      <th>enrollment.2012</th>\n",
       "      <th>enrollment.2013</th>\n",
       "      <th>enrollment.2014</th>\n",
       "      <th>enrollment.2015</th>\n",
       "      <th>school.classification</th>\n",
       "    </tr>\n",
       "  </thead>\n",
       "  <tbody>\n",
       "    <tr>\n",
       "      <th>41494</th>\n",
       "      <td>406.0</td>\n",
       "      <td>383</td>\n",
       "      <td>354</td>\n",
       "      <td>364</td>\n",
       "      <td>Secondary</td>\n",
       "    </tr>\n",
       "    <tr>\n",
       "      <th>41495</th>\n",
       "      <td>3208.0</td>\n",
       "      <td>3136</td>\n",
       "      <td>3226</td>\n",
       "      <td>3176</td>\n",
       "      <td>Secondary</td>\n",
       "    </tr>\n",
       "    <tr>\n",
       "      <th>41496</th>\n",
       "      <td>2554.0</td>\n",
       "      <td>2543</td>\n",
       "      <td>2179</td>\n",
       "      <td>1904</td>\n",
       "      <td>Secondary</td>\n",
       "    </tr>\n",
       "    <tr>\n",
       "      <th>41497</th>\n",
       "      <td>2176.0</td>\n",
       "      <td>2279</td>\n",
       "      <td>2264</td>\n",
       "      <td>2324</td>\n",
       "      <td>Secondary</td>\n",
       "    </tr>\n",
       "    <tr>\n",
       "      <th>41498</th>\n",
       "      <td>2358.0</td>\n",
       "      <td>2106</td>\n",
       "      <td>1940</td>\n",
       "      <td>1852</td>\n",
       "      <td>Secondary</td>\n",
       "    </tr>\n",
       "  </tbody>\n",
       "</table>\n",
       "</div>"
      ],
      "text/plain": [
       "       enrollment.2012  enrollment.2013  enrollment.2014  enrollment.2015  \\\n",
       "41494            406.0              383              354              364   \n",
       "41495           3208.0             3136             3226             3176   \n",
       "41496           2554.0             2543             2179             1904   \n",
       "41497           2176.0             2279             2264             2324   \n",
       "41498           2358.0             2106             1940             1852   \n",
       "\n",
       "      school.classification  \n",
       "41494             Secondary  \n",
       "41495             Secondary  \n",
       "41496             Secondary  \n",
       "41497             Secondary  \n",
       "41498             Secondary  "
      ]
     },
     "execution_count": 12,
     "metadata": {},
     "output_type": "execute_result"
    }
   ],
   "source": [
    "#check if the school in ncr has secondaru classification\n",
    "idx = enrolmentperyear['school.classification'].str.contains(\"Secondary\")\n",
    "#using the index, get the list\n",
    "seco=enrolmentperyear[idx]\n",
    "seco.head()"
   ]
  },
  {
   "cell_type": "code",
   "execution_count": 13,
   "metadata": {
    "ExecuteTime": {
     "end_time": "2017-09-17T10:24:24.559286Z",
     "start_time": "2017-09-17T10:24:24.513800Z"
    }
   },
   "outputs": [
    {
     "data": {
      "text/plain": [
       "enrollment.2012    1314249.0\n",
       "enrollment.2013    1322324.0\n",
       "enrollment.2014    1339369.0\n",
       "enrollment.2015    1314071.0\n",
       "dtype: float64"
      ]
     },
     "execution_count": 13,
     "metadata": {},
     "output_type": "execute_result"
    }
   ],
   "source": [
    "#sum each one of the column of elementary; and do also for secondary\n",
    "elemcounts=elem[enrolmentcolumns].sum()\n",
    "elemcounts"
   ]
  },
  {
   "cell_type": "code",
   "execution_count": 14,
   "metadata": {
    "ExecuteTime": {
     "end_time": "2017-09-17T10:24:24.600929Z",
     "start_time": "2017-09-17T10:24:24.571606Z"
    }
   },
   "outputs": [
    {
     "data": {
      "text/plain": [
       "enrollment.2012    638120.0\n",
       "enrollment.2013    640406.0\n",
       "enrollment.2014    645687.0\n",
       "enrollment.2015    638024.0\n",
       "dtype: float64"
      ]
     },
     "execution_count": 14,
     "metadata": {},
     "output_type": "execute_result"
    }
   ],
   "source": [
    "#sum each one of the column of elementary; and do also for secondary\n",
    "secocounts=seco[enrolmentcolumns].sum()\n",
    "secocounts"
   ]
  },
  {
   "cell_type": "code",
   "execution_count": 15,
   "metadata": {
    "ExecuteTime": {
     "end_time": "2017-09-17T10:24:24.655204Z",
     "start_time": "2017-09-17T10:24:24.608666Z"
    }
   },
   "outputs": [
    {
     "data": {
      "text/html": [
       "<div>\n",
       "<style>\n",
       "    .dataframe thead tr:only-child th {\n",
       "        text-align: right;\n",
       "    }\n",
       "\n",
       "    .dataframe thead th {\n",
       "        text-align: left;\n",
       "    }\n",
       "\n",
       "    .dataframe tbody tr th {\n",
       "        vertical-align: top;\n",
       "    }\n",
       "</style>\n",
       "<table border=\"1\" class=\"dataframe\">\n",
       "  <thead>\n",
       "    <tr style=\"text-align: right;\">\n",
       "      <th></th>\n",
       "      <th>Elementary</th>\n",
       "      <th>Secondary</th>\n",
       "    </tr>\n",
       "  </thead>\n",
       "  <tbody>\n",
       "    <tr>\n",
       "      <th>enrollment.2012</th>\n",
       "      <td>1314249.0</td>\n",
       "      <td>638120.0</td>\n",
       "    </tr>\n",
       "    <tr>\n",
       "      <th>enrollment.2013</th>\n",
       "      <td>1322324.0</td>\n",
       "      <td>640406.0</td>\n",
       "    </tr>\n",
       "    <tr>\n",
       "      <th>enrollment.2014</th>\n",
       "      <td>1339369.0</td>\n",
       "      <td>645687.0</td>\n",
       "    </tr>\n",
       "    <tr>\n",
       "      <th>enrollment.2015</th>\n",
       "      <td>1314071.0</td>\n",
       "      <td>638024.0</td>\n",
       "    </tr>\n",
       "  </tbody>\n",
       "</table>\n",
       "</div>"
      ],
      "text/plain": [
       "                 Elementary  Secondary\n",
       "enrollment.2012   1314249.0   638120.0\n",
       "enrollment.2013   1322324.0   640406.0\n",
       "enrollment.2014   1339369.0   645687.0\n",
       "enrollment.2015   1314071.0   638024.0"
      ]
     },
     "execution_count": 15,
     "metadata": {},
     "output_type": "execute_result"
    }
   ],
   "source": [
    "#summarize results in one dataframe\n",
    "results = pd.DataFrame({'Elementary':elemcounts, \n",
    "                        'Secondary': secocounts})\n",
    "results"
   ]
  },
  {
   "cell_type": "code",
   "execution_count": 16,
   "metadata": {
    "ExecuteTime": {
     "end_time": "2017-09-17T10:24:24.717028Z",
     "start_time": "2017-09-17T10:24:24.662963Z"
    }
   },
   "outputs": [
    {
     "data": {
      "text/html": [
       "<div>\n",
       "<style>\n",
       "    .dataframe thead tr:only-child th {\n",
       "        text-align: right;\n",
       "    }\n",
       "\n",
       "    .dataframe thead th {\n",
       "        text-align: left;\n",
       "    }\n",
       "\n",
       "    .dataframe tbody tr th {\n",
       "        vertical-align: top;\n",
       "    }\n",
       "</style>\n",
       "<table border=\"1\" class=\"dataframe\">\n",
       "  <thead>\n",
       "    <tr style=\"text-align: right;\">\n",
       "      <th></th>\n",
       "      <th>Elementary</th>\n",
       "      <th>Secondary</th>\n",
       "    </tr>\n",
       "  </thead>\n",
       "  <tbody>\n",
       "    <tr>\n",
       "      <th>2012</th>\n",
       "      <td>1314249.0</td>\n",
       "      <td>638120.0</td>\n",
       "    </tr>\n",
       "    <tr>\n",
       "      <th>2013</th>\n",
       "      <td>1322324.0</td>\n",
       "      <td>640406.0</td>\n",
       "    </tr>\n",
       "    <tr>\n",
       "      <th>2014</th>\n",
       "      <td>1339369.0</td>\n",
       "      <td>645687.0</td>\n",
       "    </tr>\n",
       "    <tr>\n",
       "      <th>2015</th>\n",
       "      <td>1314071.0</td>\n",
       "      <td>638024.0</td>\n",
       "    </tr>\n",
       "  </tbody>\n",
       "</table>\n",
       "</div>"
      ],
      "text/plain": [
       "      Elementary  Secondary\n",
       "2012   1314249.0   638120.0\n",
       "2013   1322324.0   640406.0\n",
       "2014   1339369.0   645687.0\n",
       "2015   1314071.0   638024.0"
      ]
     },
     "execution_count": 16,
     "metadata": {},
     "output_type": "execute_result"
    }
   ],
   "source": [
    "#rename the index\n",
    "results.index = ['2012','2013','2014','2015']\n",
    "results"
   ]
  },
  {
   "cell_type": "markdown",
   "metadata": {
    "ExecuteTime": {
     "end_time": "2017-09-17T05:19:48.051711Z",
     "start_time": "2017-09-17T05:19:48.033572Z"
    }
   },
   "source": [
    "Plotting"
   ]
  },
  {
   "cell_type": "code",
   "execution_count": 17,
   "metadata": {
    "ExecuteTime": {
     "end_time": "2017-09-17T10:24:25.565822Z",
     "start_time": "2017-09-17T10:24:24.724609Z"
    }
   },
   "outputs": [
    {
     "data": {
      "text/plain": [
       "<matplotlib.axes._subplots.AxesSubplot at 0x7f02e71c7e10>"
      ]
     },
     "execution_count": 17,
     "metadata": {},
     "output_type": "execute_result"
    },
    {
     "data": {
      "image/png": "[encoded data removed]",
      "text/plain": [
       "<matplotlib.figure.Figure at 0x7f02e71d71d0>"
      ]
     },
     "metadata": {},
     "output_type": "display_data"
    }
   ],
   "source": [
    "results.plot(marker='o')"
   ]
  },
  {
   "cell_type": "code",
   "execution_count": 18,
   "metadata": {
    "ExecuteTime": {
     "end_time": "2017-09-17T10:24:25.592320Z",
     "start_time": "2017-09-17T10:24:25.575224Z"
    },
    "collapsed": true
   },
   "outputs": [],
   "source": [
    "#divide the count by 1e6 in each row\n",
    "results = results.apply(lambda x: x/1e6) #lambda is a dummy function that divides 1e6 each row"
   ]
  },
  {
   "cell_type": "code",
   "execution_count": 19,
   "metadata": {
    "ExecuteTime": {
     "end_time": "2017-09-17T10:24:26.368941Z",
     "start_time": "2017-09-17T10:24:25.599839Z"
    }
   },
   "outputs": [
    {
     "data": {
      "text/plain": [
       "<matplotlib.figure.Figure at 0x7f02e7e4b190>"
      ]
     },
     "metadata": {},
     "output_type": "display_data"
    },
    {
     "data": {
      "image/png": "[encoded data removed]",
      "text/plain": [
       "<matplotlib.figure.Figure at 0x7f02e7e4b710>"
      ]
     },
     "metadata": {},
     "output_type": "display_data"
    }
   ],
   "source": [
    "fig = plt.figure(figsize=(15,15))\n",
    "\n",
    "ax = results.plot.bar()\n",
    "\n",
    "#set properties to look better\n",
    "ax.set_xticklabels(ax.xaxis.get_majorticklabels(), rotation=0)\n",
    "ax.set_ylim([0,1.6])\n",
    "\n",
    "ax.set_ylabel('Count (in Million)')\n",
    "ax.set_xlabel('Year')\n",
    "ax.set_title('Enrolment rate in NCR')\n",
    "plt.show()"
   ]
  },
  {
   "cell_type": "markdown",
   "metadata": {},
   "source": [
    "The difference is not evident in the plot. Let's try alternatives."
   ]
  },
  {
   "cell_type": "code",
   "execution_count": 20,
   "metadata": {
    "ExecuteTime": {
     "end_time": "2017-09-17T10:24:26.944820Z",
     "start_time": "2017-09-17T10:24:26.373795Z"
    }
   },
   "outputs": [
    {
     "data": {
      "text/plain": [
       "<matplotlib.axes._subplots.AxesSubplot at 0x7f02e7e97e50>"
      ]
     },
     "execution_count": 20,
     "metadata": {},
     "output_type": "execute_result"
    },
    {
     "data": {
      "image/png": "[encoded data removed]",
      "text/plain": [
       "<matplotlib.figure.Figure at 0x7f02e7d53350>"
      ]
     },
     "metadata": {},
     "output_type": "display_data"
    }
   ],
   "source": [
    "percent_change = results.pct_change().apply(lambda x: x*100)\n",
    "percent_change.plot.bar()"
   ]
  },
  {
   "cell_type": "markdown",
   "metadata": {},
   "source": [
    "# Challenges\n",
    "\n",
    "## 1. Plot enrolment rate per region from 2012-2015\n",
    "## 2. Plot enrolment rate comparing all regions (sum total of 2012-2015)"
   ]
  },
  {
   "cell_type": "code",
   "execution_count": null,
   "metadata": {
    "collapsed": true
   },
   "outputs": [],
   "source": []
  },
  {
   "cell_type": "markdown",
   "metadata": {},
   "source": [
    "# Partial solution (1)"
   ]
  },
  {
   "cell_type": "code",
   "execution_count": 21,
   "metadata": {
    "ExecuteTime": {
     "end_time": "2017-09-17T10:24:27.001917Z",
     "start_time": "2017-09-17T10:24:26.949561Z"
    }
   },
   "outputs": [
    {
     "name": "stdout",
     "output_type": "stream",
     "text": [
      "CAR\n",
      "CARAGA\n",
      "NCR\n",
      "Region I\n",
      "Region II\n",
      "Region III\n",
      "Region IV-A\n",
      "Region IV-B\n",
      "Region IX\n",
      "Region V\n",
      "Region VI\n",
      "Region VII\n",
      "Region VIII\n",
      "Region X\n",
      "Region XI\n",
      "Region XII\n"
     ]
    }
   ],
   "source": [
    "#group by region\n",
    "for (group, data) in capacity.groupby(by='school.region'):\n",
    "    print(group)\n",
    "    #data is the dataframe of the group"
   ]
  },
  {
   "cell_type": "markdown",
   "metadata": {},
   "source": [
    "Let's use a `for` loop to do the routine as shown above."
   ]
  },
  {
   "cell_type": "code",
   "execution_count": 22,
   "metadata": {
    "ExecuteTime": {
     "end_time": "2017-09-17T10:24:37.195115Z",
     "start_time": "2017-09-17T10:24:27.008268Z"
    },
    "scrolled": false
   },
   "outputs": [
    {
     "name": "stdout",
     "output_type": "stream",
     "text": [
      "('CAR', 'Elementary')\n",
      "('CAR', 'Secondary')\n"
     ]
    },
    {
     "data": {
      "image/png": "[encoded data removed]",
      "text/plain": [
       "<matplotlib.figure.Figure at 0x7f02e7e18590>"
      ]
     },
     "metadata": {},
     "output_type": "display_data"
    },
    {
     "name": "stdout",
     "output_type": "stream",
     "text": [
      "('CARAGA', 'Elementary')\n",
      "('CARAGA', 'Secondary')\n"
     ]
    },
    {
     "data": {
      "image/png": "[encoded data removed]",
      "text/plain": [
       "<matplotlib.figure.Figure at 0x7f02e781ab50>"
      ]
     },
     "metadata": {},
     "output_type": "display_data"
    },
    {
     "name": "stdout",
     "output_type": "stream",
     "text": [
      "('NCR', 'Elementary')\n",
      "('NCR', 'Secondary')\n"
     ]
    },
    {
     "data": {
      "image/png": "[encoded data removed]",
      "text/plain": [
       "<matplotlib.figure.Figure at 0x7f02e771b650>"
      ]
     },
     "metadata": {},
     "output_type": "display_data"
    },
    {
     "name": "stdout",
     "output_type": "stream",
     "text": [
      "('Region I', 'Elementary')\n",
      "('Region I', 'Secondary')\n"
     ]
    },
    {
     "data": {
      "image/png": "[encoded data removed]",
      "text/plain": [
       "<matplotlib.figure.Figure at 0x7f02e13b4150>"
      ]
     },
     "metadata": {},
     "output_type": "display_data"
    },
    {
     "name": "stdout",
     "output_type": "stream",
     "text": [
      "('Region II', 'Elementary')\n",
      "('Region II', 'Secondary')\n"
     ]
    },
    {
     "data": {
      "image/png": "[encoded data removed]",
      "text/plain": [
       "<matplotlib.figure.Figure at 0x7f02e1328250>"
      ]
     },
     "metadata": {},
     "output_type": "display_data"
    },
    {
     "name": "stdout",
     "output_type": "stream",
     "text": [
      "('Region III', 'Elementary')\n",
      "('Region III', 'Secondary')\n"
     ]
    },
    {
     "data": {
      "image/png": "[encoded data removed]",
      "text/plain": [
       "<matplotlib.figure.Figure at 0x7f02e1215d90>"
      ]
     },
     "metadata": {},
     "output_type": "display_data"
    },
    {
     "name": "stdout",
     "output_type": "stream",
     "text": [
      "('Region IV-A', 'Elementary')\n",
      "('Region IV-A', 'Secondary')\n"
     ]
    },
    {
     "data": {
      "image/png": "[encoded data removed]",
      "text/plain": [
       "<matplotlib.figure.Figure at 0x7f02e11062d0>"
      ]
     },
     "metadata": {},
     "output_type": "display_data"
    },
    {
     "name": "stdout",
     "output_type": "stream",
     "text": [
      "('Region IV-B', 'Elementary')\n",
      "('Region IV-B', 'Secondary')\n"
     ]
    },
    {
     "data": {
      "image/png": "[encoded data removed]",
      "text/plain": [
       "<matplotlib.figure.Figure at 0x7f02e13154d0>"
      ]
     },
     "metadata": {},
     "output_type": "display_data"
    },
    {
     "name": "stdout",
     "output_type": "stream",
     "text": [
      "('Region IX', 'Elementary')\n",
      "('Region IX', 'Secondary')\n"
     ]
    },
    {
     "data": {
      "image/png": "[encoded data removed]",
      "text/plain": [
       "<matplotlib.figure.Figure at 0x7f02e77a6bd0>"
      ]
     },
     "metadata": {},
     "output_type": "display_data"
    },
    {
     "name": "stdout",
     "output_type": "stream",
     "text": [
      "('Region V', 'Elementary')\n",
      "('Region V', 'Secondary')\n"
     ]
    },
    {
     "data": {
      "image/png": "[encoded data removed]",
      "text/plain": [
       "<matplotlib.figure.Figure at 0x7f02e7e18bd0>"
      ]
     },
     "metadata": {},
     "output_type": "display_data"
    },
    {
     "name": "stdout",
     "output_type": "stream",
     "text": [
      "('Region VI', 'Elementary')\n",
      "('Region VI', 'Secondary')\n"
     ]
    },
    {
     "data": {
      "image/png": "[encoded data removed]",
      "text/plain": [
       "<matplotlib.figure.Figure at 0x7f02e12a9210>"
      ]
     },
     "metadata": {},
     "output_type": "display_data"
    },
    {
     "name": "stdout",
     "output_type": "stream",
     "text": [
      "('Region VII', 'Elementary')\n",
      "('Region VII', 'Secondary')\n"
     ]
    },
    {
     "data": {
      "image/png": "[encoded data removed]",
      "text/plain": [
       "<matplotlib.figure.Figure at 0x7f02e7765250>"
      ]
     },
     "metadata": {},
     "output_type": "display_data"
    },
    {
     "name": "stdout",
     "output_type": "stream",
     "text": [
      "('Region VIII', 'Elementary')\n",
      "('Region VIII', 'Secondary')\n"
     ]
    },
    {
     "data": {
      "image/png": "[encoded data removed]",
      "text/plain": [
       "<matplotlib.figure.Figure at 0x7f02e77452d0>"
      ]
     },
     "metadata": {},
     "output_type": "display_data"
    },
    {
     "name": "stdout",
     "output_type": "stream",
     "text": [
      "('Region X', 'Elementary')\n",
      "('Region X', 'Secondary')\n"
     ]
    },
    {
     "data": {
      "image/png": "[encoded data removed]",
      "text/plain": [
       "<matplotlib.figure.Figure at 0x7f02e1004390>"
      ]
     },
     "metadata": {},
     "output_type": "display_data"
    },
    {
     "name": "stdout",
     "output_type": "stream",
     "text": [
      "('Region XI', 'Elementary')\n",
      "('Region XI', 'Secondary')\n"
     ]
    },
    {
     "data": {
      "image/png": "[encoded data removed]",
      "text/plain": [
       "<matplotlib.figure.Figure at 0x7f02e0ef6090>"
      ]
     },
     "metadata": {},
     "output_type": "display_data"
    },
    {
     "name": "stdout",
     "output_type": "stream",
     "text": [
      "('Region XII', 'Elementary')\n",
      "('Region XII', 'Secondary')\n"
     ]
    },
    {
     "data": {
      "image/png": "[encoded data removed]",
      "text/plain": [
       "<matplotlib.figure.Figure at 0x7f02e0e6b950>"
      ]
     },
     "metadata": {},
     "output_type": "display_data"
    }
   ],
   "source": [
    "counts={}\n",
    "#group by region\n",
    "for (region_group, data) in capacity.groupby(by='school.region'):\n",
    "    #in the given region, group/determine either elem or seco\n",
    "    for (clf_group, clf_data) in data.groupby(by='school.classification'):\n",
    "        print(region_group, clf_group)\n",
    "        #create new plot per loop\n",
    "        ax = plt.subplot()\n",
    "        #sum the enrolment per year\n",
    "        res=clf_data[enrolmentcolumns].sum()\n",
    "        #rename the index\n",
    "        res.index = ['2012','2013','2014','2015']\n",
    "        counts[clf_group] = res\n",
    "    #create df\n",
    "    df = pd.DataFrame(counts)\n",
    "    #divide by 1e4\n",
    "    df = df.apply(lambda x: x/1e4)\n",
    "    #plot\n",
    "    df.plot.bar(ax=ax)\n",
    "    #set labels\n",
    "    ax.set_ylabel('Count (x 10,000)')\n",
    "    ax.set_xlabel('Year')\n",
    "    ax.set_xticklabels(ax.xaxis.get_majorticklabels(), rotation=0)\n",
    "    ax.set_title('Enrolment rate in {}'.format(region_group))\n",
    "    plt.show()"
   ]
  },
  {
   "cell_type": "markdown",
   "metadata": {},
   "source": [
    "Again, do the same thing for percent chaange to better see trend."
   ]
  },
  {
   "cell_type": "code",
   "execution_count": 23,
   "metadata": {
    "ExecuteTime": {
     "end_time": "2017-09-17T10:24:48.146864Z",
     "start_time": "2017-09-17T10:24:37.200408Z"
    },
    "scrolled": false
   },
   "outputs": [
    {
     "name": "stdout",
     "output_type": "stream",
     "text": [
      "('CAR', 'Elementary')\n",
      "('CAR', 'Secondary')\n"
     ]
    },
    {
     "data": {
      "image/png": "[encoded data removed]",
      "text/plain": [
       "<matplotlib.figure.Figure at 0x7f02e0d6b4d0>"
      ]
     },
     "metadata": {},
     "output_type": "display_data"
    },
    {
     "name": "stdout",
     "output_type": "stream",
     "text": [
      "('CARAGA', 'Elementary')\n",
      "('CARAGA', 'Secondary')\n"
     ]
    },
    {
     "data": {
      "image/png": "[encoded data removed]",
      "text/plain": [
       "<matplotlib.figure.Figure at 0x7f02e87e3610>"
      ]
     },
     "metadata": {},
     "output_type": "display_data"
    },
    {
     "name": "stdout",
     "output_type": "stream",
     "text": [
      "('NCR', 'Elementary')\n",
      "('NCR', 'Secondary')\n"
     ]
    },
    {
     "data": {
      "image/png": "[encoded data removed]",
      "text/plain": [
       "<matplotlib.figure.Figure at 0x7f02e0c39990>"
      ]
     },
     "metadata": {},
     "output_type": "display_data"
    },
    {
     "name": "stdout",
     "output_type": "stream",
     "text": [
      "('Region I', 'Elementary')\n",
      "('Region I', 'Secondary')\n"
     ]
    },
    {
     "data": {
      "image/png": "[encoded data removed]",
      "text/plain": [
       "<matplotlib.figure.Figure at 0x7f02e0df8510>"
      ]
     },
     "metadata": {},
     "output_type": "display_data"
    },
    {
     "name": "stdout",
     "output_type": "stream",
     "text": [
      "('Region II', 'Elementary')\n",
      "('Region II', 'Secondary')\n"
     ]
    },
    {
     "data": {
      "image/png": "[encoded data removed]",
      "text/plain": [
       "<matplotlib.figure.Figure at 0x7f02e0fb00d0>"
      ]
     },
     "metadata": {},
     "output_type": "display_data"
    },
    {
     "name": "stdout",
     "output_type": "stream",
     "text": [
      "('Region III', 'Elementary')\n",
      "('Region III', 'Secondary')\n"
     ]
    },
    {
     "data": {
      "image/png": "[encoded data removed]",
      "text/plain": [
       "<matplotlib.figure.Figure at 0x7f02e0c03b50>"
      ]
     },
     "metadata": {},
     "output_type": "display_data"
    },
    {
     "name": "stdout",
     "output_type": "stream",
     "text": [
      "('Region IV-A', 'Elementary')\n",
      "('Region IV-A', 'Secondary')\n"
     ]
    },
    {
     "data": {
      "image/png": "[encoded data removed]",
      "text/plain": [
       "<matplotlib.figure.Figure at 0x7f02e0e25b50>"
      ]
     },
     "metadata": {},
     "output_type": "display_data"
    },
    {
     "name": "stdout",
     "output_type": "stream",
     "text": [
      "('Region IV-B', 'Elementary')\n",
      "('Region IV-B', 'Secondary')\n"
     ]
    },
    {
     "data": {
      "image/png": "[encoded data removed]",
      "text/plain": [
       "<matplotlib.figure.Figure at 0x7f02e11d8ed0>"
      ]
     },
     "metadata": {},
     "output_type": "display_data"
    },
    {
     "name": "stdout",
     "output_type": "stream",
     "text": [
      "('Region IX', 'Elementary')\n",
      "('Region IX', 'Secondary')\n"
     ]
    },
    {
     "data": {
      "image/png": "[encoded data removed]",
      "text/plain": [
       "<matplotlib.figure.Figure at 0x7f02e1036850>"
      ]
     },
     "metadata": {},
     "output_type": "display_data"
    },
    {
     "name": "stdout",
     "output_type": "stream",
     "text": [
      "('Region V', 'Elementary')\n",
      "('Region V', 'Secondary')\n"
     ]
    },
    {
     "data": {
      "image/png": "[encoded data removed]",
      "text/plain": [
       "<matplotlib.figure.Figure at 0x7f02e132bb90>"
      ]
     },
     "metadata": {},
     "output_type": "display_data"
    },
    {
     "name": "stdout",
     "output_type": "stream",
     "text": [
      "('Region VI', 'Elementary')\n",
      "('Region VI', 'Secondary')\n"
     ]
    },
    {
     "data": {
      "image/png": "[encoded data removed]",
      "text/plain": [
       "<matplotlib.figure.Figure at 0x7f02e1320c90>"
      ]
     },
     "metadata": {},
     "output_type": "display_data"
    },
    {
     "name": "stdout",
     "output_type": "stream",
     "text": [
      "('Region VII', 'Elementary')\n",
      "('Region VII', 'Secondary')\n"
     ]
    },
    {
     "data": {
      "image/png": "[encoded data removed]",
      "text/plain": [
       "<matplotlib.figure.Figure at 0x7f02e108c810>"
      ]
     },
     "metadata": {},
     "output_type": "display_data"
    },
    {
     "name": "stdout",
     "output_type": "stream",
     "text": [
      "('Region VIII', 'Elementary')\n",
      "('Region VIII', 'Secondary')\n"
     ]
    },
    {
     "data": {
      "image/png": "[encoded data removed]",
      "text/plain": [
       "<matplotlib.figure.Figure at 0x7f02e13bd210>"
      ]
     },
     "metadata": {},
     "output_type": "display_data"
    },
    {
     "name": "stdout",
     "output_type": "stream",
     "text": [
      "('Region X', 'Elementary')\n",
      "('Region X', 'Secondary')\n"
     ]
    },
    {
     "data": {
      "image/png": "[encoded data removed]",
      "text/plain": [
       "<matplotlib.figure.Figure at 0x7f02e1076190>"
      ]
     },
     "metadata": {},
     "output_type": "display_data"
    },
    {
     "name": "stdout",
     "output_type": "stream",
     "text": [
      "('Region XI', 'Elementary')\n",
      "('Region XI', 'Secondary')\n"
     ]
    },
    {
     "data": {
      "image/png": "[encoded data removed]",
      "text/plain": [
       "<matplotlib.figure.Figure at 0x7f02e12d20d0>"
      ]
     },
     "metadata": {},
     "output_type": "display_data"
    },
    {
     "name": "stdout",
     "output_type": "stream",
     "text": [
      "('Region XII', 'Elementary')\n",
      "('Region XII', 'Secondary')\n"
     ]
    },
    {
     "data": {
      "image/png": "[encoded data removed]",
      "text/plain": [
       "<matplotlib.figure.Figure at 0x7f02e7ce5850>"
      ]
     },
     "metadata": {},
     "output_type": "display_data"
    }
   ],
   "source": [
    "counts={}\n",
    "#group by region\n",
    "for (region_group, data) in capacity.groupby(by='school.region'):\n",
    "    #in the given region, group/determine either elem or seco\n",
    "    for (clf_group, clf_data) in data.groupby(by='school.classification'):\n",
    "        print(region_group, clf_group)\n",
    "        #sum the enrolment per year\n",
    "        res=clf_data[enrolmentcolumns].sum()\n",
    "        #rename the index\n",
    "        res.index = ['2012','2013','2014','2015']\n",
    "        counts[clf_group] = res\n",
    "    #create new plot per loop\n",
    "    #create df\n",
    "    df = pd.DataFrame(counts)\n",
    "    #plot\n",
    "    percent_change = df.pct_change().apply(lambda x: x*100)\n",
    "    ax = percent_change.plot.bar()\n",
    "    #set labels\n",
    "    ax.set_ylabel('Percent Change')\n",
    "    ax.set_xlabel('Year')\n",
    "    ax.set_xticklabels(ax.xaxis.get_majorticklabels(), rotation=0)\n",
    "    ax.set_title('Enrolment rate in {}'.format(region_group))\n",
    "    plt.show()"
   ]
  },
  {
   "cell_type": "markdown",
   "metadata": {},
   "source": [
    "# Partial solution (2)"
   ]
  },
  {
   "cell_type": "code",
   "execution_count": 24,
   "metadata": {
    "ExecuteTime": {
     "end_time": "2017-09-17T10:24:48.499094Z",
     "start_time": "2017-09-17T10:24:48.155344Z"
    },
    "collapsed": true
   },
   "outputs": [],
   "source": [
    "counts={}\n",
    "regional = {}\n",
    "e = [] #list of elem student counts\n",
    "s = [] #list of sec student counts\n",
    "r = [] #list of region\n",
    "\n",
    "#group by region\n",
    "for (region_group, data) in capacity.groupby(by='school.region'):\n",
    "    #in the given region, group/determine either elem or seco\n",
    "    for (clf_group, clf_data) in data.groupby(by='school.classification'):\n",
    "        #sum the enrolment per year\n",
    "        res=clf_data[enrolmentcolumns].sum()\n",
    "        #sum again for all years\n",
    "        total = res.sum()\n",
    "        counts[clf_group] = total\n",
    "    regional[region_group]=counts\n",
    "    e.append(counts['Elementary'])\n",
    "    s.append(counts['Secondary'])\n",
    "    r.append(region_group)\n",
    "    #print(region_group,counts)"
   ]
  },
  {
   "cell_type": "code",
   "execution_count": 25,
   "metadata": {
    "ExecuteTime": {
     "end_time": "2017-09-17T10:24:48.575952Z",
     "start_time": "2017-09-17T10:24:48.504666Z"
    }
   },
   "outputs": [
    {
     "data": {
      "text/html": [
       "<div>\n",
       "<style>\n",
       "    .dataframe thead tr:only-child th {\n",
       "        text-align: right;\n",
       "    }\n",
       "\n",
       "    .dataframe thead th {\n",
       "        text-align: left;\n",
       "    }\n",
       "\n",
       "    .dataframe tbody tr th {\n",
       "        vertical-align: top;\n",
       "    }\n",
       "</style>\n",
       "<table border=\"1\" class=\"dataframe\">\n",
       "  <thead>\n",
       "    <tr style=\"text-align: right;\">\n",
       "      <th></th>\n",
       "      <th>Elementary</th>\n",
       "      <th>Secondary</th>\n",
       "    </tr>\n",
       "  </thead>\n",
       "  <tbody>\n",
       "    <tr>\n",
       "      <th>CAR</th>\n",
       "      <td>970629.0</td>\n",
       "      <td>298280.0</td>\n",
       "    </tr>\n",
       "    <tr>\n",
       "      <th>CARAGA</th>\n",
       "      <td>1821543.0</td>\n",
       "      <td>556230.0</td>\n",
       "    </tr>\n",
       "    <tr>\n",
       "      <th>NCR</th>\n",
       "      <td>5290013.0</td>\n",
       "      <td>2562237.0</td>\n",
       "    </tr>\n",
       "    <tr>\n",
       "      <th>Region I</th>\n",
       "      <td>2890761.0</td>\n",
       "      <td>1188084.0</td>\n",
       "    </tr>\n",
       "    <tr>\n",
       "      <th>Region II</th>\n",
       "      <td>1990160.0</td>\n",
       "      <td>714056.0</td>\n",
       "    </tr>\n",
       "    <tr>\n",
       "      <th>Region III</th>\n",
       "      <td>5943566.0</td>\n",
       "      <td>2198448.0</td>\n",
       "    </tr>\n",
       "    <tr>\n",
       "      <th>Region IV-A</th>\n",
       "      <td>7144104.0</td>\n",
       "      <td>2617620.0</td>\n",
       "    </tr>\n",
       "    <tr>\n",
       "      <th>Region IV-B</th>\n",
       "      <td>2113465.0</td>\n",
       "      <td>731632.0</td>\n",
       "    </tr>\n",
       "    <tr>\n",
       "      <th>Region IX</th>\n",
       "      <td>2599664.0</td>\n",
       "      <td>768795.0</td>\n",
       "    </tr>\n",
       "    <tr>\n",
       "      <th>Region V</th>\n",
       "      <td>4449709.0</td>\n",
       "      <td>1573273.0</td>\n",
       "    </tr>\n",
       "    <tr>\n",
       "      <th>Region VI</th>\n",
       "      <td>4717524.0</td>\n",
       "      <td>1801659.0</td>\n",
       "    </tr>\n",
       "    <tr>\n",
       "      <th>Region VII</th>\n",
       "      <td>4662833.0</td>\n",
       "      <td>1243114.0</td>\n",
       "    </tr>\n",
       "    <tr>\n",
       "      <th>Region VIII</th>\n",
       "      <td>3170547.0</td>\n",
       "      <td>1160617.0</td>\n",
       "    </tr>\n",
       "    <tr>\n",
       "      <th>Region X</th>\n",
       "      <td>3024386.0</td>\n",
       "      <td>830584.0</td>\n",
       "    </tr>\n",
       "    <tr>\n",
       "      <th>Region XI</th>\n",
       "      <td>3077962.0</td>\n",
       "      <td>983021.0</td>\n",
       "    </tr>\n",
       "    <tr>\n",
       "      <th>Region XII</th>\n",
       "      <td>2891471.0</td>\n",
       "      <td>849802.0</td>\n",
       "    </tr>\n",
       "  </tbody>\n",
       "</table>\n",
       "</div>"
      ],
      "text/plain": [
       "             Elementary  Secondary\n",
       "CAR            970629.0   298280.0\n",
       "CARAGA        1821543.0   556230.0\n",
       "NCR           5290013.0  2562237.0\n",
       "Region I      2890761.0  1188084.0\n",
       "Region II     1990160.0   714056.0\n",
       "Region III    5943566.0  2198448.0\n",
       "Region IV-A   7144104.0  2617620.0\n",
       "Region IV-B   2113465.0   731632.0\n",
       "Region IX     2599664.0   768795.0\n",
       "Region V      4449709.0  1573273.0\n",
       "Region VI     4717524.0  1801659.0\n",
       "Region VII    4662833.0  1243114.0\n",
       "Region VIII   3170547.0  1160617.0\n",
       "Region X      3024386.0   830584.0\n",
       "Region XI     3077962.0   983021.0\n",
       "Region XII    2891471.0   849802.0"
      ]
     },
     "execution_count": 25,
     "metadata": {},
     "output_type": "execute_result"
    }
   ],
   "source": [
    "df = pd.DataFrame({'Elementary':e, 'Secondary':s}, index=r)\n",
    "df"
   ]
  },
  {
   "cell_type": "code",
   "execution_count": 26,
   "metadata": {
    "ExecuteTime": {
     "end_time": "2017-09-17T10:24:49.832286Z",
     "start_time": "2017-09-17T10:24:48.584161Z"
    }
   },
   "outputs": [
    {
     "data": {
      "image/png": "[encoded data removed]",
      "text/plain": [
       "<matplotlib.figure.Figure at 0x7f02e1431510>"
      ]
     },
     "metadata": {},
     "output_type": "display_data"
    }
   ],
   "source": [
    "#plot\n",
    "ax=plt.subplot()\n",
    "#divide by 1e6\n",
    "df2 = df.apply(lambda x: x/1e6)\n",
    "\n",
    "df2.plot.bar(ax=ax)\n",
    "#set labels\n",
    "ax.set_ylabel('Count (in Million)')\n",
    "ax.set_xticklabels(ax.xaxis.get_majorticklabels(), rotation=45)\n",
    "ax.set_title('Enrolment rate per region')\n",
    "plt.show()"
   ]
  },
  {
   "cell_type": "code",
   "execution_count": 27,
   "metadata": {
    "ExecuteTime": {
     "end_time": "2017-09-17T10:24:50.910716Z",
     "start_time": "2017-09-17T10:24:49.841263Z"
    }
   },
   "outputs": [
    {
     "data": {
      "text/plain": [
       "<matplotlib.axes._subplots.AxesSubplot at 0x7f02e76ef050>"
      ]
     },
     "execution_count": 27,
     "metadata": {},
     "output_type": "execute_result"
    },
    {
     "data": {
      "image/png": "[encoded data removed]",
      "text/plain": [
       "<matplotlib.figure.Figure at 0x7f02e76d9a50>"
      ]
     },
     "metadata": {},
     "output_type": "display_data"
    }
   ],
   "source": [
    "#sort\n",
    "df2.sort_values(by='Elementary').plot.bar()"
   ]
  },
  {
   "cell_type": "code",
   "execution_count": null,
   "metadata": {
    "collapsed": true
   },
   "outputs": [],
   "source": []
  }
 ],
 "metadata": {
  "anaconda-cloud": {},
  "kernelspec": {
   "display_name": "Python 2",
   "language": "python",
   "name": "python2"
  },
  "language_info": {
   "codemirror_mode": {
    "name": "ipython",
    "version": 2
   },
   "file_extension": ".py",
   "mimetype": "text/x-python",
   "name": "python",
   "nbconvert_exporter": "python",
   "pygments_lexer": "ipython2",
   "version": "2.7.13"
  }
 },
 "nbformat": 4,
 "nbformat_minor": 1
}
