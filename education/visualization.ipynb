{
 "cells": [
  {
   "cell_type": "markdown",
   "metadata": {},
   "source": [
    "## Philippine education data visualization\n",
    "\n",
    "* python-readable data is available from [google drive](https://drive.google.com/drive/folders/0B51bsxa_NT6KLUFTcHRHNVZ0MEk)\n",
    "* check if figures from tjpalanca's [article](http://www.tjpalanca.com/2014/04/data-primer-education.html) can be reproduced\n",
    "* add new/alternative plots"
   ]
  },
  {
   "cell_type": "code",
   "execution_count": 1,
   "metadata": {
    "ExecuteTime": {
     "end_time": "2017-09-03T08:29:57.842761Z",
     "start_time": "2017-09-03T08:29:57.728937Z"
    }
   },
   "outputs": [
    {
     "name": "stdout",
     "output_type": "stream",
     "text": [
      "Python 2.7.13 :: Continuum Analytics, Inc.\r\n"
     ]
    }
   ],
   "source": [
    "!python --version"
   ]
  },
  {
   "cell_type": "code",
   "execution_count": 2,
   "metadata": {
    "ExecuteTime": {
     "end_time": "2017-09-03T08:29:58.187587Z",
     "start_time": "2017-09-03T08:29:58.169897Z"
    }
   },
   "outputs": [
    {
     "data": {
      "text/plain": [
       "'astroconda'"
      ]
     },
     "execution_count": 2,
     "metadata": {},
     "output_type": "execute_result"
    }
   ],
   "source": [
    "import os\n",
    "os.environ['CONDA_DEFAULT_ENV']"
   ]
  },
  {
   "cell_type": "code",
   "execution_count": 3,
   "metadata": {
    "ExecuteTime": {
     "end_time": "2017-09-03T08:29:58.491218Z",
     "start_time": "2017-09-03T08:29:58.484341Z"
    },
    "collapsed": true
   },
   "outputs": [],
   "source": [
    "from getpass import getuser\n",
    "\n",
    "data_dir=os.path.join('/home',getuser(),'github/opendataph/education')"
   ]
  },
  {
   "cell_type": "code",
   "execution_count": 4,
   "metadata": {
    "ExecuteTime": {
     "end_time": "2017-09-03T08:30:04.132748Z",
     "start_time": "2017-09-03T08:30:02.230878Z"
    }
   },
   "outputs": [
    {
     "name": "stderr",
     "output_type": "stream",
     "text": [
      "/home/jp/miniconda2/envs/astroconda/lib/python2.7/site-packages/numpy/lib/arraysetops.py:463: FutureWarning: elementwise comparison failed; returning scalar instead, but in the future will perform elementwise comparison\n",
      "  mask |= (ar1 == a)\n"
     ]
    }
   ],
   "source": [
    "import pandas as pd\n",
    "\n",
    "enrolment=pd.read_csv(os.path.join(data_dir,'enrolment.csv'), index_col=0)"
   ]
  },
  {
   "cell_type": "code",
   "execution_count": 5,
   "metadata": {
    "ExecuteTime": {
     "end_time": "2017-09-03T08:30:04.745764Z",
     "start_time": "2017-09-03T08:30:04.717150Z"
    }
   },
   "outputs": [
    {
     "data": {
      "text/html": [
       "<div>\n",
       "<style>\n",
       "    .dataframe thead tr:only-child th {\n",
       "        text-align: right;\n",
       "    }\n",
       "\n",
       "    .dataframe thead th {\n",
       "        text-align: left;\n",
       "    }\n",
       "\n",
       "    .dataframe tbody tr th {\n",
       "        vertical-align: top;\n",
       "    }\n",
       "</style>\n",
       "<table border=\"1\" class=\"dataframe\">\n",
       "  <thead>\n",
       "    <tr style=\"text-align: right;\">\n",
       "      <th></th>\n",
       "      <th>school.id</th>\n",
       "      <th>year</th>\n",
       "      <th>enrollment</th>\n",
       "      <th>grade</th>\n",
       "      <th>gender</th>\n",
       "      <th>national.cohort</th>\n",
       "      <th>school.cohort</th>\n",
       "    </tr>\n",
       "  </thead>\n",
       "  <tbody>\n",
       "    <tr>\n",
       "      <th>1</th>\n",
       "      <td>101746</td>\n",
       "      <td>2012</td>\n",
       "      <td>52</td>\n",
       "      <td>Kinder</td>\n",
       "      <td>Male</td>\n",
       "      <td>7</td>\n",
       "      <td>1752.0</td>\n",
       "    </tr>\n",
       "    <tr>\n",
       "      <th>2</th>\n",
       "      <td>102193</td>\n",
       "      <td>2012</td>\n",
       "      <td>25</td>\n",
       "      <td>Kinder</td>\n",
       "      <td>Male</td>\n",
       "      <td>7</td>\n",
       "      <td>2199.0</td>\n",
       "    </tr>\n",
       "    <tr>\n",
       "      <th>3</th>\n",
       "      <td>101283</td>\n",
       "      <td>2012</td>\n",
       "      <td>14</td>\n",
       "      <td>Kinder</td>\n",
       "      <td>Male</td>\n",
       "      <td>7</td>\n",
       "      <td>1289.0</td>\n",
       "    </tr>\n",
       "    <tr>\n",
       "      <th>4</th>\n",
       "      <td>100216</td>\n",
       "      <td>2012</td>\n",
       "      <td>15</td>\n",
       "      <td>Kinder</td>\n",
       "      <td>Male</td>\n",
       "      <td>7</td>\n",
       "      <td>222.0</td>\n",
       "    </tr>\n",
       "    <tr>\n",
       "      <th>5</th>\n",
       "      <td>100043</td>\n",
       "      <td>2012</td>\n",
       "      <td>10</td>\n",
       "      <td>Kinder</td>\n",
       "      <td>Male</td>\n",
       "      <td>7</td>\n",
       "      <td>49.0</td>\n",
       "    </tr>\n",
       "  </tbody>\n",
       "</table>\n",
       "</div>"
      ],
      "text/plain": [
       "   school.id  year  enrollment   grade gender  national.cohort  school.cohort\n",
       "1     101746  2012          52  Kinder   Male                7         1752.0\n",
       "2     102193  2012          25  Kinder   Male                7         2199.0\n",
       "3     101283  2012          14  Kinder   Male                7         1289.0\n",
       "4     100216  2012          15  Kinder   Male                7          222.0\n",
       "5     100043  2012          10  Kinder   Male                7           49.0"
      ]
     },
     "execution_count": 5,
     "metadata": {},
     "output_type": "execute_result"
    }
   ],
   "source": [
    "enrolment.head()"
   ]
  },
  {
   "cell_type": "code",
   "execution_count": 6,
   "metadata": {
    "ExecuteTime": {
     "end_time": "2017-09-03T08:30:06.556166Z",
     "start_time": "2017-09-03T08:30:06.517862Z"
    }
   },
   "outputs": [
    {
     "data": {
      "text/plain": [
       "2014    604958\n",
       "2015    604880\n",
       "2013    603218\n",
       "2012    598758\n",
       "Name: year, dtype: int64"
      ]
     },
     "execution_count": 6,
     "metadata": {},
     "output_type": "execute_result"
    }
   ],
   "source": [
    "enrolment['year'].value_counts() #(by='year')"
   ]
  },
  {
   "cell_type": "markdown",
   "metadata": {
    "ExecuteTime": {
     "end_time": "2017-09-03T07:48:21.117323Z",
     "start_time": "2017-09-03T07:48:21.111623Z"
    }
   },
   "source": [
    "## enrolment per year"
   ]
  },
  {
   "cell_type": "code",
   "execution_count": 7,
   "metadata": {
    "ExecuteTime": {
     "end_time": "2017-09-03T08:30:07.714072Z",
     "start_time": "2017-09-03T08:30:07.386809Z"
    }
   },
   "outputs": [
    {
     "data": {
      "text/plain": [
       "year\n",
       "2012    598758\n",
       "2013    603218\n",
       "2014    604958\n",
       "2015    604880\n",
       "Name: enrollment, dtype: int64"
      ]
     },
     "execution_count": 7,
     "metadata": {},
     "output_type": "execute_result"
    }
   ],
   "source": [
    "#alternatively\n",
    "enrolment.groupby(by='year').count()['enrollment']"
   ]
  },
  {
   "cell_type": "code",
   "execution_count": 8,
   "metadata": {
    "ExecuteTime": {
     "end_time": "2017-09-03T08:30:08.529542Z",
     "start_time": "2017-09-03T08:30:07.797211Z"
    }
   },
   "outputs": [
    {
     "data": {
      "text/plain": [
       "<matplotlib.text.Text at 0x7f40b8911550>"
      ]
     },
     "execution_count": 8,
     "metadata": {},
     "output_type": "execute_result"
    },
    {
     "data": {
      "image/png": "[encoded data removed]",
      "text/plain": [
       "<matplotlib.figure.Figure at 0x7f40b8c07510>"
      ]
     },
     "metadata": {},
     "output_type": "display_data"
    }
   ],
   "source": [
    "import matplotlib.pyplot as plt\n",
    "#%matplotlib notebook\n",
    "%matplotlib inline\n",
    "\n",
    "ax=enrolment.groupby(by='year').count()['enrollment'].plot()\n",
    "ax.set_ylabel('Total enrollment')"
   ]
  },
  {
   "cell_type": "code",
   "execution_count": 9,
   "metadata": {
    "ExecuteTime": {
     "end_time": "2017-09-03T08:30:08.701210Z",
     "start_time": "2017-09-03T08:30:08.535108Z"
    }
   },
   "outputs": [
    {
     "name": "stdout",
     "output_type": "stream",
     "text": [
      "2012: (598758, 7)\n",
      "2013: (603218, 7)\n",
      "2014: (604958, 7)\n",
      "2015: (604880, 7)\n"
     ]
    }
   ],
   "source": [
    "for (year,year_group) in enrolment.groupby(by='year'):\n",
    "    #0: year, 1: dataframe group\n",
    "    print('{0}: {1}'.format(year,year_group.shape))"
   ]
  },
  {
   "cell_type": "code",
   "execution_count": 10,
   "metadata": {
    "ExecuteTime": {
     "end_time": "2017-09-03T08:30:09.342467Z",
     "start_time": "2017-09-03T08:30:08.782615Z"
    }
   },
   "outputs": [
    {
     "name": "stdout",
     "output_type": "stream",
     "text": [
      "2012\n",
      "Male      299379\n",
      "Female    299379\n",
      "Name: gender, dtype: int64\n",
      "\n",
      "2013\n",
      "Male      301609\n",
      "Female    301609\n",
      "Name: gender, dtype: int64\n",
      "\n",
      "2014\n",
      "Male      302479\n",
      "Female    302479\n",
      "Name: gender, dtype: int64\n",
      "\n",
      "2015\n",
      "Male      302440\n",
      "Female    302440\n",
      "Name: gender, dtype: int64\n",
      "\n"
     ]
    }
   ],
   "source": [
    "#male-female distribution per year\n",
    "for (year,year_group) in enrolment.groupby(by='year'):\n",
    "    #0: year, 1: dataframe group\n",
    "    print('{0}\\n{1}\\n'.format(year,\n",
    "                            year_group['gender'].value_counts()))"
   ]
  },
  {
   "cell_type": "code",
   "execution_count": 11,
   "metadata": {
    "ExecuteTime": {
     "end_time": "2017-09-03T08:30:09.366436Z",
     "start_time": "2017-09-03T08:30:09.345268Z"
    }
   },
   "outputs": [
    {
     "data": {
      "text/html": [
       "<div>\n",
       "<style>\n",
       "    .dataframe thead tr:only-child th {\n",
       "        text-align: right;\n",
       "    }\n",
       "\n",
       "    .dataframe thead th {\n",
       "        text-align: left;\n",
       "    }\n",
       "\n",
       "    .dataframe tbody tr th {\n",
       "        vertical-align: top;\n",
       "    }\n",
       "</style>\n",
       "<table border=\"1\" class=\"dataframe\">\n",
       "  <thead>\n",
       "    <tr style=\"text-align: right;\">\n",
       "      <th></th>\n",
       "      <th>school.id</th>\n",
       "      <th>year</th>\n",
       "      <th>enrollment</th>\n",
       "      <th>grade</th>\n",
       "      <th>gender</th>\n",
       "      <th>national.cohort</th>\n",
       "      <th>school.cohort</th>\n",
       "    </tr>\n",
       "  </thead>\n",
       "  <tbody>\n",
       "    <tr>\n",
       "      <th>115850</th>\n",
       "      <td>100001</td>\n",
       "      <td>2015</td>\n",
       "      <td>9</td>\n",
       "      <td>Kinder</td>\n",
       "      <td>Male</td>\n",
       "      <td>10</td>\n",
       "      <td>10.0</td>\n",
       "    </tr>\n",
       "    <tr>\n",
       "      <th>115851</th>\n",
       "      <td>100002</td>\n",
       "      <td>2015</td>\n",
       "      <td>41</td>\n",
       "      <td>Kinder</td>\n",
       "      <td>Male</td>\n",
       "      <td>10</td>\n",
       "      <td>11.0</td>\n",
       "    </tr>\n",
       "    <tr>\n",
       "      <th>115852</th>\n",
       "      <td>100003</td>\n",
       "      <td>2015</td>\n",
       "      <td>8</td>\n",
       "      <td>Kinder</td>\n",
       "      <td>Male</td>\n",
       "      <td>10</td>\n",
       "      <td>12.0</td>\n",
       "    </tr>\n",
       "    <tr>\n",
       "      <th>115853</th>\n",
       "      <td>100004</td>\n",
       "      <td>2015</td>\n",
       "      <td>8</td>\n",
       "      <td>Kinder</td>\n",
       "      <td>Male</td>\n",
       "      <td>10</td>\n",
       "      <td>13.0</td>\n",
       "    </tr>\n",
       "    <tr>\n",
       "      <th>115854</th>\n",
       "      <td>100005</td>\n",
       "      <td>2015</td>\n",
       "      <td>4</td>\n",
       "      <td>Kinder</td>\n",
       "      <td>Male</td>\n",
       "      <td>10</td>\n",
       "      <td>14.0</td>\n",
       "    </tr>\n",
       "  </tbody>\n",
       "</table>\n",
       "</div>"
      ],
      "text/plain": [
       "        school.id  year  enrollment   grade gender  national.cohort  \\\n",
       "115850     100001  2015           9  Kinder   Male               10   \n",
       "115851     100002  2015          41  Kinder   Male               10   \n",
       "115852     100003  2015           8  Kinder   Male               10   \n",
       "115853     100004  2015           8  Kinder   Male               10   \n",
       "115854     100005  2015           4  Kinder   Male               10   \n",
       "\n",
       "        school.cohort  \n",
       "115850           10.0  \n",
       "115851           11.0  \n",
       "115852           12.0  \n",
       "115853           13.0  \n",
       "115854           14.0  "
      ]
     },
     "execution_count": 11,
     "metadata": {},
     "output_type": "execute_result"
    }
   ],
   "source": [
    "#2015\n",
    "year_group.head()"
   ]
  },
  {
   "cell_type": "code",
   "execution_count": 12,
   "metadata": {
    "ExecuteTime": {
     "end_time": "2017-09-03T08:30:09.539932Z",
     "start_time": "2017-09-03T08:30:09.435450Z"
    }
   },
   "outputs": [
    {
     "data": {
      "text/plain": [
       "Male      302440\n",
       "Female    302440\n",
       "Name: gender, dtype: int64"
      ]
     },
     "execution_count": 12,
     "metadata": {},
     "output_type": "execute_result"
    }
   ],
   "source": [
    "year_group['gender'].value_counts()"
   ]
  },
  {
   "cell_type": "code",
   "execution_count": 13,
   "metadata": {
    "ExecuteTime": {
     "end_time": "2017-09-03T08:30:09.884973Z",
     "start_time": "2017-09-03T08:30:09.761180Z"
    }
   },
   "outputs": [
    {
     "ename": "NameError",
     "evalue": "name 'grade_group' is not defined",
     "output_type": "error",
     "traceback": [
      "\u001b[0;31m---------------------------------------------------------------------------\u001b[0m",
      "\u001b[0;31mNameError\u001b[0m                                 Traceback (most recent call last)",
      "\u001b[0;32m<ipython-input-13-7720bba9e4cc>\u001b[0m in \u001b[0;36m<module>\u001b[0;34m()\u001b[0m\n\u001b[0;32m----> 1\u001b[0;31m \u001b[0mgrade_group\u001b[0m\u001b[0;34m[\u001b[0m\u001b[0;34m'grade'\u001b[0m\u001b[0;34m]\u001b[0m\u001b[0;34m.\u001b[0m\u001b[0mvalue_counts\u001b[0m\u001b[0;34m(\u001b[0m\u001b[0;34m)\u001b[0m\u001b[0;34m\u001b[0m\u001b[0m\n\u001b[0m",
      "\u001b[0;31mNameError\u001b[0m: name 'grade_group' is not defined"
     ]
    }
   ],
   "source": [
    "grade_group['grade'].value_counts()"
   ]
  },
  {
   "cell_type": "code",
   "execution_count": 14,
   "metadata": {
    "ExecuteTime": {
     "end_time": "2017-09-03T08:30:10.222158Z",
     "start_time": "2017-09-03T08:30:10.047329Z"
    }
   },
   "outputs": [
    {
     "name": "stdout",
     "output_type": "stream",
     "text": [
      "Grade 1\n",
      "Female    38648\n",
      "Male      38648\n",
      "Name: gender, dtype: int64\n",
      "\n",
      "Grade 2\n",
      "Female    38648\n",
      "Male      38648\n",
      "Name: gender, dtype: int64\n",
      "\n",
      "Grade 3\n",
      "Female    38648\n",
      "Male      38648\n",
      "Name: gender, dtype: int64\n",
      "\n",
      "Grade 4\n",
      "Female    38648\n",
      "Male      38648\n",
      "Name: gender, dtype: int64\n",
      "\n",
      "Grade 5\n",
      "Female    38648\n",
      "Male      38648\n",
      "Name: gender, dtype: int64\n",
      "\n",
      "Grade 6\n",
      "Female    38648\n",
      "Male      38648\n",
      "Name: gender, dtype: int64\n",
      "\n",
      "Kinder\n",
      "Female    38648\n",
      "Male      38648\n",
      "Name: gender, dtype: int64\n",
      "\n",
      "Year 1 / Grade 7\n",
      "Female    7976\n",
      "Male      7976\n",
      "Name: gender, dtype: int64\n",
      "\n",
      "Year 2 / Grade 8\n",
      "Female    7976\n",
      "Male      7976\n",
      "Name: gender, dtype: int64\n",
      "\n",
      "Year 3 / Grade 9\n",
      "Female    7976\n",
      "Male      7976\n",
      "Name: gender, dtype: int64\n",
      "\n",
      "Year 4 / Grade 10\n",
      "Female    7976\n",
      "Male      7976\n",
      "Name: gender, dtype: int64\n",
      "\n"
     ]
    }
   ],
   "source": [
    "for (grade,grade_group) in year_group.groupby('grade'):\n",
    "    print('{0}\\n{1}\\n'.format(grade,\n",
    "                    grade_group['gender'].value_counts()))"
   ]
  },
  {
   "cell_type": "code",
   "execution_count": 15,
   "metadata": {
    "ExecuteTime": {
     "end_time": "2017-09-03T08:30:10.817663Z",
     "start_time": "2017-09-03T08:30:10.401589Z"
    }
   },
   "outputs": [
    {
     "data": {
      "text/plain": [
       "<matplotlib.axes._subplots.AxesSubplot at 0x7f40b2b0d5d0>"
      ]
     },
     "execution_count": 15,
     "metadata": {},
     "output_type": "execute_result"
    },
    {
     "data": {
      "image/png": "[encoded data removed]",
      "text/plain": [
       "<matplotlib.figure.Figure at 0x7f40b88b2810>"
      ]
     },
     "metadata": {},
     "output_type": "display_data"
    }
   ],
   "source": [
    "grade_group['enrollment'].plot()"
   ]
  },
  {
   "cell_type": "code",
   "execution_count": null,
   "metadata": {
    "collapsed": true
   },
   "outputs": [],
   "source": []
  }
 ],
 "metadata": {
  "kernelspec": {
   "display_name": "Python 2",
   "language": "python",
   "name": "python2"
  },
  "language_info": {
   "codemirror_mode": {
    "name": "ipython",
    "version": 2
   },
   "file_extension": ".py",
   "mimetype": "text/x-python",
   "name": "python",
   "nbconvert_exporter": "python",
   "pygments_lexer": "ipython2",
   "version": "2.7.13"
  }
 },
 "nbformat": 4,
 "nbformat_minor": 2
}
