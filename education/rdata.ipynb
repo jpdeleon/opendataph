{
 "cells": [
  {
   "cell_type": "markdown",
   "metadata": {
    "ExecuteTime": {
     "end_time": "2017-09-03T06:34:32.652328Z",
     "start_time": "2017-09-03T06:34:32.211Z"
    }
   },
   "source": [
    "# Convert rdata into python-readable format\n",
    "\n",
    "In our Philippine education data visualization project, we will use the curated data by [`tjpalanca`](https://github.com/tjpalanca/education-analytics/tree/master/Data). The following will be converted from .rdata format into a python-readable format:\n",
    "\n",
    "* D1 - Enrollment Data.RData\n",
    "* D2 - Schools Data.RData\n",
    "* D3 - CityMuni Data.RData\n",
    "* D4 - Schools Data Expanded.RData\n",
    "* D5 - Capacity Data.RData\n",
    "* D6 - Capacity Clustering.RData\n",
    "* D7 - Cluster Profiles.RData\n",
    "\n",
    "All credits reserved to `tjpalanca` as mentioned in his [article](http://www.tjpalanca.com/2014/04/data-primer-education.html)."
   ]
  },
  {
   "cell_type": "code",
   "execution_count": 6,
   "metadata": {
    "ExecuteTime": {
     "end_time": "2017-09-03T06:43:06.719331Z",
     "start_time": "2017-09-03T06:43:06.685Z"
    }
   },
   "outputs": [
    {
     "data": {
      "text/plain": [
       "[1] ‘3.4.1’"
      ]
     },
     "metadata": {},
     "output_type": "display_data"
    }
   ],
   "source": [
    "package_version(R.version)"
   ]
  },
  {
   "cell_type": "code",
   "execution_count": 2,
   "metadata": {
    "ExecuteTime": {
     "end_time": "2017-09-03T06:41:25.622848Z",
     "start_time": "2017-09-03T06:41:25.516Z"
    }
   },
   "outputs": [
    {
     "data": {
      "text/plain": [
       "R version 3.4.1 (2017-06-30)\n",
       "Platform: x86_64-pc-linux-gnu (64-bit)\n",
       "Running under: Ubuntu 16.04.3 LTS\n",
       "\n",
       "Matrix products: default\n",
       "BLAS: /home/jp/miniconda2/envs/R/lib/R/lib/libRblas.so\n",
       "LAPACK: /home/jp/miniconda2/envs/R/lib/R/lib/libRlapack.so\n",
       "\n",
       "locale:\n",
       " [1] LC_CTYPE=en_US.UTF-8       LC_NUMERIC=C              \n",
       " [3] LC_TIME=en_CA.UTF-8        LC_COLLATE=en_US.UTF-8    \n",
       " [5] LC_MONETARY=en_CA.UTF-8    LC_MESSAGES=en_US.UTF-8   \n",
       " [7] LC_PAPER=en_CA.UTF-8       LC_NAME=C                 \n",
       " [9] LC_ADDRESS=C               LC_TELEPHONE=C            \n",
       "[11] LC_MEASUREMENT=en_CA.UTF-8 LC_IDENTIFICATION=C       \n",
       "\n",
       "attached base packages:\n",
       "[1] stats     graphics  grDevices utils     datasets  methods   base     \n",
       "\n",
       "loaded via a namespace (and not attached):\n",
       " [1] compiler_3.4.1  R6_2.2.1        magrittr_1.5    IRdisplay_0.4.4\n",
       " [5] pbdZMQ_0.2-6    tools_3.4.1     crayon_1.3.2    uuid_0.1-2     \n",
       " [9] stringi_1.1.5   IRkernel_0.7.1  jsonlite_1.5    stringr_1.2.0  \n",
       "[13] digest_0.6.12   repr_0.10       evaluate_0.10  "
      ]
     },
     "metadata": {},
     "output_type": "display_data"
    }
   ],
   "source": [
    "sessionInfo()"
   ]
  },
  {
   "cell_type": "code",
   "execution_count": 8,
   "metadata": {
    "ExecuteTime": {
     "end_time": "2017-09-03T06:43:26.652737Z",
     "start_time": "2017-09-03T06:43:26.615Z"
    }
   },
   "outputs": [
    {
     "data": {
      "text/plain": [
       "[1] ‘3.4.1’"
      ]
     },
     "metadata": {},
     "output_type": "display_data"
    }
   ],
   "source": [
    "packageVersion(\"stats\")"
   ]
  },
  {
   "cell_type": "raw",
   "metadata": {
    "ExecuteTime": {
     "end_time": "2017-09-03T06:46:58.639552Z",
     "start_time": "2017-09-03T06:46:58.598Z"
    }
   },
   "source": [
    "enrolment <- readRDS(\"education-analytics/Data/D1 - Enrollment Data.RData\")"
   ]
  },
  {
   "cell_type": "code",
   "execution_count": 17,
   "metadata": {
    "ExecuteTime": {
     "end_time": "2017-09-03T06:48:49.270248Z",
     "start_time": "2017-09-03T06:48:48.587Z"
    },
    "collapsed": true
   },
   "outputs": [],
   "source": [
    "#d1\n",
    "enrolment <- load('education-analytics/Data/D1 - Enrollment Data.RData')"
   ]
  },
  {
   "cell_type": "code",
   "execution_count": 19,
   "metadata": {
    "ExecuteTime": {
     "end_time": "2017-09-03T06:50:23.749050Z",
     "start_time": "2017-09-03T06:50:23.695Z"
    }
   },
   "outputs": [
    {
     "data": {
      "text/html": [
       "<ol class=list-inline>\n",
       "\t<li>'enrolment'</li>\n",
       "\t<li>'enrolment.dt'</li>\n",
       "</ol>\n"
      ],
      "text/latex": [
       "\\begin{enumerate*}\n",
       "\\item 'enrolment'\n",
       "\\item 'enrolment.dt'\n",
       "\\end{enumerate*}\n"
      ],
      "text/markdown": [
       "1. 'enrolment'\n",
       "2. 'enrolment.dt'\n",
       "\n",
       "\n"
      ],
      "text/plain": [
       "[1] \"enrolment\"    \"enrolment.dt\""
      ]
     },
     "metadata": {},
     "output_type": "display_data"
    }
   ],
   "source": [
    "ls()"
   ]
  },
  {
   "cell_type": "code",
   "execution_count": 20,
   "metadata": {
    "ExecuteTime": {
     "end_time": "2017-09-03T06:50:38.225598Z",
     "start_time": "2017-09-03T06:50:38.190Z"
    }
   },
   "outputs": [
    {
     "data": {
      "text/html": [
       "<ol class=list-inline>\n",
       "\t<li>'.Random.seed'</li>\n",
       "\t<li>'enrolment.dt'</li>\n",
       "</ol>\n"
      ],
      "text/latex": [
       "\\begin{enumerate*}\n",
       "\\item '.Random.seed'\n",
       "\\item 'enrolment.dt'\n",
       "\\end{enumerate*}\n"
      ],
      "text/markdown": [
       "1. '.Random.seed'\n",
       "2. 'enrolment.dt'\n",
       "\n",
       "\n"
      ],
      "text/plain": [
       "[1] \".Random.seed\" \"enrolment.dt\""
      ]
     },
     "metadata": {},
     "output_type": "display_data"
    }
   ],
   "source": [
    "enrolment"
   ]
  },
  {
   "cell_type": "code",
   "execution_count": 24,
   "metadata": {
    "ExecuteTime": {
     "end_time": "2017-09-03T06:57:34.021226Z",
     "start_time": "2017-09-03T06:57:33.962Z"
    }
   },
   "outputs": [
    {
     "data": {
      "text/html": [
       "<table>\n",
       "<thead><tr><th scope=col>school.id</th><th scope=col>year</th><th scope=col>enrollment</th><th scope=col>grade</th><th scope=col>gender</th><th scope=col>national.cohort</th><th scope=col>school.cohort</th></tr></thead>\n",
       "<tbody>\n",
       "\t<tr><td>101746</td><td>2012  </td><td>52    </td><td>Kinder</td><td>Male  </td><td>7     </td><td>1752  </td></tr>\n",
       "\t<tr><td>102193</td><td>2012  </td><td>25    </td><td>Kinder</td><td>Male  </td><td>7     </td><td>2199  </td></tr>\n",
       "\t<tr><td>101283</td><td>2012  </td><td>14    </td><td>Kinder</td><td>Male  </td><td>7     </td><td>1289  </td></tr>\n",
       "\t<tr><td>100216</td><td>2012  </td><td>15    </td><td>Kinder</td><td>Male  </td><td>7     </td><td> 222  </td></tr>\n",
       "\t<tr><td>100043</td><td>2012  </td><td>10    </td><td>Kinder</td><td>Male  </td><td>7     </td><td>  49  </td></tr>\n",
       "\t<tr><td>100554</td><td>2012  </td><td> 2    </td><td>Kinder</td><td>Male  </td><td>7     </td><td> 560  </td></tr>\n",
       "</tbody>\n",
       "</table>\n"
      ],
      "text/latex": [
       "\\begin{tabular}{r|lllllll}\n",
       " school.id & year & enrollment & grade & gender & national.cohort & school.cohort\\\\\n",
       "\\hline\n",
       "\t 101746 & 2012   & 52     & Kinder & Male   & 7      & 1752  \\\\\n",
       "\t 102193 & 2012   & 25     & Kinder & Male   & 7      & 2199  \\\\\n",
       "\t 101283 & 2012   & 14     & Kinder & Male   & 7      & 1289  \\\\\n",
       "\t 100216 & 2012   & 15     & Kinder & Male   & 7      &  222  \\\\\n",
       "\t 100043 & 2012   & 10     & Kinder & Male   & 7      &   49  \\\\\n",
       "\t 100554 & 2012   &  2     & Kinder & Male   & 7      &  560  \\\\\n",
       "\\end{tabular}\n"
      ],
      "text/markdown": [
       "\n",
       "school.id | year | enrollment | grade | gender | national.cohort | school.cohort | \n",
       "|---|---|---|---|---|---|\n",
       "| 101746 | 2012   | 52     | Kinder | Male   | 7      | 1752   | \n",
       "| 102193 | 2012   | 25     | Kinder | Male   | 7      | 2199   | \n",
       "| 101283 | 2012   | 14     | Kinder | Male   | 7      | 1289   | \n",
       "| 100216 | 2012   | 15     | Kinder | Male   | 7      |  222   | \n",
       "| 100043 | 2012   | 10     | Kinder | Male   | 7      |   49   | \n",
       "| 100554 | 2012   |  2     | Kinder | Male   | 7      |  560   | \n",
       "\n",
       "\n"
      ],
      "text/plain": [
       "  school.id year enrollment grade  gender national.cohort school.cohort\n",
       "1 101746    2012 52         Kinder Male   7               1752         \n",
       "2 102193    2012 25         Kinder Male   7               2199         \n",
       "3 101283    2012 14         Kinder Male   7               1289         \n",
       "4 100216    2012 15         Kinder Male   7                222         \n",
       "5 100043    2012 10         Kinder Male   7                 49         \n",
       "6 100554    2012  2         Kinder Male   7                560         "
      ]
     },
     "metadata": {},
     "output_type": "display_data"
    }
   ],
   "source": [
    "head(enrolment.dt)"
   ]
  },
  {
   "cell_type": "code",
   "execution_count": 26,
   "metadata": {
    "ExecuteTime": {
     "end_time": "2017-09-03T06:58:00.035394Z",
     "start_time": "2017-09-03T06:58:00.005Z"
    }
   },
   "outputs": [
    {
     "data": {
      "text/html": [
       "<ol class=list-inline>\n",
       "\t<li>2411814</li>\n",
       "\t<li>7</li>\n",
       "</ol>\n"
      ],
      "text/latex": [
       "\\begin{enumerate*}\n",
       "\\item 2411814\n",
       "\\item 7\n",
       "\\end{enumerate*}\n"
      ],
      "text/markdown": [
       "1. 2411814\n",
       "2. 7\n",
       "\n",
       "\n"
      ],
      "text/plain": [
       "[1] 2411814       7"
      ]
     },
     "metadata": {},
     "output_type": "display_data"
    }
   ],
   "source": [
    "dim(enrolment.dt)"
   ]
  },
  {
   "cell_type": "code",
   "execution_count": 22,
   "metadata": {
    "ExecuteTime": {
     "end_time": "2017-09-03T06:52:39.008973Z",
     "start_time": "2017-09-03T06:52:23.022Z"
    },
    "collapsed": true
   },
   "outputs": [],
   "source": [
    "write.csv(enrolment.dt,file='enrolment.csv')"
   ]
  },
  {
   "cell_type": "code",
   "execution_count": 28,
   "metadata": {
    "ExecuteTime": {
     "end_time": "2017-09-03T07:04:13.129748Z",
     "start_time": "2017-09-03T07:04:12.442Z"
    },
    "collapsed": true
   },
   "outputs": [],
   "source": [
    "#d2\n",
    "school <- load('education-analytics/Data/D2 - Schools Data.RData')"
   ]
  },
  {
   "cell_type": "code",
   "execution_count": 29,
   "metadata": {
    "ExecuteTime": {
     "end_time": "2017-09-03T07:04:19.654443Z",
     "start_time": "2017-09-03T07:04:19.594Z"
    }
   },
   "outputs": [
    {
     "data": {
      "text/html": [
       "<table>\n",
       "<thead><tr><th scope=col>school.id</th><th scope=col>school.name</th><th scope=col>school.region</th><th scope=col>school.region.name</th><th scope=col>school.province</th><th scope=col>school.cityhall</th><th scope=col>school.division</th><th scope=col>school.citymuni</th><th scope=col>school.district</th><th scope=col>school.legdistrict</th><th scope=col>⋯</th><th scope=col>school.established</th><th scope=col>school.classification</th><th scope=col>school.classification2</th><th scope=col>school.curricularclass</th><th scope=col>school.organization</th><th scope=col>school.cityincome</th><th scope=col>school.cityclass</th><th scope=col>school.urban</th><th scope=col>map.lat</th><th scope=col>map.lon</th></tr></thead>\n",
       "<tbody>\n",
       "\t<tr><td>101746                               </td><td>A. Diaz, Sr. ES                      </td><td>Region I                             </td><td>Ilocos Region                        </td><td>PANGASINAN                           </td><td>PANGASINAN                           </td><td>Pangasinan II, Binalonan             </td><td>BAUTISTA                             </td><td>Bautista                             </td><td>5th District                         </td><td>⋯                                    </td><td>10959                                </td><td>Elementary                           </td><td>DepED Managed                        </td><td>Elementary                           </td><td>Monograde                            </td><td>P 25 M or more but less than P 35 M  </td><td>NA                                   </td><td>Partially Urban                      </td><td>15.79912                             </td><td>120.4985                             </td></tr>\n",
       "\t<tr><td>102193                                                                   </td><td>A. P. Santos ES (SPED Center)                                            </td><td>Region I                                                                 </td><td>Ilocos Region                                                            </td><td>ILOCOS NORTE                                                             </td><td>ILOCOS NORTE                                                             </td><td><span style=white-space:pre-wrap>Laoag City              </span>         </td><td>LAOAG CITY (Capital)                                                     </td><td><span style=white-space:pre-wrap>Laoag City District II           </span></td><td>1st District                                                             </td><td>⋯                                                                        </td><td>16072                                                                    </td><td>Elementary                                                               </td><td>DepED Managed                                                            </td><td>Kinder &amp; Elementary                                                  </td><td><span style=white-space:pre-wrap>Monograde                        </span></td><td>P 240 M or more but less than P 320 M                                    </td><td>Component City                                                           </td><td>Partially Urban                                                          </td><td>18.19639                                                                 </td><td>120.5867                                                                 </td></tr>\n",
       "\t<tr><td>101283                               </td><td>A.P. Guevara IS                      </td><td>Region I                             </td><td>Ilocos Region                        </td><td>PANGASINAN                           </td><td>PANGASINAN                           </td><td>Pangasinan I, Lingayen               </td><td>BAYAMBANG                            </td><td>Bayambang II                         </td><td>3rd District                         </td><td>⋯                                    </td><td>16438                                </td><td>Elementary                           </td><td>DepED Managed                        </td><td>Elementary                           </td><td>Monograde                            </td><td>P 55 M or more                       </td><td>NA                                   </td><td>Partially Urban                      </td><td>15.78016                             </td><td>120.4605                             </td></tr>\n",
       "\t<tr><td>100216                               </td><td>Ab-Abut ES                           </td><td>Region I                             </td><td>Ilocos Region                        </td><td>ILOCOS NORTE                         </td><td>ILOCOS NORTE                         </td><td>Ilocos Norte                         </td><td>PIDDIG                               </td><td>Piddig                               </td><td>1st District                         </td><td>⋯                                    </td><td>23377                                </td><td>Elementary                           </td><td>DepED Managed                        </td><td>Elementary                           </td><td>Monograde                            </td><td>P 35 M or more but less than P 45 M  </td><td>NA                                   </td><td>Partially Urban                      </td><td>18.16887                             </td><td>120.6954                             </td></tr>\n",
       "\t<tr><td>100043                               </td><td>Abaca ES                             </td><td>Region I                             </td><td>Ilocos Region                        </td><td>ILOCOS NORTE                         </td><td>ILOCOS NORTE                         </td><td>Ilocos Norte                         </td><td>BANGUI                               </td><td>Bangui                               </td><td>1st District                         </td><td>⋯                                    </td><td>28856                                </td><td>Elementary                           </td><td>DepED Managed                        </td><td>Elementary                           </td><td>Monograde                            </td><td>P 25 M or more but less than P 35 M  </td><td>NA                                   </td><td>Partially Urban                      </td><td>18.53194                             </td><td>120.7559                             </td></tr>\n",
       "\t<tr><td>100554                                                                       </td><td><span style=white-space:pre-wrap>Abaccan ES                   </span>        </td><td>Region I                                                                     </td><td>Ilocos Region                                                                </td><td><span style=white-space:pre-wrap>ILOCOS SUR  </span>                         </td><td><span style=white-space:pre-wrap>ILOCOS SUR  </span>                         </td><td><span style=white-space:pre-wrap>Ilocos Sur              </span>             </td><td><span style=white-space:pre-wrap>SIGAY               </span>                 </td><td>Salcedo-Galimuyod-Sigay-Del Pilar                                            </td><td>2nd District                                                                 </td><td>⋯                                                                            </td><td>36526                                                                        </td><td>Elementary                                                                   </td><td>DepED Managed                                                                </td><td>Kinder &amp; Elementary                                                      </td><td>Combined Monograde and Multigrade                                            </td><td><span style=white-space:pre-wrap>P 15 M or more but less than P 25 M  </span></td><td><span style=white-space:pre-wrap>NA            </span>                       </td><td><span style=white-space:pre-wrap>Rural          </span>                      </td><td>17.02946                                                                     </td><td>120.5818                                                                     </td></tr>\n",
       "</tbody>\n",
       "</table>\n"
      ],
      "text/latex": [
       "\\begin{tabular}{r|lllllllllllllllllllllllllllllll}\n",
       " school.id & school.name & school.region & school.region.name & school.province & school.cityhall & school.division & school.citymuni & school.district & school.legdistrict & ⋯ & school.established & school.classification & school.classification2 & school.curricularclass & school.organization & school.cityincome & school.cityclass & school.urban & map.lat & map.lon\\\\\n",
       "\\hline\n",
       "\t 101746                                & A. Diaz, Sr. ES                       & Region I                              & Ilocos Region                         & PANGASINAN                            & PANGASINAN                            & Pangasinan II, Binalonan              & BAUTISTA                              & Bautista                              & 5th District                          & ⋯                                     & 10959                                 & Elementary                            & DepED Managed                         & Elementary                            & Monograde                             & P 25 M or more but less than P 35 M   & NA                                    & Partially Urban                       & 15.79912                              & 120.4985                             \\\\\n",
       "\t 102193                                & A. P. Santos ES (SPED Center)         & Region I                              & Ilocos Region                         & ILOCOS NORTE                          & ILOCOS NORTE                          & Laoag City                            & LAOAG CITY (Capital)                  & Laoag City District II                & 1st District                          & ⋯                                     & 16072                                 & Elementary                            & DepED Managed                         & Kinder \\& Elementary                 & Monograde                             & P 240 M or more but less than P 320 M & Component City                        & Partially Urban                       & 18.19639                              & 120.5867                             \\\\\n",
       "\t 101283                                & A.P. Guevara IS                       & Region I                              & Ilocos Region                         & PANGASINAN                            & PANGASINAN                            & Pangasinan I, Lingayen                & BAYAMBANG                             & Bayambang II                          & 3rd District                          & ⋯                                     & 16438                                 & Elementary                            & DepED Managed                         & Elementary                            & Monograde                             & P 55 M or more                        & NA                                    & Partially Urban                       & 15.78016                              & 120.4605                             \\\\\n",
       "\t 100216                                & Ab-Abut ES                            & Region I                              & Ilocos Region                         & ILOCOS NORTE                          & ILOCOS NORTE                          & Ilocos Norte                          & PIDDIG                                & Piddig                                & 1st District                          & ⋯                                     & 23377                                 & Elementary                            & DepED Managed                         & Elementary                            & Monograde                             & P 35 M or more but less than P 45 M   & NA                                    & Partially Urban                       & 18.16887                              & 120.6954                             \\\\\n",
       "\t 100043                                & Abaca ES                              & Region I                              & Ilocos Region                         & ILOCOS NORTE                          & ILOCOS NORTE                          & Ilocos Norte                          & BANGUI                                & Bangui                                & 1st District                          & ⋯                                     & 28856                                 & Elementary                            & DepED Managed                         & Elementary                            & Monograde                             & P 25 M or more but less than P 35 M   & NA                                    & Partially Urban                       & 18.53194                              & 120.7559                             \\\\\n",
       "\t 100554                                & Abaccan ES                            & Region I                              & Ilocos Region                         & ILOCOS SUR                            & ILOCOS SUR                            & Ilocos Sur                            & SIGAY                                 & Salcedo-Galimuyod-Sigay-Del Pilar     & 2nd District                          & ⋯                                     & 36526                                 & Elementary                            & DepED Managed                         & Kinder \\& Elementary                 & Combined Monograde and Multigrade     & P 15 M or more but less than P 25 M   & NA                                    & Rural                                 & 17.02946                              & 120.5818                             \\\\\n",
       "\\end{tabular}\n"
      ],
      "text/markdown": [
       "\n",
       "school.id | school.name | school.region | school.region.name | school.province | school.cityhall | school.division | school.citymuni | school.district | school.legdistrict | ⋯ | school.established | school.classification | school.classification2 | school.curricularclass | school.organization | school.cityincome | school.cityclass | school.urban | map.lat | map.lon | \n",
       "|---|---|---|---|---|---|\n",
       "| 101746                                | A. Diaz, Sr. ES                       | Region I                              | Ilocos Region                         | PANGASINAN                            | PANGASINAN                            | Pangasinan II, Binalonan              | BAUTISTA                              | Bautista                              | 5th District                          | ⋯                                     | 10959                                 | Elementary                            | DepED Managed                         | Elementary                            | Monograde                             | P 25 M or more but less than P 35 M   | NA                                    | Partially Urban                       | 15.79912                              | 120.4985                              | \n",
       "| 102193                                | A. P. Santos ES (SPED Center)         | Region I                              | Ilocos Region                         | ILOCOS NORTE                          | ILOCOS NORTE                          | Laoag City                            | LAOAG CITY (Capital)                  | Laoag City District II                | 1st District                          | ⋯                                     | 16072                                 | Elementary                            | DepED Managed                         | Kinder & Elementary                   | Monograde                             | P 240 M or more but less than P 320 M | Component City                        | Partially Urban                       | 18.19639                              | 120.5867                              | \n",
       "| 101283                                | A.P. Guevara IS                       | Region I                              | Ilocos Region                         | PANGASINAN                            | PANGASINAN                            | Pangasinan I, Lingayen                | BAYAMBANG                             | Bayambang II                          | 3rd District                          | ⋯                                     | 16438                                 | Elementary                            | DepED Managed                         | Elementary                            | Monograde                             | P 55 M or more                        | NA                                    | Partially Urban                       | 15.78016                              | 120.4605                              | \n",
       "| 100216                                | Ab-Abut ES                            | Region I                              | Ilocos Region                         | ILOCOS NORTE                          | ILOCOS NORTE                          | Ilocos Norte                          | PIDDIG                                | Piddig                                | 1st District                          | ⋯                                     | 23377                                 | Elementary                            | DepED Managed                         | Elementary                            | Monograde                             | P 35 M or more but less than P 45 M   | NA                                    | Partially Urban                       | 18.16887                              | 120.6954                              | \n",
       "| 100043                                | Abaca ES                              | Region I                              | Ilocos Region                         | ILOCOS NORTE                          | ILOCOS NORTE                          | Ilocos Norte                          | BANGUI                                | Bangui                                | 1st District                          | ⋯                                     | 28856                                 | Elementary                            | DepED Managed                         | Elementary                            | Monograde                             | P 25 M or more but less than P 35 M   | NA                                    | Partially Urban                       | 18.53194                              | 120.7559                              | \n",
       "| 100554                                | Abaccan ES                            | Region I                              | Ilocos Region                         | ILOCOS SUR                            | ILOCOS SUR                            | Ilocos Sur                            | SIGAY                                 | Salcedo-Galimuyod-Sigay-Del Pilar     | 2nd District                          | ⋯                                     | 36526                                 | Elementary                            | DepED Managed                         | Kinder & Elementary                   | Combined Monograde and Multigrade     | P 15 M or more but less than P 25 M   | NA                                    | Rural                                 | 17.02946                              | 120.5818                              | \n",
       "\n",
       "\n"
      ],
      "text/plain": [
       "  school.id school.name                   school.region school.region.name\n",
       "1 101746    A. Diaz, Sr. ES               Region I      Ilocos Region     \n",
       "2 102193    A. P. Santos ES (SPED Center) Region I      Ilocos Region     \n",
       "3 101283    A.P. Guevara IS               Region I      Ilocos Region     \n",
       "4 100216    Ab-Abut ES                    Region I      Ilocos Region     \n",
       "5 100043    Abaca ES                      Region I      Ilocos Region     \n",
       "6 100554    Abaccan ES                    Region I      Ilocos Region     \n",
       "  school.province school.cityhall school.division          school.citymuni     \n",
       "1 PANGASINAN      PANGASINAN      Pangasinan II, Binalonan BAUTISTA            \n",
       "2 ILOCOS NORTE    ILOCOS NORTE    Laoag City               LAOAG CITY (Capital)\n",
       "3 PANGASINAN      PANGASINAN      Pangasinan I, Lingayen   BAYAMBANG           \n",
       "4 ILOCOS NORTE    ILOCOS NORTE    Ilocos Norte             PIDDIG              \n",
       "5 ILOCOS NORTE    ILOCOS NORTE    Ilocos Norte             BANGUI              \n",
       "6 ILOCOS SUR      ILOCOS SUR      Ilocos Sur               SIGAY               \n",
       "  school.district                   school.legdistrict ⋯ school.established\n",
       "1 Bautista                          5th District       ⋯ 10959             \n",
       "2 Laoag City District II            1st District       ⋯ 16072             \n",
       "3 Bayambang II                      3rd District       ⋯ 16438             \n",
       "4 Piddig                            1st District       ⋯ 23377             \n",
       "5 Bangui                            1st District       ⋯ 28856             \n",
       "6 Salcedo-Galimuyod-Sigay-Del Pilar 2nd District       ⋯ 36526             \n",
       "  school.classification school.classification2 school.curricularclass\n",
       "1 Elementary            DepED Managed          Elementary            \n",
       "2 Elementary            DepED Managed          Kinder & Elementary   \n",
       "3 Elementary            DepED Managed          Elementary            \n",
       "4 Elementary            DepED Managed          Elementary            \n",
       "5 Elementary            DepED Managed          Elementary            \n",
       "6 Elementary            DepED Managed          Kinder & Elementary   \n",
       "  school.organization               school.cityincome                    \n",
       "1 Monograde                         P 25 M or more but less than P 35 M  \n",
       "2 Monograde                         P 240 M or more but less than P 320 M\n",
       "3 Monograde                         P 55 M or more                       \n",
       "4 Monograde                         P 35 M or more but less than P 45 M  \n",
       "5 Monograde                         P 25 M or more but less than P 35 M  \n",
       "6 Combined Monograde and Multigrade P 15 M or more but less than P 25 M  \n",
       "  school.cityclass school.urban    map.lat  map.lon \n",
       "1 NA               Partially Urban 15.79912 120.4985\n",
       "2 Component City   Partially Urban 18.19639 120.5867\n",
       "3 NA               Partially Urban 15.78016 120.4605\n",
       "4 NA               Partially Urban 18.16887 120.6954\n",
       "5 NA               Partially Urban 18.53194 120.7559\n",
       "6 NA               Rural           17.02946 120.5818"
      ]
     },
     "metadata": {},
     "output_type": "display_data"
    }
   ],
   "source": [
    "head(schools.dt)"
   ]
  },
  {
   "cell_type": "code",
   "execution_count": 30,
   "metadata": {
    "ExecuteTime": {
     "end_time": "2017-09-03T07:04:40.566051Z",
     "start_time": "2017-09-03T07:04:40.527Z"
    },
    "scrolled": true
   },
   "outputs": [
    {
     "data": {
      "text/html": [
       "<ol class=list-inline>\n",
       "\t<li>46603</li>\n",
       "\t<li>31</li>\n",
       "</ol>\n"
      ],
      "text/latex": [
       "\\begin{enumerate*}\n",
       "\\item 46603\n",
       "\\item 31\n",
       "\\end{enumerate*}\n"
      ],
      "text/markdown": [
       "1. 46603\n",
       "2. 31\n",
       "\n",
       "\n"
      ],
      "text/plain": [
       "[1] 46603    31"
      ]
     },
     "metadata": {},
     "output_type": "display_data"
    }
   ],
   "source": [
    "dim(schools.dt)"
   ]
  },
  {
   "cell_type": "code",
   "execution_count": 32,
   "metadata": {
    "ExecuteTime": {
     "end_time": "2017-09-03T07:05:09.891138Z",
     "start_time": "2017-09-03T07:05:09.065Z"
    },
    "collapsed": true
   },
   "outputs": [],
   "source": [
    "write.csv(schools.dt,file='school.csv')"
   ]
  },
  {
   "cell_type": "code",
   "execution_count": 33,
   "metadata": {
    "ExecuteTime": {
     "end_time": "2017-09-03T07:31:10.238398Z",
     "start_time": "2017-09-03T07:31:08.989Z"
    },
    "collapsed": true
   },
   "outputs": [],
   "source": [
    "#d3\n",
    "citymuni <- load('education-analytics/Data/D3 - CityMuni Data.RData')"
   ]
  },
  {
   "cell_type": "code",
   "execution_count": 34,
   "metadata": {
    "ExecuteTime": {
     "end_time": "2017-09-03T07:05:52.038672Z",
     "start_time": "2017-09-03T07:05:51.879Z"
    },
    "scrolled": true
   },
   "outputs": [
    {
     "data": {
      "text/html": [
       "<ol class=list-inline>\n",
       "\t<li>1634</li>\n",
       "\t<li>29</li>\n",
       "</ol>\n"
      ],
      "text/latex": [
       "\\begin{enumerate*}\n",
       "\\item 1634\n",
       "\\item 29\n",
       "\\end{enumerate*}\n"
      ],
      "text/markdown": [
       "1. 1634\n",
       "2. 29\n",
       "\n",
       "\n"
      ],
      "text/plain": [
       "[1] 1634   29"
      ]
     },
     "metadata": {},
     "output_type": "display_data"
    }
   ],
   "source": [
    "dim(citymuni.dt)"
   ]
  },
  {
   "cell_type": "code",
   "execution_count": 35,
   "metadata": {
    "ExecuteTime": {
     "end_time": "2017-09-03T07:09:16.274894Z",
     "start_time": "2017-09-03T07:09:16.221Z"
    },
    "collapsed": true
   },
   "outputs": [],
   "source": [
    "write.csv(citymuni.dt,file='citymuni.csv')"
   ]
  },
  {
   "cell_type": "code",
   "execution_count": 36,
   "metadata": {
    "ExecuteTime": {
     "end_time": "2017-09-03T07:31:10.238398Z",
     "start_time": "2017-09-03T07:31:08.989Z"
    },
    "collapsed": true
   },
   "outputs": [],
   "source": [
    "#d2\n",
    "school_expanded <- load('education-analytics/Data/D4 - Schools Data Expanded.RData')"
   ]
  },
  {
   "cell_type": "code",
   "execution_count": 45,
   "metadata": {
    "ExecuteTime": {
     "end_time": "2017-09-03T07:12:46.377543Z",
     "start_time": "2017-09-03T07:12:46.352Z"
    }
   },
   "outputs": [
    {
     "data": {
      "text/html": [
       "<ol class=list-inline>\n",
       "\t<li>'.Random.seed'</li>\n",
       "\t<li>'schools.dt'</li>\n",
       "</ol>\n"
      ],
      "text/latex": [
       "\\begin{enumerate*}\n",
       "\\item '.Random.seed'\n",
       "\\item 'schools.dt'\n",
       "\\end{enumerate*}\n"
      ],
      "text/markdown": [
       "1. '.Random.seed'\n",
       "2. 'schools.dt'\n",
       "\n",
       "\n"
      ],
      "text/plain": [
       "[1] \".Random.seed\" \"schools.dt\"  "
      ]
     },
     "metadata": {},
     "output_type": "display_data"
    }
   ],
   "source": [
    "school_expanded"
   ]
  },
  {
   "cell_type": "code",
   "execution_count": 38,
   "metadata": {
    "ExecuteTime": {
     "end_time": "2017-09-03T07:10:13.840452Z",
     "start_time": "2017-09-03T07:10:13.619Z"
    },
    "scrolled": true
   },
   "outputs": [
    {
     "data": {
      "text/html": [
       "<ol class=list-inline>\n",
       "\t<li>46603</li>\n",
       "\t<li>40</li>\n",
       "</ol>\n"
      ],
      "text/latex": [
       "\\begin{enumerate*}\n",
       "\\item 46603\n",
       "\\item 40\n",
       "\\end{enumerate*}\n"
      ],
      "text/markdown": [
       "1. 46603\n",
       "2. 40\n",
       "\n",
       "\n"
      ],
      "text/plain": [
       "[1] 46603    40"
      ]
     },
     "metadata": {},
     "output_type": "display_data"
    }
   ],
   "source": [
    "dim(schools.dt)"
   ]
  },
  {
   "cell_type": "code",
   "execution_count": 41,
   "metadata": {
    "ExecuteTime": {
     "end_time": "2017-09-03T07:32:09.116155Z",
     "start_time": "2017-09-03T07:32:09.087Z"
    },
    "collapsed": true
   },
   "outputs": [],
   "source": [
    "write.csv(schools.dt,file='school_expanded.csv')"
   ]
  },
  {
   "cell_type": "code",
   "execution_count": 42,
   "metadata": {
    "ExecuteTime": {
     "end_time": "2017-09-03T07:31:10.238398Z",
     "start_time": "2017-09-03T07:31:08.989Z"
    },
    "collapsed": true
   },
   "outputs": [],
   "source": [
    "#d2\n",
    "capacity <- load('education-analytics/Data/D5 - Capacity Data.RData')"
   ]
  },
  {
   "cell_type": "code",
   "execution_count": 43,
   "metadata": {
    "ExecuteTime": {
     "end_time": "2017-09-03T07:12:13.439319Z",
     "start_time": "2017-09-03T07:12:13.413Z"
    }
   },
   "outputs": [
    {
     "data": {
      "text/html": [
       "<ol class=list-inline>\n",
       "\t<li>'.Random.seed'</li>\n",
       "\t<li>'schools.dt'</li>\n",
       "</ol>\n"
      ],
      "text/latex": [
       "\\begin{enumerate*}\n",
       "\\item '.Random.seed'\n",
       "\\item 'schools.dt'\n",
       "\\end{enumerate*}\n"
      ],
      "text/markdown": [
       "1. '.Random.seed'\n",
       "2. 'schools.dt'\n",
       "\n",
       "\n"
      ],
      "text/plain": [
       "[1] \".Random.seed\" \"schools.dt\"  "
      ]
     },
     "metadata": {},
     "output_type": "display_data"
    }
   ],
   "source": [
    "capacity"
   ]
  },
  {
   "cell_type": "code",
   "execution_count": 44,
   "metadata": {
    "ExecuteTime": {
     "end_time": "2017-09-03T07:31:34.920147Z",
     "start_time": "2017-09-03T07:31:34.889Z"
    },
    "scrolled": true
   },
   "outputs": [
    {
     "data": {
      "text/html": [
       "<ol class=list-inline>\n",
       "\t<li>41713</li>\n",
       "\t<li>50</li>\n",
       "</ol>\n"
      ],
      "text/latex": [
       "\\begin{enumerate*}\n",
       "\\item 41713\n",
       "\\item 50\n",
       "\\end{enumerate*}\n"
      ],
      "text/markdown": [
       "1. 41713\n",
       "2. 50\n",
       "\n",
       "\n"
      ],
      "text/plain": [
       "[1] 41713    50"
      ]
     },
     "metadata": {},
     "output_type": "display_data"
    }
   ],
   "source": [
    "dim(schools.dt)"
   ]
  },
  {
   "cell_type": "code",
   "execution_count": 46,
   "metadata": {
    "ExecuteTime": {
     "end_time": "2017-09-03T07:32:09.116155Z",
     "start_time": "2017-09-03T07:32:09.087Z"
    },
    "collapsed": true
   },
   "outputs": [],
   "source": [
    "write.csv(schools.dt,file='capacity.csv')"
   ]
  },
  {
   "cell_type": "code",
   "execution_count": 47,
   "metadata": {
    "ExecuteTime": {
     "end_time": "2017-09-03T07:31:10.238398Z",
     "start_time": "2017-09-03T07:31:08.989Z"
    },
    "collapsed": true
   },
   "outputs": [],
   "source": [
    "#d2\n",
    "capacity_cluster <- load('education-analytics/Data/D6 - Capacity Clustering.RData')"
   ]
  },
  {
   "cell_type": "code",
   "execution_count": 48,
   "metadata": {
    "ExecuteTime": {
     "end_time": "2017-09-03T07:13:36.238428Z",
     "start_time": "2017-09-03T07:13:36.205Z"
    }
   },
   "outputs": [
    {
     "data": {
      "text/html": [
       "<ol class=list-inline>\n",
       "\t<li>'schools_seco.dt'</li>\n",
       "\t<li>'schools_elem_profiles.dt'</li>\n",
       "\t<li>'schools_seco_metrics.dt'</li>\n",
       "\t<li>'.Random.seed'</li>\n",
       "\t<li>'schools.dt'</li>\n",
       "\t<li>'schools_elem.dt'</li>\n",
       "\t<li>'ggplot_colors'</li>\n",
       "\t<li>'schools_elem_metrics.dt'</li>\n",
       "</ol>\n"
      ],
      "text/latex": [
       "\\begin{enumerate*}\n",
       "\\item 'schools\\_seco.dt'\n",
       "\\item 'schools\\_elem\\_profiles.dt'\n",
       "\\item 'schools\\_seco\\_metrics.dt'\n",
       "\\item '.Random.seed'\n",
       "\\item 'schools.dt'\n",
       "\\item 'schools\\_elem.dt'\n",
       "\\item 'ggplot\\_colors'\n",
       "\\item 'schools\\_elem\\_metrics.dt'\n",
       "\\end{enumerate*}\n"
      ],
      "text/markdown": [
       "1. 'schools_seco.dt'\n",
       "2. 'schools_elem_profiles.dt'\n",
       "3. 'schools_seco_metrics.dt'\n",
       "4. '.Random.seed'\n",
       "5. 'schools.dt'\n",
       "6. 'schools_elem.dt'\n",
       "7. 'ggplot_colors'\n",
       "8. 'schools_elem_metrics.dt'\n",
       "\n",
       "\n"
      ],
      "text/plain": [
       "[1] \"schools_seco.dt\"          \"schools_elem_profiles.dt\"\n",
       "[3] \"schools_seco_metrics.dt\"  \".Random.seed\"            \n",
       "[5] \"schools.dt\"               \"schools_elem.dt\"         \n",
       "[7] \"ggplot_colors\"            \"schools_elem_metrics.dt\" "
      ]
     },
     "metadata": {},
     "output_type": "display_data"
    }
   ],
   "source": [
    "capacity_cluster"
   ]
  },
  {
   "cell_type": "code",
   "execution_count": 72,
   "metadata": {
    "ExecuteTime": {
     "end_time": "2017-09-03T07:25:45.142926Z",
     "start_time": "2017-09-03T07:25:45.106Z"
    }
   },
   "outputs": [
    {
     "name": "stdout",
     "output_type": "stream",
     "text": [
      "[1] \"schools_seco.dt\"\n",
      "[1] \"schools_elem_profiles.dt\"\n",
      "[1] \"schools_seco_metrics.dt\"\n",
      "[1] \".Random.seed\"\n",
      "[1] \"schools.dt\"\n",
      "[1] \"schools_elem.dt\"\n",
      "[1] \"ggplot_colors\"\n",
      "[1] \"schools_elem_metrics.dt\"\n"
     ]
    }
   ],
   "source": [
    "for (dt in capacity_cluster){\n",
    "  print((toString(dt)), dim(dt))\n",
    "  #print(dim(dt)) \n",
    "}"
   ]
  },
  {
   "cell_type": "code",
   "execution_count": 76,
   "metadata": {
    "ExecuteTime": {
     "end_time": "2017-09-03T07:26:57.013179Z",
     "start_time": "2017-09-03T07:26:56.986Z"
    },
    "scrolled": true
   },
   "outputs": [
    {
     "data": {
      "text/html": [
       "<ol class=list-inline>\n",
       "\t<li>5865</li>\n",
       "\t<li>51</li>\n",
       "</ol>\n"
      ],
      "text/latex": [
       "\\begin{enumerate*}\n",
       "\\item 5865\n",
       "\\item 51\n",
       "\\end{enumerate*}\n"
      ],
      "text/markdown": [
       "1. 5865\n",
       "2. 51\n",
       "\n",
       "\n"
      ],
      "text/plain": [
       "[1] 5865   51"
      ]
     },
     "metadata": {},
     "output_type": "display_data"
    }
   ],
   "source": [
    "dim(schools_seco.dt)"
   ]
  },
  {
   "cell_type": "code",
   "execution_count": 79,
   "metadata": {
    "ExecuteTime": {
     "end_time": "2017-09-03T07:28:29.267084Z",
     "start_time": "2017-09-03T07:28:29.007Z"
    },
    "collapsed": true
   },
   "outputs": [],
   "source": [
    "write.csv(schools_seco.dt,file='schools_seco.csv')"
   ]
  },
  {
   "cell_type": "code",
   "execution_count": 77,
   "metadata": {
    "ExecuteTime": {
     "end_time": "2017-09-03T07:27:24.718939Z",
     "start_time": "2017-09-03T07:27:24.686Z"
    },
    "scrolled": false
   },
   "outputs": [
    {
     "data": {
      "text/html": [
       "<ol class=list-inline>\n",
       "\t<li>35848</li>\n",
       "\t<li>51</li>\n",
       "</ol>\n"
      ],
      "text/latex": [
       "\\begin{enumerate*}\n",
       "\\item 35848\n",
       "\\item 51\n",
       "\\end{enumerate*}\n"
      ],
      "text/markdown": [
       "1. 35848\n",
       "2. 51\n",
       "\n",
       "\n"
      ],
      "text/plain": [
       "[1] 35848    51"
      ]
     },
     "metadata": {},
     "output_type": "display_data"
    }
   ],
   "source": [
    "dim(schools_elem.dt)"
   ]
  },
  {
   "cell_type": "code",
   "execution_count": 78,
   "metadata": {
    "ExecuteTime": {
     "end_time": "2017-09-03T07:28:06.450428Z",
     "start_time": "2017-09-03T07:28:05.047Z"
    },
    "collapsed": true
   },
   "outputs": [],
   "source": [
    "write.csv(schools_elem.dt,file='schools_elem.csv')"
   ]
  },
  {
   "cell_type": "code",
   "execution_count": 68,
   "metadata": {
    "ExecuteTime": {
     "end_time": "2017-09-03T07:31:34.920147Z",
     "start_time": "2017-09-03T07:31:34.889Z"
    },
    "scrolled": true
   },
   "outputs": [
    {
     "data": {
      "text/html": [
       "<ol class=list-inline>\n",
       "\t<li>7</li>\n",
       "\t<li>4</li>\n",
       "</ol>\n"
      ],
      "text/latex": [
       "\\begin{enumerate*}\n",
       "\\item 7\n",
       "\\item 4\n",
       "\\end{enumerate*}\n"
      ],
      "text/markdown": [
       "1. 7\n",
       "2. 4\n",
       "\n",
       "\n"
      ],
      "text/plain": [
       "[1] 7 4"
      ]
     },
     "metadata": {},
     "output_type": "display_data"
    }
   ],
   "source": [
    "dim(schools_elem_profiles.dt)"
   ]
  },
  {
   "cell_type": "code",
   "execution_count": 73,
   "metadata": {
    "ExecuteTime": {
     "end_time": "2017-09-03T07:27:24.718939Z",
     "start_time": "2017-09-03T07:27:24.686Z"
    },
    "scrolled": true
   },
   "outputs": [
    {
     "data": {
      "text/html": [
       "<ol class=list-inline>\n",
       "\t<li>107544</li>\n",
       "\t<li>3</li>\n",
       "</ol>\n"
      ],
      "text/latex": [
       "\\begin{enumerate*}\n",
       "\\item 107544\n",
       "\\item 3\n",
       "\\end{enumerate*}\n"
      ],
      "text/markdown": [
       "1. 107544\n",
       "2. 3\n",
       "\n",
       "\n"
      ],
      "text/plain": [
       "[1] 107544      3"
      ]
     },
     "metadata": {},
     "output_type": "display_data"
    }
   ],
   "source": [
    "dim(schools_elem_metrics.dt)"
   ]
  },
  {
   "cell_type": "code",
   "execution_count": 68,
   "metadata": {
    "ExecuteTime": {
     "end_time": "2017-09-03T07:27:24.718939Z",
     "start_time": "2017-09-03T07:27:24.686Z"
    },
    "scrolled": true
   },
   "outputs": [
    {
     "data": {
      "text/html": [
       "<ol class=list-inline>\n",
       "\t<li>7</li>\n",
       "\t<li>4</li>\n",
       "</ol>\n"
      ],
      "text/latex": [
       "\\begin{enumerate*}\n",
       "\\item 7\n",
       "\\item 4\n",
       "\\end{enumerate*}\n"
      ],
      "text/markdown": [
       "1. 7\n",
       "2. 4\n",
       "\n",
       "\n"
      ],
      "text/plain": [
       "[1] 7 4"
      ]
     },
     "metadata": {},
     "output_type": "display_data"
    }
   ],
   "source": [
    "dim(schools_elem_profiles.dt)"
   ]
  },
  {
   "cell_type": "code",
   "execution_count": 80,
   "metadata": {
    "ExecuteTime": {
     "end_time": "2017-09-03T07:31:10.238398Z",
     "start_time": "2017-09-03T07:31:08.989Z"
    },
    "collapsed": true
   },
   "outputs": [],
   "source": [
    "#d2\n",
    "cluster_profile <- load('education-analytics/Data/D7 - Cluster Profiles.RData')"
   ]
  },
  {
   "cell_type": "code",
   "execution_count": 81,
   "metadata": {
    "ExecuteTime": {
     "end_time": "2017-09-03T07:31:14.688221Z",
     "start_time": "2017-09-03T07:31:14.647Z"
    }
   },
   "outputs": [
    {
     "data": {
      "text/html": [
       "<ol class=list-inline>\n",
       "\t<li>'schools_seco_profiles_formatted.dt'</li>\n",
       "\t<li>'schools_seco.dt'</li>\n",
       "\t<li>'.Random.seed'</li>\n",
       "\t<li>'schools_elem_profiles_formatted.dt'</li>\n",
       "\t<li>'schools.dt'</li>\n",
       "\t<li>'schools_elem.dt'</li>\n",
       "</ol>\n"
      ],
      "text/latex": [
       "\\begin{enumerate*}\n",
       "\\item 'schools\\_seco\\_profiles\\_formatted.dt'\n",
       "\\item 'schools\\_seco.dt'\n",
       "\\item '.Random.seed'\n",
       "\\item 'schools\\_elem\\_profiles\\_formatted.dt'\n",
       "\\item 'schools.dt'\n",
       "\\item 'schools\\_elem.dt'\n",
       "\\end{enumerate*}\n"
      ],
      "text/markdown": [
       "1. 'schools_seco_profiles_formatted.dt'\n",
       "2. 'schools_seco.dt'\n",
       "3. '.Random.seed'\n",
       "4. 'schools_elem_profiles_formatted.dt'\n",
       "5. 'schools.dt'\n",
       "6. 'schools_elem.dt'\n",
       "\n",
       "\n"
      ],
      "text/plain": [
       "[1] \"schools_seco_profiles_formatted.dt\" \"schools_seco.dt\"                   \n",
       "[3] \".Random.seed\"                       \"schools_elem_profiles_formatted.dt\"\n",
       "[5] \"schools.dt\"                         \"schools_elem.dt\"                   "
      ]
     },
     "metadata": {},
     "output_type": "display_data"
    }
   ],
   "source": [
    "cluster_profile"
   ]
  },
  {
   "cell_type": "code",
   "execution_count": 82,
   "metadata": {
    "ExecuteTime": {
     "end_time": "2017-09-03T07:31:34.920147Z",
     "start_time": "2017-09-03T07:31:34.889Z"
    },
    "scrolled": true
   },
   "outputs": [
    {
     "data": {
      "text/html": [
       "<ol class=list-inline>\n",
       "\t<li>6</li>\n",
       "\t<li>6</li>\n",
       "</ol>\n"
      ],
      "text/latex": [
       "\\begin{enumerate*}\n",
       "\\item 6\n",
       "\\item 6\n",
       "\\end{enumerate*}\n"
      ],
      "text/markdown": [
       "1. 6\n",
       "2. 6\n",
       "\n",
       "\n"
      ],
      "text/plain": [
       "[1] 6 6"
      ]
     },
     "metadata": {},
     "output_type": "display_data"
    }
   ],
   "source": [
    "dim(schools_seco_profiles_formatted.dt)"
   ]
  },
  {
   "cell_type": "code",
   "execution_count": 83,
   "metadata": {
    "ExecuteTime": {
     "end_time": "2017-09-03T07:31:43.043738Z",
     "start_time": "2017-09-03T07:31:43.009Z"
    },
    "scrolled": true
   },
   "outputs": [
    {
     "data": {
      "text/html": [
       "<ol class=list-inline>\n",
       "\t<li>6</li>\n",
       "\t<li>6</li>\n",
       "</ol>\n"
      ],
      "text/latex": [
       "\\begin{enumerate*}\n",
       "\\item 6\n",
       "\\item 6\n",
       "\\end{enumerate*}\n"
      ],
      "text/markdown": [
       "1. 6\n",
       "2. 6\n",
       "\n",
       "\n"
      ],
      "text/plain": [
       "[1] 6 6"
      ]
     },
     "metadata": {},
     "output_type": "display_data"
    }
   ],
   "source": [
    "dim(schools_elem_profiles_formatted.dt)"
   ]
  },
  {
   "cell_type": "code",
   "execution_count": 84,
   "metadata": {
    "ExecuteTime": {
     "end_time": "2017-09-03T07:32:09.116155Z",
     "start_time": "2017-09-03T07:32:09.087Z"
    },
    "collapsed": true
   },
   "outputs": [],
   "source": [
    "write.csv(schools_elem_profiles_formatted.dt,file='schools_elem_profiles_formatted.csv')"
   ]
  },
  {
   "cell_type": "code",
   "execution_count": 85,
   "metadata": {
    "ExecuteTime": {
     "end_time": "2017-09-03T07:32:21.220639Z",
     "start_time": "2017-09-03T07:32:21.189Z"
    },
    "collapsed": true
   },
   "outputs": [],
   "source": [
    "write.csv(schools_seco_profiles_formatted.dt,file='schools_seco_profiles_formatted.csv')"
   ]
  }
 ],
 "metadata": {
  "kernelspec": {
   "display_name": "R",
   "language": "R",
   "name": "ir"
  },
  "language_info": {
   "codemirror_mode": "r",
   "file_extension": ".r",
   "mimetype": "text/x-r-source",
   "name": "R",
   "pygments_lexer": "r",
   "version": "3.4.1"
  }
 },
 "nbformat": 4,
 "nbformat_minor": 2
}
